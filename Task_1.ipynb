{
 "cells": [
  {
   "cell_type": "markdown",
   "metadata": {},
   "source": [
    "# Задание 1\n",
    "\n",
    "(**NB.** для запуска примеров кода нужен Python версии не ниже **3.10**, допускается использование других версий, в этом случае нужно самостоятельно избавиться от конструкции `match`).\n",
    "\n",
    "Есть следующий код для [автоматического дифференцирования](https://en.wikipedia.org/wiki/Automatic_differentiation), в котором используются особенности системы типов языка `Python`: "
   ]
  },
  {
   "cell_type": "code",
   "execution_count": 205,
   "metadata": {},
   "outputs": [],
   "source": [
    "from dataclasses import dataclass\n",
    "from typing import Union, Callable\n",
    "from numbers import Number\n",
    "\n",
    "@dataclass\n",
    "class Dual:\n",
    "    value: float\n",
    "    d: float\n",
    "\n",
    "    def __add__(self, other: Union[\"Dual\", Number]) -> \"Dual\":\n",
    "         match other:\n",
    "            case Dual(o_value, o_d):\n",
    "                return Dual(self.value + o_value, self.d + o_d)\n",
    "            case Number():\n",
    "                return Dual(float(other) + self.value, self.d)\n",
    "\n",
    "    def __mul__(self, other: Union[\"Dual\", Number]) -> \"Dual\":\n",
    "         match other:\n",
    "            case Dual(o_value, o_d):\n",
    "                return Dual(self.value * o_value, self.value * o_d + self.d * o_value)\n",
    "            case Number():\n",
    "                return Dual(float(other) * self.value, float(other) * self.d)    \n",
    "\n",
    "    __rmul__ = __mul__  # https://docs.python.org/3/reference/datamodel.html#object.__mul__\n",
    "    __radd__ = __add__  # https://docs.python.org/3/reference/datamodel.html#object.__radd__\n",
    "\n",
    "    \n",
    "def diff(func: Callable[[float], float]) -> Callable[[float], float]:\n",
    "    return lambda x: func(Dual(x, 1.0)).d "
   ]
  },
  {
   "cell_type": "markdown",
   "metadata": {},
   "source": [
    "Поддерживаются две операции - сложение и умножение. Применить можно так:"
   ]
  },
  {
   "cell_type": "code",
   "execution_count": 206,
   "metadata": {},
   "outputs": [
    {
     "data": {
      "text/plain": [
       "22.0"
      ]
     },
     "execution_count": 206,
     "metadata": {},
     "output_type": "execute_result"
    }
   ],
   "source": [
    "# Функция, которую будем дифференцировать\n",
    "def f(x: float) -> float:\n",
    "    return 5 * x * x + 2 * x + 2\n",
    "\n",
    "f_diff = diff(f)\n",
    "\n",
    "# значение производной в точке x = 2\n",
    "f_diff(2)"
   ]
  },
  {
   "cell_type": "markdown",
   "metadata": {},
   "source": [
    "## Задание 1.1 (5 баллов)\n",
    "\n",
    "Какие недостатки вы видите в данной реализации? Реализуйте поддержку (полностью самостоятельно или модифицируя приведенный код):\n",
    "- [унарных операций](https://docs.python.org/3/reference/datamodel.html#object.__neg__) \n",
    "- деления\n",
    "- возведения в степень\n",
    "\n",
    "Каким образом можно проверить корректность решения?  Реализуйте достаточный, по вашему мнению, набор тестов."
   ]
  },
  {
   "cell_type": "code",
   "execution_count": 207,
   "metadata": {},
   "outputs": [],
   "source": [
    "# также нужно реализовать __sub__ и __rsub__\n",
    "\n",
    "@dataclass\n",
    "class Dual:\n",
    "    value: float\n",
    "    d: float\n",
    "\n",
    "    def __add__(self, other: Union[\"Dual\", Number]) -> \"Dual\":\n",
    "         match other:\n",
    "            case Dual(o_value, o_d):\n",
    "                return Dual(self.value + o_value, self.d + o_d)\n",
    "            case Number():\n",
    "                return Dual(float(other) + self.value, self.d)\n",
    "\n",
    "    def __mul__(self, other: Union[\"Dual\", Number]) -> \"Dual\":\n",
    "         match other:\n",
    "            case Dual(o_value, o_d):\n",
    "                return Dual(self.value * o_value, self.value * o_d + self.d * o_value)\n",
    "            case Number():\n",
    "                return Dual(float(other) * self.value, float(other) * self.d)    \n",
    "            \n",
    "    def __sub__(self, other: Union[\"Dual\", Number]) -> \"Dual\":\n",
    "        match other:\n",
    "            case Dual(o_value, o_d):\n",
    "                return Dual(self.value - o_value, self.d - o_d)\n",
    "            case Number():\n",
    "                return Dual(self.value - o_value, self.d)\n",
    "            \n",
    "    def __rsub__(self, other: Number) -> \"Dual\":\n",
    "        match other:\n",
    "            case Number():\n",
    "                return Dual(-self.value + other, -self.d)\n",
    "    \n",
    "    def __neg__(self) -> \"Dual\":\n",
    "        return Dual(-self.value, -self.d)\n",
    "    \n",
    "    def __pos__(self) -> \"Dual\":\n",
    "        return Dual(self.value, self.d)\n",
    "    \n",
    "    def __abs__(self) -> \"Dual\":\n",
    "        return Dual(abs(self.value), float(bool(self.value > 0) - bool(self.value < 0))) # -1 when self.value < 0\n",
    "                                                                                         #  1 when self.value > 0\n",
    "    def __truediv__(self, other: Union[\"Dual\", Number]) -> \"Dual\":\n",
    "        match other:\n",
    "            case Dual(o_value, o_d):\n",
    "                return Dual(float(self.value) / float(o_value), \n",
    "                            (self.d * o_value - o_d * self.value) / (o_value * o_value))\n",
    "            case Number():\n",
    "                return Dual(self.value / float(other), self.d / float(other))\n",
    "            \n",
    "    def __rtruediv__(self, other: Number) -> \"Dual\":\n",
    "        match other:\n",
    "            case Number():\n",
    "                return Dual(float(other) / self.value, -float(other) * self.d / (self.value * self.value))\n",
    "            \n",
    "    def __pow__(self, other: Union[\"Dual\", Number]) -> \"Dual\":\n",
    "        match other:\n",
    "            case Dual():\n",
    "                raise TypeError(\"unsupported yet :/\")\n",
    "            case Number():\n",
    "                return Dual(pow(self.value, other), float(self.d * other * pow(self.value, other - 1)))\n",
    "\n",
    "    __rmul__ = __mul__  # https://docs.python.org/3/reference/datamodel.html#object.__mul__\n",
    "    __radd__ = __add__  # https://docs.python.org/3/reference/datamodel.html#object.__radd__"
   ]
  },
  {
   "cell_type": "code",
   "execution_count": 208,
   "metadata": {},
   "outputs": [],
   "source": [
    "import numpy as np\n",
    "\n",
    "f_neg = lambda x: 2 * (-x)\n",
    "f_neg_diff = diff(f_neg)\n",
    "assert np.isclose(f_neg_diff(1), -2), \"__neg__ method implemented wrong\"\n",
    "\n",
    "f_abs = lambda x: abs(x)\n",
    "f_abs_diff = diff(f_abs)\n",
    "assert np.isclose(f_abs_diff(2), 1), \"__abs__ method implemented wrong\"\n",
    "\n",
    "f_truediv1 = lambda x: x / 10\n",
    "f_truediv1_diff = diff(f_truediv1)\n",
    "assert np.isclose(f_truediv1_diff(1), 1/10), \"__truediv__ method implemented wrong\"\n",
    "\n",
    "f_truediv2 = lambda x: (2 * x) / (x ** 2)\n",
    "f_truediv2_diff = diff(f_truediv2)\n",
    "assert np.isclose(f_truediv2_diff(1), -2), \"__truediv__ method implemented wrong\"\n",
    "\n",
    "f_rtruediv = lambda x: 10 / x\n",
    "f_rtruediv_diff = diff(f_rtruediv)\n",
    "assert np.isclose(f_rtruediv_diff(1), -10), \"__rtruediv__ method implemented wrong\"\n",
    "\n",
    "f_pow = lambda x: x ** 2\n",
    "f_pow_diff = diff(f_pow)\n",
    "assert np.isclose(f_pow_diff(1), 2), \"__pow__ method implemented wrong\"\n",
    "\n",
    "f_general = lambda x: (-x + 1)**2 + (2 * x) / (3 * x ** 3) + (1 / x) + x / 10 + 10 * abs(x)\n",
    "f_general_diff = diff(f_general)\n",
    "assert np.isclose(f_general_diff(2), 701 / 60), \"something went wrong\""
   ]
  },
  {
   "cell_type": "markdown",
   "metadata": {},
   "source": [
    "## Задание 1.2 (7 баллов)\n",
    "Придумайте способ и реализуйте поддержку функций:\n",
    "- `exp()`\n",
    "- `cos()`\n",
    "- `sin()`\n",
    "- `log()`\n",
    "\n",
    "Добавьте соответствующие тесты"
   ]
  },
  {
   "cell_type": "code",
   "execution_count": 209,
   "metadata": {},
   "outputs": [],
   "source": [
    "import math\n",
    "            \n",
    "def exp(x: Union[\"Dual\", Number]) -> \"Dual\":\n",
    "    match x:\n",
    "        case Dual():\n",
    "            return Dual(math.exp(x.value), x.d * math.exp(x.value))\n",
    "        case Number():\n",
    "            return Dual(math.exp(x), 0)\n",
    "    return Dual(self.value, self.d)\n",
    "\n",
    "def cos(x: Union[\"Dual\", Number]) -> \"Dual\":\n",
    "    match x:\n",
    "        case Dual():\n",
    "            return Dual(math.cos(x.value), -x.d * math.sin(x.value))\n",
    "        case Number():\n",
    "            return Dual(math.cos(x), 0)\n",
    "\n",
    "def sin(x: Union[\"Dual\", Number]) -> \"Dual\":\n",
    "    match x:\n",
    "        case Dual():\n",
    "            return Dual(math.sin(x.value), x.d * math.cos(x.value))\n",
    "        case Number():\n",
    "            return Dual(math.sin(x), 0)\n",
    "        \n",
    "def log(x: Union[\"Dual\", Number], base: float = math.e) -> \"Dual\":\n",
    "    match x:\n",
    "        case Dual():\n",
    "            return Dual(math.log(x.value, base), x.d / (x.value * math.log(base)))\n",
    "        case Number():\n",
    "            return Dual(math.log(x, base), 0)"
   ]
  },
  {
   "cell_type": "code",
   "execution_count": 225,
   "metadata": {},
   "outputs": [],
   "source": [
    "f_exp = lambda x: exp(2) * x + exp(x)\n",
    "f_exp_diff = diff(f_exp)\n",
    "assert np.isclose(f_exp_diff(2), math.exp(2) + math.exp(2)), \"exp implemented wrong\"\n",
    "\n",
    "f_cos = lambda x: cos(0) * x + cos(x)\n",
    "f_cos_diff = diff(f_cos)\n",
    "assert np.isclose(f_cos_diff(math.pi/2), 1 - math.sin(math.pi/2)), \"cos implemented wrong\"\n",
    "\n",
    "f_sin = lambda x: sin(0) * x + sin(x)\n",
    "f_sin_diff = diff(f_sin)\n",
    "assert np.isclose(f_sin_diff(0), 0 + math.cos(0)), \"sin implemented wrong\"\n",
    "\n",
    "f_log = lambda x: log(8, 2) * x + log(x, math.e)\n",
    "f_log_diff = diff(f_log)\n",
    "assert np.isclose(f_log_diff(2), math.log(8, 2) + 1 / 2), \"log implemented wrong\"\n",
    "\n",
    "f_general2 = lambda x: 2 * exp(x) / x - log(x) + 1 / cos(x) + sin(x) * cos(x)\n",
    "f_general2_diff = diff(f_general2)\n",
    "assert np.isclose(f_general2_diff(1),\n",
    "                  -1 + math.sin(1) / pow(math.cos(1), 2) + pow(math.cos(1), 2) - pow(math.sin(1), 2)), \"something went wrong\"\n",
    "\n",
    "f_comp = lambda x: exp(cos(x)) + 2 * log(sin(x))\n",
    "f_comp_diff = diff(f_comp)\n",
    "assert np.isclose(f_comp_diff(1), 2 / math.tan(1) - pow(math.e, math.cos(1)) * math.sin(1)), \"composition is wrong\""
   ]
  },
  {
   "cell_type": "markdown",
   "metadata": {},
   "source": [
    "## Задание 1.3 (3 балла)\n",
    "\n",
    "Воспользуйтесь методами **численного** дифференцирования для \"проверки\" работы кода на нескольких примерах. Например,  библиотеке `scipy` есть функция `derivative`. Или реализуйте какой-нибудь метод численного дифференцирования самостоятельно (**+5 баллов**)"
   ]
  },
  {
   "cell_type": "code",
   "execution_count": 100,
   "metadata": {},
   "outputs": [
    {
     "data": {
      "text/plain": [
       "22.0"
      ]
     },
     "execution_count": 100,
     "metadata": {},
     "output_type": "execute_result"
    }
   ],
   "source": [
    "from scipy.misc import derivative\n",
    "\n",
    "def f(x: float) -> float:\n",
    "    return 5 * x * x + 2 * x + 2\n",
    "\n",
    "derivative(f, 2.)"
   ]
  },
  {
   "cell_type": "code",
   "execution_count": 177,
   "metadata": {},
   "outputs": [],
   "source": [
    "def my_derivative(func: Callable[[float], float], value: float) -> float:\n",
    "    dx = 1e-6\n",
    "    f_left = func(Dual(value + dx, 1.0)).value\n",
    "    f_right = func(Dual(value - dx, 1.0)).value\n",
    "    return (f_left - f_right) / (2 * dx)"
   ]
  },
  {
   "cell_type": "code",
   "execution_count": 269,
   "metadata": {},
   "outputs": [],
   "source": [
    "f_check1 = lambda x: 5 * x ** 2 + 2 * x + 2\n",
    "f_check1_diff = diff(f_check1)\n",
    "assert np.isclose(f_check1_diff(10), my_derivative(f_check1, 10)), \"not equal\"\n",
    "\n",
    "f_check2 = lambda x: exp(x ** 2) + cos(sin(x))\n",
    "f_check2_diff = diff(f_check2)\n",
    "assert np.isclose(f_check2_diff(5), my_derivative(f_check2, 5)), \"not equal\"\n",
    "\n",
    "f_check3 = lambda x: 2 / exp(pow(cos(x), 2)) - log(x**2 + 2*x, 2)\n",
    "f_check3_diff = diff(f_check3)\n",
    "assert np.isclose(f_check3_diff(5), my_derivative(f_check3, 5)), \"not equal\""
   ]
  },
  {
   "cell_type": "code",
   "execution_count": 110,
   "metadata": {},
   "outputs": [
    {
     "data": {
      "text/plain": [
       "-14.0"
      ]
     },
     "execution_count": 110,
     "metadata": {},
     "output_type": "execute_result"
    }
   ],
   "source": [
    "def h(x: float) -> float:\n",
    "    return x + 5 * x - cos(20 * log(12 - 20 * x * x)) - 20 * x\n",
    "\n",
    "h_diff = diff(h)\n",
    "h_diff(0)"
   ]
  },
  {
   "cell_type": "markdown",
   "metadata": {},
   "source": [
    "## Задание 1.4 (10 баллов)\n",
    "\n",
    "Необходимо разработать систему автоматического тестирования алгоритма дифференцирования в следующем виде:\n",
    "- реализовать механизм генерации \"случайных функций\" (например, что-то вроде такого: $f(x) = x + 5 * x - \\cos(20 * \\log(12 - 20 * x * x )) - 20 * x$ )\n",
    "- сгенерировать достаточно большое число функций и сравнить результаты символьного и численного дифференцирования в случайных точках "
   ]
  },
  {
   "cell_type": "markdown",
   "metadata": {},
   "source": [
    "Генерацию случайных функций можно осуществить, например, двумя путями. \n",
    "1. Генерировать функцию в текстовом виде, зачем использовать встроенную функцию [eval](https://docs.python.org/3/library/functions.html#eval)\n",
    "\n",
    "```python\n",
    "func = eval(\"lambda x: 2 * x + 5\")\n",
    "assert func(42) == 89 \n",
    "```\n",
    "\n",
    "2. Использовать стандартный модуль [ast](https://docs.python.org/3/library/ast.html), который позволяет во время выполнения программы манипулировать [Абстрактным Синтаксическим Деревом](https://ru.wikipedia.org/wiki/%D0%90%D0%B1%D1%81%D1%82%D1%80%D0%B0%D0%BA%D1%82%D0%BD%D0%BE%D0%B5_%D1%81%D0%B8%D0%BD%D1%82%D0%B0%D0%BA%D1%81%D0%B8%D1%87%D0%B5%D1%81%D0%BA%D0%BE%D0%B5_%D0%B4%D0%B5%D1%80%D0%B5%D0%B2%D0%BE).\n",
    "Например, выражение \n",
    "\n",
    "```python\n",
    "func = lambda x: 2 * x + 5\n",
    "```\n",
    "\n",
    "Можно запрограммировать с помощью кода:\n",
    "\n",
    "```python\n",
    "\n",
    "expr = ast.Expression(\n",
    "    body=ast.Lambda(\n",
    "        args=ast.arguments(\n",
    "            args=[\n",
    "                ast.arg(arg='x')\n",
    "            ],\n",
    "            posonlyargs=[],\n",
    "            kwonlyargs=[],\n",
    "            kw_defaults=[],\n",
    "            defaults=[]\n",
    "        ),\n",
    "        body=ast.BinOp(\n",
    "            left=ast.BinOp(\n",
    "                left=ast.Constant(value=2),\n",
    "                op=ast.Mult(),\n",
    "                right=ast.Name(id='x', ctx=ast.Load())\n",
    "            ),\n",
    "            op=ast.Add(),\n",
    "            right=ast.Constant(value=5)\n",
    "        )\n",
    "    )\n",
    ")\n",
    "\n",
    "ast.fix_missing_locations(expr)\n",
    "\n",
    "func = eval(compile(expr, filename=\"\", mode=\"eval\"))\n",
    "\n",
    "assert func(42) == 89\n",
    "```\n",
    "\n",
    "При реализации нужно учитывать области допустимых значений функций."
   ]
  },
  {
   "cell_type": "code",
   "execution_count": null,
   "metadata": {},
   "outputs": [],
   "source": [
    "# ваш код"
   ]
  },
  {
   "cell_type": "markdown",
   "metadata": {},
   "source": [
    "## Задание 1.5 (7 баллов)\n",
    "\n",
    "Реализуйте поддержку функций нескольких аргументов. Например\n",
    "\n",
    "```python\n",
    "def f(x: float, y: float, z: float) -> float:\n",
    "    return x * y + z - 5 * y  \n",
    "\n",
    "\n",
    "f_diff = diff(f)\n",
    "\n",
    "f_diff(10, 10, 10) # = [10, 5, 1]\n",
    "```"
   ]
  },
  {
   "cell_type": "code",
   "execution_count": null,
   "metadata": {},
   "outputs": [],
   "source": [
    "# ваш код"
   ]
  }
 ],
 "metadata": {
  "kernelspec": {
   "display_name": "Python 3 (ipykernel)",
   "language": "python",
   "name": "python3"
  },
  "language_info": {
   "codemirror_mode": {
    "name": "ipython",
    "version": 3
   },
   "file_extension": ".py",
   "mimetype": "text/x-python",
   "name": "python",
   "nbconvert_exporter": "python",
   "pygments_lexer": "ipython3",
   "version": "3.10.6"
  },
  "vscode": {
   "interpreter": {
    "hash": "916dbcbb3f70747c44a77c7bcd40155683ae19c65e1c03b4aa3499c5328201f1"
   }
  }
 },
 "nbformat": 4,
 "nbformat_minor": 2
}
