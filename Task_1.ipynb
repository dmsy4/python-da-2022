{
 "cells": [
  {
   "cell_type": "markdown",
   "metadata": {},
   "source": [
    "# Задание 1\n",
    "\n",
    "(**NB.** для запуска примеров кода нужен Python версии не ниже **3.10**, допускается использование других версий, в этом случае нужно самостоятельно избавиться от конструкции `match`).\n",
    "\n",
    "Есть следующий код для [автоматического дифференцирования](https://en.wikipedia.org/wiki/Automatic_differentiation), в котором используются особенности системы типов языка `Python`: "
   ]
  },
  {
   "cell_type": "code",
   "execution_count": 1,
   "metadata": {},
   "outputs": [],
   "source": [
    "from dataclasses import dataclass\n",
    "from typing import Union, Callable, List\n",
    "from numbers import Number\n",
    "\n",
    "@dataclass\n",
    "class Dual:\n",
    "    value: float\n",
    "    d: float\n",
    "\n",
    "    def __add__(self, other: Union[\"Dual\", Number]) -> \"Dual\":\n",
    "         match other:\n",
    "            case Dual(o_value, o_d):\n",
    "                return Dual(self.value + o_value, self.d + o_d)\n",
    "            case Number():\n",
    "                return Dual(float(other) + self.value, self.d)\n",
    "\n",
    "    def __mul__(self, other: Union[\"Dual\", Number]) -> \"Dual\":\n",
    "         match other:\n",
    "            case Dual(o_value, o_d):\n",
    "                return Dual(self.value * o_value, self.value * o_d + self.d * o_value)\n",
    "            case Number():\n",
    "                return Dual(float(other) * self.value, float(other) * self.d)    \n",
    "\n",
    "    __rmul__ = __mul__  # https://docs.python.org/3/reference/datamodel.html#object.__mul__\n",
    "    __radd__ = __add__  # https://docs.python.org/3/reference/datamodel.html#object.__radd__\n",
    "\n",
    "    \n",
    "def diff(func: Callable[[float], float]) -> Callable[[float], float]:\n",
    "    return lambda x: func(Dual(x, 1.0)).d "
   ]
  },
  {
   "cell_type": "markdown",
   "metadata": {},
   "source": [
    "Поддерживаются две операции - сложение и умножение. Применить можно так:"
   ]
  },
  {
   "cell_type": "code",
   "execution_count": 2,
   "metadata": {},
   "outputs": [
    {
     "data": {
      "text/plain": [
       "22.0"
      ]
     },
     "execution_count": 2,
     "metadata": {},
     "output_type": "execute_result"
    }
   ],
   "source": [
    "# Функция, которую будем дифференцировать\n",
    "def f(x: float) -> float:\n",
    "    return 5 * x * x + 2 * x + 2\n",
    "\n",
    "f_diff = diff(f)\n",
    "\n",
    "# значение производной в точке x = 2\n",
    "f_diff(2)"
   ]
  },
  {
   "cell_type": "markdown",
   "metadata": {},
   "source": [
    "## Задание 1.1 (5 баллов)\n",
    "\n",
    "Какие недостатки вы видите в данной реализации? Реализуйте поддержку (полностью самостоятельно или модифицируя приведенный код):\n",
    "- [унарных операций](https://docs.python.org/3/reference/datamodel.html#object.__neg__) \n",
    "- деления\n",
    "- возведения в степень\n",
    "\n",
    "Каким образом можно проверить корректность решения?  Реализуйте достаточный, по вашему мнению, набор тестов."
   ]
  },
  {
   "cell_type": "code",
   "execution_count": 3,
   "metadata": {},
   "outputs": [],
   "source": [
    "# также нужно реализовать __sub__ и __rsub__\n",
    "\n",
    "@dataclass\n",
    "class Dual:\n",
    "    value: float\n",
    "    d: float\n",
    "\n",
    "    def __add__(self, other: Union[\"Dual\", Number]) -> \"Dual\":\n",
    "         match other:\n",
    "            case Dual(o_value, o_d):\n",
    "                return Dual(self.value + o_value, self.d + o_d)\n",
    "            case Number():\n",
    "                return Dual(float(other) + self.value, self.d)\n",
    "\n",
    "    def __mul__(self, other: Union[\"Dual\", Number]) -> \"Dual\":\n",
    "         match other:\n",
    "            case Dual(o_value, o_d):\n",
    "                return Dual(self.value * o_value, self.value * o_d + self.d * o_value)\n",
    "            case Number():\n",
    "                return Dual(float(other) * self.value, float(other) * self.d)    \n",
    "            \n",
    "    def __sub__(self, other: Union[\"Dual\", Number]) -> \"Dual\":\n",
    "        match other:\n",
    "            case Dual(o_value, o_d):\n",
    "                return Dual(self.value - o_value, self.d - o_d)\n",
    "            case Number():\n",
    "                return Dual(self.value - other, self.d)\n",
    "            \n",
    "    def __rsub__(self, other: Number) -> \"Dual\":\n",
    "        match other:\n",
    "            case Number():\n",
    "                return Dual(-self.value + other, -self.d)\n",
    "    \n",
    "    def __neg__(self) -> \"Dual\":\n",
    "        return Dual(-self.value, -self.d)\n",
    "    \n",
    "    def __pos__(self) -> \"Dual\":\n",
    "        return Dual(self.value, self.d)\n",
    "    \n",
    "    def __abs__(self) -> \"Dual\":\n",
    "        return Dual(abs(self.value), float(bool(self.value > 0) - bool(self.value < 0))) # -1 when self.value < 0\n",
    "                                                                                         #  1 when self.value > 0\n",
    "    def __truediv__(self, other: Union[\"Dual\", Number]) -> \"Dual\":\n",
    "        match other:\n",
    "            case Dual(o_value, o_d):\n",
    "                return Dual(self.value / float(o_value), \n",
    "                            (self.d * o_value - o_d * self.value) / (o_value * o_value))\n",
    "            case Number():\n",
    "                return Dual(self.value / float(other), self.d / float(other))\n",
    "            \n",
    "    def __rtruediv__(self, other: Number) -> \"Dual\":\n",
    "        match other:\n",
    "            case Number():\n",
    "                return Dual(float(other) / self.value, -float(other) * self.d / (self.value * self.value))\n",
    "            \n",
    "    def __pow__(self, other: Union[\"Dual\", Number]) -> \"Dual\":\n",
    "        match other:\n",
    "            case Dual():\n",
    "                raise TypeError(\"unsupported\")\n",
    "            case Number():\n",
    "                return Dual(pow(self.value, other), float(self.d * other * pow(self.value, other - 1)))\n",
    "            \n",
    "    def __rpow__(self, other: Union[\"Dual\", Number]) -> \"Dual\":\n",
    "        match other:\n",
    "            case Dual():\n",
    "                raise TypeError(\"unsupported\")\n",
    "            case Number():\n",
    "                return Dual(pow(other, self.value), math.log(float(other), math.e) * pow(float(other), self.value))\n",
    "                \n",
    "    __rmul__ = __mul__  # https://docs.python.org/3/reference/datamodel.html#object.__mul__\n",
    "    __radd__ = __add__  # https://docs.python.org/3/reference/datamodel.html#object.__radd__"
   ]
  },
  {
   "cell_type": "code",
   "execution_count": 4,
   "metadata": {},
   "outputs": [],
   "source": [
    "import numpy as np\n",
    "\n",
    "f_neg = lambda x: 2 * (-x)\n",
    "f_neg_diff = diff(f_neg)\n",
    "assert np.isclose(f_neg_diff(1), -2), \"__neg__ method implemented wrong\"\n",
    "\n",
    "f_abs = lambda x: abs(x)\n",
    "f_abs_diff = diff(f_abs)\n",
    "assert np.isclose(f_abs_diff(2), 1), \"__abs__ method implemented wrong\"\n",
    "\n",
    "f_truediv1 = lambda x: x / 10\n",
    "f_truediv1_diff = diff(f_truediv1)\n",
    "assert np.isclose(f_truediv1_diff(1), 1/10), \"__truediv__ method implemented wrong\"\n",
    "\n",
    "f_truediv2 = lambda x: (2 * x) / (x ** 2)\n",
    "f_truediv2_diff = diff(f_truediv2)\n",
    "assert np.isclose(f_truediv2_diff(1), -2), \"__truediv__ method implemented wrong\"\n",
    "\n",
    "f_rtruediv = lambda x: 10 / x\n",
    "f_rtruediv_diff = diff(f_rtruediv)\n",
    "assert np.isclose(f_rtruediv_diff(1), -10), \"__rtruediv__ method implemented wrong\"\n",
    "\n",
    "f_pow = lambda x: x ** 2\n",
    "f_pow_diff = diff(f_pow)\n",
    "assert np.isclose(f_pow_diff(1), 2), \"__pow__ method implemented wrong\"\n",
    "\n",
    "f_general = lambda x: (-x + 1)**2 + (2 * x) / (3 * x ** 3) + (1 / x) + x / 10 + 10 * abs(x)\n",
    "f_general_diff = diff(f_general)\n",
    "assert np.isclose(f_general_diff(2), 701 / 60), \"something went wrong\""
   ]
  },
  {
   "cell_type": "markdown",
   "metadata": {},
   "source": [
    "## Задание 1.2 (7 баллов)\n",
    "Придумайте способ и реализуйте поддержку функций:\n",
    "- `exp()`\n",
    "- `cos()`\n",
    "- `sin()`\n",
    "- `log()`\n",
    "\n",
    "Добавьте соответствующие тесты"
   ]
  },
  {
   "cell_type": "code",
   "execution_count": 5,
   "metadata": {},
   "outputs": [],
   "source": [
    "import math\n",
    "            \n",
    "def exp(x: Union[\"Dual\", Number]) -> \"Dual\":\n",
    "    match x:\n",
    "        case Dual():\n",
    "            return Dual(math.exp(x.value), x.d * math.exp(x.value))\n",
    "        case Number():\n",
    "            return Dual(math.exp(x), 0)\n",
    "    return Dual(self.value, self.d)\n",
    "\n",
    "def cos(x: Union[\"Dual\", Number]) -> \"Dual\":\n",
    "    match x:\n",
    "        case Dual():\n",
    "            return Dual(math.cos(x.value), -x.d * math.sin(x.value))\n",
    "        case Number():\n",
    "            return Dual(math.cos(x), 0)\n",
    "\n",
    "def sin(x: Union[\"Dual\", Number]) -> \"Dual\":\n",
    "    match x:\n",
    "        case Dual():\n",
    "            return Dual(math.sin(x.value), x.d * math.cos(x.value))\n",
    "        case Number():\n",
    "            return Dual(math.sin(x), 0)\n",
    "        \n",
    "def log(x: Union[\"Dual\", Number], base: float = math.e) -> \"Dual\":\n",
    "    match x:\n",
    "        case Dual():\n",
    "            return Dual(math.log(x.value, base), x.d / (x.value * math.log(base)))\n",
    "        case Number():\n",
    "            return Dual(math.log(x, base), 0)"
   ]
  },
  {
   "cell_type": "code",
   "execution_count": 6,
   "metadata": {},
   "outputs": [],
   "source": [
    "f_exp = lambda x: exp(2) * x + exp(x)\n",
    "f_exp_diff = diff(f_exp)\n",
    "assert np.isclose(f_exp_diff(2), math.exp(2) + math.exp(2)), \"exp implemented wrong\"\n",
    "\n",
    "f_cos = lambda x: cos(0) * x + cos(x)\n",
    "f_cos_diff = diff(f_cos)\n",
    "assert np.isclose(f_cos_diff(math.pi/2), 1 - math.sin(math.pi/2)), \"cos implemented wrong\"\n",
    "\n",
    "f_sin = lambda x: sin(0) * x + sin(x)\n",
    "f_sin_diff = diff(f_sin)\n",
    "assert np.isclose(f_sin_diff(0), 0 + math.cos(0)), \"sin implemented wrong\"\n",
    "\n",
    "f_log = lambda x: log(8, 2) * x + log(x, math.e)\n",
    "f_log_diff = diff(f_log)\n",
    "assert np.isclose(f_log_diff(2), math.log(8, 2) + 1 / 2), \"log implemented wrong\"\n",
    "\n",
    "f_general2 = lambda x: 2 * exp(x) / x - log(x) + 1 / cos(x) + sin(x) * cos(x)\n",
    "f_general2_diff = diff(f_general2)\n",
    "assert np.isclose(f_general2_diff(1),\n",
    "                  -1 + math.sin(1) / pow(math.cos(1), 2) + pow(math.cos(1), 2) - pow(math.sin(1), 2)), \"something went wrong\"\n",
    "\n",
    "f_comp = lambda x: exp(cos(x)) + 2 * log(sin(x))\n",
    "f_comp_diff = diff(f_comp)\n",
    "assert np.isclose(f_comp_diff(1), 2 / math.tan(1) - pow(math.e, math.cos(1)) * math.sin(1)), \"composition is wrong\""
   ]
  },
  {
   "cell_type": "markdown",
   "metadata": {},
   "source": [
    "## Задание 1.3 (3 балла)\n",
    "\n",
    "Воспользуйтесь методами **численного** дифференцирования для \"проверки\" работы кода на нескольких примерах. Например,  библиотеке `scipy` есть функция `derivative`. Или реализуйте какой-нибудь метод численного дифференцирования самостоятельно (**+5 баллов**)"
   ]
  },
  {
   "cell_type": "code",
   "execution_count": 7,
   "metadata": {},
   "outputs": [
    {
     "data": {
      "text/plain": [
       "22.0"
      ]
     },
     "execution_count": 7,
     "metadata": {},
     "output_type": "execute_result"
    }
   ],
   "source": [
    "from scipy.misc import derivative\n",
    "\n",
    "def f(x: float) -> float:\n",
    "    return 5 * x * x + 2 * x + 2\n",
    "\n",
    "derivative(f, 2.)"
   ]
  },
  {
   "cell_type": "code",
   "execution_count": 8,
   "metadata": {},
   "outputs": [],
   "source": [
    "def my_derivative(func: Callable[[float], float], value: float) -> float:\n",
    "    dx = 1e-8\n",
    "    f_left = func(Dual(value + dx, 1.0)).value\n",
    "    f_right = func(Dual(value - dx, 1.0)).value\n",
    "    return (f_left - f_right) / (2 * dx)"
   ]
  },
  {
   "cell_type": "code",
   "execution_count": 9,
   "metadata": {},
   "outputs": [],
   "source": [
    "f_check1 = lambda x: 5 * x ** 2 + 2 * x + 2\n",
    "f_check1_diff = diff(f_check1)\n",
    "assert np.isclose(f_check1_diff(10), my_derivative(f_check1, 10)), \"not equal\"\n",
    "\n",
    "f_check2 = lambda x: exp(x ** 2) + cos(sin(x))\n",
    "f_check2_diff = diff(f_check2)\n",
    "assert np.isclose(f_check2_diff(5), my_derivative(f_check2, 5)), \"not equal\"\n",
    "\n",
    "f_check3 = lambda x: 2 / exp(pow(cos(x), 2)) - log(x**2 + 2*x, 2)\n",
    "f_check3_diff = diff(f_check3)\n",
    "assert np.isclose(f_check3_diff(5), my_derivative(f_check3, 5)), \"not equal\""
   ]
  },
  {
   "cell_type": "markdown",
   "metadata": {},
   "source": [
    "## Задание 1.4 (10 баллов)\n",
    "\n",
    "Необходимо разработать систему автоматического тестирования алгоритма дифференцирования в следующем виде:\n",
    "- реализовать механизм генерации \"случайных функций\" (например, что-то вроде такого: $f(x) = x + 5 * x - \\cos(20 * \\log(12 - 20 * x * x )) - 20 * x$ )\n",
    "- сгенерировать достаточно большое число функций и сравнить результаты символьного и численного дифференцирования в случайных точках "
   ]
  },
  {
   "cell_type": "markdown",
   "metadata": {},
   "source": [
    "Генерацию случайных функций можно осуществить, например, двумя путями. \n",
    "1. Генерировать функцию в текстовом виде, зачем использовать встроенную функцию [eval](https://docs.python.org/3/library/functions.html#eval)\n",
    "\n",
    "```python\n",
    "func = eval(\"lambda x: 2 * x + 5\")\n",
    "assert func(42) == 89 \n",
    "```\n",
    "\n",
    "2. Использовать стандартный модуль [ast](https://docs.python.org/3/library/ast.html), который позволяет во время выполнения программы манипулировать [Абстрактным Синтаксическим Деревом](https://ru.wikipedia.org/wiki/%D0%90%D0%B1%D1%81%D1%82%D1%80%D0%B0%D0%BA%D1%82%D0%BD%D0%BE%D0%B5_%D1%81%D0%B8%D0%BD%D1%82%D0%B0%D0%BA%D1%81%D0%B8%D1%87%D0%B5%D1%81%D0%BA%D0%BE%D0%B5_%D0%B4%D0%B5%D1%80%D0%B5%D0%B2%D0%BE).\n",
    "Например, выражение \n",
    "\n",
    "```python\n",
    "func = lambda x: 2 * x + 5\n",
    "```\n",
    "\n",
    "Можно запрограммировать с помощью кода:\n",
    "\n",
    "```python\n",
    "\n",
    "expr = ast.Expression(\n",
    "    body=ast.Lambda(\n",
    "        args=ast.arguments(\n",
    "            args=[\n",
    "                ast.arg(arg='x')\n",
    "            ],\n",
    "            posonlyargs=[],\n",
    "            kwonlyargs=[],\n",
    "            kw_defaults=[],\n",
    "            defaults=[]\n",
    "        ),\n",
    "        body=ast.BinOp(\n",
    "            left=ast.BinOp(\n",
    "                left=ast.Constant(value=2),\n",
    "                op=ast.Mult(),\n",
    "                right=ast.Name(id='x', ctx=ast.Load())\n",
    "            ),\n",
    "            op=ast.Add(),\n",
    "            right=ast.Constant(value=5)\n",
    "        )\n",
    "    )\n",
    ")\n",
    "\n",
    "ast.fix_missing_locations(expr)\n",
    "\n",
    "func = eval(compile(expr, filename=\"\", mode=\"eval\"))\n",
    "\n",
    "assert func(42) == 89\n",
    "```\n",
    "\n",
    "При реализации нужно учитывать области допустимых значений функций."
   ]
  },
  {
   "cell_type": "code",
   "execution_count": 10,
   "metadata": {},
   "outputs": [],
   "source": [
    "# функция для генерации полиномов 1-3 степени\n",
    "def generate_polynomial() -> str:\n",
    "    degree = np.random.randint(1, 4) # degree from 1 to 3\n",
    "    coeffs = []\n",
    "    bias = np.random.uniform(-5, 5)\n",
    "    str_func = f\"{bias:.2f} \"\n",
    "    for i in range(1, degree + 1):\n",
    "        coef = np.random.uniform(-20, 20)\n",
    "        if coef < 0:\n",
    "            str_func += f\"- {abs(coef):.2f}*x**{i} \"\n",
    "        else:\n",
    "            str_func += f\"+ {coef:.2f}*x**{i} \"\n",
    "    return str_func[:-1].replace(\"x**1\", 'x')\n",
    "\n",
    "# функция для генерации одночленов\n",
    "def generate_monomial() -> str:\n",
    "    # decide whether to include bias with prob. 0.2\n",
    "    bool_bias = bool(np.random.binomial(1, 0.2))\n",
    "    if bool_bias:\n",
    "        bias = np.random.uniform(-5, 5)\n",
    "    coef = 0\n",
    "    while coef == 0:\n",
    "        coef = np.random.randint(-2, 3)\n",
    "    if bool_bias:\n",
    "        if bias < 0:\n",
    "            return f\"{'-'*(coef == -1) if abs(coef) == 1 else str(coef)+'*'}x - {abs(bias):.2f}\"\n",
    "        else:\n",
    "            return f\"{'-'*(coef == -1) if abs(coef) == 1 else str(coef)+'*'}x + {bias:.2f}\"\n",
    "    return f\"{'-'*(coef == -1) if abs(coef) == 1 else str(coef)+'*'}x\"\n",
    "\n",
    "# выдает случайную функцию с распределением, смещенным в сторону одночленов и полиномов\n",
    "# используется для первоначальной генерации функции для одного из слагаемых\n",
    "def get_outside_function() -> str:\n",
    "    func_set = {0: \"cos\", 1: \"sin\", 2: \"log\", 3: \"exp\", 4: \"poly\", 5: \"mono\"}\n",
    "    choice = np.random.choice(np.arange(6), p=[0.1, 0.1, 0.1, 0.1, 0.2, 0.4])\n",
    "    return func_set[choice]\n",
    "\n",
    "# используется для генерации функции, если на предыдущем шаге была сгенерирована cos, sin, log, exp\n",
    "# распределение сильно смещенно в сторону одночленов и полиномов \n",
    "def get_inside_function() -> str:\n",
    "    func_set = {0: \"cos\", 1: \"sin\", 2: \"log\", 3: \"exp\", 4: \"poly\", 5: \"mono\"}\n",
    "    choice = np.random.choice(np.arange(6), p=[0.05, 0.05, 0.05, 0.05, 0.15, 0.65])\n",
    "    return func_set[choice]\n",
    "\n",
    "# генерирует случайную бинарную операцию с распределением, смещенным в сторону + -\n",
    "def get_operation() -> str:\n",
    "    operations_set = {0: \"+\", 1: \"-\", 2: \"*\", 3: \"/\"}\n",
    "    choice = np.random.choice(np.arange(4), p=[0.4, 0.4, 0.1, 0.1])\n",
    "    return operations_set[choice]\n",
    "\n",
    "# проверяет, является ли сгенерированная функция полиномом\n",
    "def check_if_poly(func_to_check: str) -> bool:\n",
    "    return func_to_check in {\"mono\", \"poly\"}\n",
    "\n",
    "# генерирует либо одночлен, либо полином\n",
    "def generate_poly_or_mono(f_str: str) -> str:\n",
    "    if f_str == \"mono\":\n",
    "        return generate_monomial()\n",
    "    else:\n",
    "        return generate_polynomial()\n",
    "\n",
    "# функция для генерации случайной функции с несколькими слагаемыми\n",
    "def generate_elementary() -> str:\n",
    "    s = \"\"\n",
    "    terms = 5\n",
    "    for i in range(terms):\n",
    "        f = get_outside_function()\n",
    "        is_poly = check_if_poly(f)\n",
    "        brackets_cnt = 0\n",
    "        if is_poly:\n",
    "            poly = generate_poly_or_mono(f)\n",
    "            s += f\"({poly})\"\n",
    "        while not is_poly:\n",
    "            s += f\"{f}(\"\n",
    "            brackets_cnt += 1\n",
    "            f = get_inside_function()\n",
    "            is_poly = check_if_poly(f)\n",
    "            if is_poly:\n",
    "                poly = generate_poly_or_mono(f)\n",
    "                s += poly\n",
    "        s += \")\" * brackets_cnt\n",
    "        op = get_operation()\n",
    "        if i != terms - 1:\n",
    "            s += f\" {op} \"                 \n",
    "    return s"
   ]
  },
  {
   "cell_type": "code",
   "execution_count": 11,
   "metadata": {},
   "outputs": [
    {
     "name": "stdout",
     "output_type": "stream",
     "text": [
      "All is good for f(x) = log(2*x) + (2*x) - (x) - (x) - (0.38 + 19.69*x) at x = 2.15\n",
      "----------------------------------------------------------------------------------------------------\n",
      "All is good for f(x) = (x) + (2*x) - (3.52 + 10.57*x) - (-1.14 - 8.53*x - 8.43*x**2 + 0.75*x**3) - exp(2*x) at x = 3.25\n",
      "----------------------------------------------------------------------------------------------------\n",
      "All is good for f(x) = (4.18 - 8.96*x) + (2*x) + (2*x) * cos(x - 0.01) + exp(x) at x = -0.36\n",
      "----------------------------------------------------------------------------------------------------\n",
      "All is good for f(x) = (-2*x) + (-3.39 - 15.83*x + 2.50*x**2 - 10.46*x**3) + (-3.13 + 3.43*x + 0.09*x**2 + 19.13*x**3) * log(exp(-2*x)) - (-2.73 - 18.43*x) at x = -2.10\n",
      "----------------------------------------------------------------------------------------------------\n",
      "All is good for f(x) = exp(x) * (-2.09 - 2.42*x + 0.77*x**2) - (1.52 + 13.33*x + 13.05*x**2 - 17.47*x**3) / exp(-2*x) / (x) at x = 1.36\n",
      "----------------------------------------------------------------------------------------------------\n",
      "All is good for f(x) = (-x) - (-1.58 - 17.46*x) / (-x + 0.83) + (2*x) - (-0.89 - 13.64*x + 8.36*x**2) at x = -2.24\n",
      "----------------------------------------------------------------------------------------------------\n",
      "All is good for f(x) = exp(-4.10 + 6.73*x - 11.89*x**2 - 3.46*x**3) + (-4.44 - 1.96*x - 12.84*x**2) - (x + 1.15) - (-4.91 - 2.03*x) - (2*x) at x = 0.28\n",
      "----------------------------------------------------------------------------------------------------\n",
      "All is good for f(x) = exp(-0.98 + 13.80*x - 17.38*x**2 + 11.48*x**3) - cos(cos(-1.36 + 13.27*x - 7.79*x**2)) - (-x) + (4.03 - 0.71*x + 10.38*x**2) - (-1.37 - 9.23*x - 15.40*x**2) at x = -1.76\n",
      "----------------------------------------------------------------------------------------------------\n",
      "All is good for f(x) = (3.27 - 6.44*x + 11.05*x**2 + 17.99*x**3) - (-2*x - 2.74) * (-x) * (x) - (-0.96 - 12.11*x) at x = 4.04\n",
      "----------------------------------------------------------------------------------------------------\n",
      "All is good for f(x) = (1.08 + 12.81*x + 6.01*x**2) - sin(x) + (2*x) * (-2*x) + (x) at x = 0.38\n",
      "----------------------------------------------------------------------------------------------------\n"
     ]
    }
   ],
   "source": [
    "num_tries = 10\n",
    "for i in range(num_tries):\n",
    "    flag = False\n",
    "    while not flag:\n",
    "        generated_f = generate_elementary()\n",
    "        func = eval(f\"lambda x: {generated_f}\")\n",
    "        func_diff = diff(func)\n",
    "        value = np.random.normal(loc=0, scale=3)\n",
    "        try:\n",
    "            assert np.isclose(func_diff(value), my_derivative(func, value)), f\"error for f(x) = {generated_f} at x = {value:.2f}\"\n",
    "            flag = True\n",
    "        except (ValueError, OverflowError):\n",
    "            continue\n",
    "    print(f\"All is good for f(x) = {generated_f} at x = {value:.2f}\")    \n",
    "    print('-'*100)"
   ]
  },
  {
   "cell_type": "markdown",
   "metadata": {},
   "source": [
    "Среди многих запусков выяснилось, что проблемы возникают тогда, когда значение производной слишком большое, и функция `my_derivative()` не справляется с подсчетом по определению. Например при $f(x) = exp(-1*x + 1.03) - sin(exp(0.38 - 11.71*x + 11.46*x^2 - 1.74*x^3)) - sin(exp(4.53 - 12.75*x + 9.68*x^2))$ в точке $x = -1.87$ функция `func_diff()` выдает $-2.674316437895079e+33$, а `my_derivative()` выдает $103236211.9$\n",
    "\n",
    "Отмечу, что автоматическое дифференцирование `func_diff()` всё еще выдает нужное значение (проверено вручную с Wolfram)."
   ]
  },
  {
   "cell_type": "markdown",
   "metadata": {},
   "source": [
    "## Задание 1.5 (7 баллов)\n",
    "\n",
    "Реализуйте поддержку функций нескольких аргументов. Например\n",
    "\n",
    "```python\n",
    "def f(x: float, y: float, z: float) -> float:\n",
    "    return x * y + z - 5 * y  \n",
    "\n",
    "\n",
    "f_diff = diff(f)\n",
    "\n",
    "f_diff(10, 10, 10) # = [10, 5, 1]\n",
    "```"
   ]
  },
  {
   "cell_type": "code",
   "execution_count": 12,
   "metadata": {},
   "outputs": [],
   "source": [
    "def gradient(func: Callable[List[float], float]) -> Callable[List[float], float]:\n",
    "    # нужно вернуть\n",
    "    # [func(Dual(var[0], 1.), Dual(var[1], 0), ..., Dual(var[n-1], 0)).d,\n",
    "    #  func(Dual(var[0], 0.), Dual(var[1], 1.), ..., Dual(var[n-1], 0)).d,\n",
    "    #  ...,\n",
    "    #  func(Dual(var[0], 0), Dual(var[1], 0), ..., Dual(var[n-1], 1.)).d]\n",
    "    def take_gradient(*VARS):\n",
    "        gradient_vector = []\n",
    "        for i in range(len(VARS)):\n",
    "            partial_derivative_i = func(*[Dual(VARS[i], float(i == j)) for j in range(len(VARS))]).d\n",
    "            gradient_vector.append(partial_derivative_i)\n",
    "        return gradient_vector[0] if len(VARS) == 1 else gradient_vector\n",
    "    return take_gradient"
   ]
  },
  {
   "cell_type": "code",
   "execution_count": 13,
   "metadata": {},
   "outputs": [
    {
     "data": {
      "text/plain": [
       "[10.0, 5.0, 1.0]"
      ]
     },
     "execution_count": 13,
     "metadata": {},
     "output_type": "execute_result"
    }
   ],
   "source": [
    "def f(x: float, y: float, z: float) -> float:\n",
    "    return x * y + z - 5 * y  \n",
    "\n",
    "f_diff = gradient(f)\n",
    "f_diff(10, 10, 10) # = [10, 5, 1]"
   ]
  },
  {
   "cell_type": "code",
   "execution_count": 14,
   "metadata": {},
   "outputs": [],
   "source": [
    "def g(x: float, y: float, z: float) -> float:\n",
    "    return exp(2*x + y) - log(z / 10)\n",
    "\n",
    "g_diff = gradient(g)\n",
    "assert (np.asarray(g_diff(1, 1, 10)) == np.array([2*math.exp(2*1 + 1), math.exp(2*1 + 1), - 1 / 10])).all(), \"error\""
   ]
  }
 ],
 "metadata": {
  "kernelspec": {
   "display_name": "Python 3 (ipykernel)",
   "language": "python",
   "name": "python3"
  },
  "language_info": {
   "codemirror_mode": {
    "name": "ipython",
    "version": 3
   },
   "file_extension": ".py",
   "mimetype": "text/x-python",
   "name": "python",
   "nbconvert_exporter": "python",
   "pygments_lexer": "ipython3",
   "version": "3.10.6"
  },
  "vscode": {
   "interpreter": {
    "hash": "916dbcbb3f70747c44a77c7bcd40155683ae19c65e1c03b4aa3499c5328201f1"
   }
  }
 },
 "nbformat": 4,
 "nbformat_minor": 2
}
