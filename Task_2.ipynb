{
 "cells": [
  {
   "cell_type": "markdown",
   "metadata": {},
   "source": [
    "# Задание 2.\n",
    "\n",
    "**NB. Все упражнения ниже нужно делать без использования циклов Python в явном (`while`, `for`) и неявном виде (list comprehension, `map`, `reduce` и пр)**\n",
    "\n",
    "Задания по манипуляциям с массивами чаще всего решаются в одно/два выражения. "
   ]
  },
  {
   "cell_type": "code",
   "execution_count": 1,
   "metadata": {},
   "outputs": [
    {
     "data": {
      "text/plain": [
       "array([[67, 51, 58, ..., 85, 91, 51],\n",
       "       [31, 95, 98, ..., 16, 95, 52],\n",
       "       [16, 72, 66, ..., 91, 97, 40],\n",
       "       ...,\n",
       "       [78, 30,  9, ..., 77, 31, 49],\n",
       "       [75, 43, 46, ..., 55, 85, 82],\n",
       "       [17, 38, 47, ..., 47, 81, 47]])"
      ]
     },
     "execution_count": 1,
     "metadata": {},
     "output_type": "execute_result"
    }
   ],
   "source": [
    "%matplotlib inline\n",
    "\n",
    "import numpy as np\n",
    "import matplotlib.pyplot as plt\n",
    "import seaborn as sns\n",
    "sns.set_theme()\n",
    "\n",
    "A = np.random.randint(0, 100, size=(200, 50))\n",
    "A"
   ]
  },
  {
   "cell_type": "markdown",
   "metadata": {},
   "source": [
    "# Задание 2.1 (2 балла)\n",
    "\n",
    "Сгенерируйте новый массив, в котором столбцы массива `A` переставлены в случайном порядке"
   ]
  },
  {
   "cell_type": "code",
   "execution_count": 2,
   "metadata": {},
   "outputs": [
    {
     "data": {
      "text/plain": [
       "array([[51, 46, 18, ..., 20, 36, 57],\n",
       "       [95, 82,  3, ..., 40, 73, 69],\n",
       "       [72,  4, 60, ..., 51, 23, 61],\n",
       "       ...,\n",
       "       [30,  8, 70, ..., 67, 74, 70],\n",
       "       [43,  2, 97, ..., 16, 46, 22],\n",
       "       [38, 93, 64, ...,  6, 87, 23]])"
      ]
     },
     "execution_count": 2,
     "metadata": {},
     "output_type": "execute_result"
    }
   ],
   "source": [
    "A[:, np.random.permutation(A.shape[1])]"
   ]
  },
  {
   "cell_type": "markdown",
   "metadata": {},
   "source": [
    "# Задание 2.2 (5 баллов)\n",
    "\n",
    "Сгенерируйте новый массив, который содержит только те строки массива `A`, в которых: \n",
    "- сумма элементов по четным столбцам (индексы $0, 2, \\ldots$) больше среднего значения (по всему массиву) суммы элементов по нечетным столбцам (индексы $1, 3, \\ldots$) "
   ]
  },
  {
   "cell_type": "code",
   "execution_count": 3,
   "metadata": {},
   "outputs": [
    {
     "data": {
      "text/plain": [
       "array([[31, 95, 98, ..., 16, 95, 52],\n",
       "       [80, 30,  5, ...,  2, 80, 98],\n",
       "       [50, 48, 31, ..., 48, 30, 29],\n",
       "       ...,\n",
       "       [78, 30,  9, ..., 77, 31, 49],\n",
       "       [75, 43, 46, ..., 55, 85, 82],\n",
       "       [17, 38, 47, ..., 47, 81, 47]])"
      ]
     },
     "execution_count": 3,
     "metadata": {},
     "output_type": "execute_result"
    }
   ],
   "source": [
    "row_idxs = np.where(np.sum(A[:, ::2], axis=1) > np.mean(A[:, 1::2].sum(axis=1)), 1, 0)\n",
    "A[np.where(row_idxs)[0]]"
   ]
  },
  {
   "cell_type": "markdown",
   "metadata": {},
   "source": [
    "# Задача 2.3 (3 балла)\n",
    "\n",
    "Найдите индекс строки массива `A`, в которой разница между максимальным и минимальным элементом максимальна"
   ]
  },
  {
   "cell_type": "code",
   "execution_count": 4,
   "metadata": {},
   "outputs": [
    {
     "data": {
      "text/plain": [
       "0"
      ]
     },
     "execution_count": 4,
     "metadata": {},
     "output_type": "execute_result"
    }
   ],
   "source": [
    "max_along_rows = np.amax(A, axis=1)\n",
    "min_along_rows = np.amin(A, axis=1)\n",
    "max_diff_row_idx = np.argmax(max_along_rows - min_along_rows)\n",
    "max_diff_row_idx"
   ]
  },
  {
   "cell_type": "markdown",
   "metadata": {},
   "source": [
    "# Задание 2.4 (7 баллов)\n",
    "\n",
    "Сгенерируйте массив той же размерности, что и `A`, но в котором каждый элемент заменен на его порядковый номер (начиная с 1) в отсортированном по возрастанию массиве из элементов `A`\n",
    "\n",
    "Если `A` выглядит так:\n",
    "$$\n",
    "\\begin{pmatrix}\n",
    "12 & 14\\\\\n",
    "1 & 2\n",
    "\\end{pmatrix}\n",
    "$$\n",
    "то результат должен быть\n",
    "$$\n",
    "\\begin{pmatrix}\n",
    "3 & 4\\\\\n",
    "1 & 2\n",
    "\\end{pmatrix}\n",
    "$$\n",
    "\n",
    "*Tip: рассмотрите возможность неоднократного применения [argsort()](https://numpy.org/doc/stable/reference/generated/numpy.ndarray.argsort.html)*"
   ]
  },
  {
   "cell_type": "code",
   "execution_count": 5,
   "metadata": {},
   "outputs": [
    {
     "data": {
      "text/plain": [
       "array([[6742, 5187, 5834, ..., 8581, 9159, 5195],\n",
       "       [3137, 9500, 9775, ..., 1580, 9573, 5292],\n",
       "       [1564, 7233, 6638, ..., 9176, 9751, 3993],\n",
       "       ...,\n",
       "       [7800, 3022,  912, ..., 7702, 3154, 4883],\n",
       "       [7551, 4313, 4689, ..., 5500, 8582, 8270],\n",
       "       [1668, 3817, 4760, ..., 4747, 8138, 4727]], dtype=int64)"
      ]
     },
     "execution_count": 5,
     "metadata": {},
     "output_type": "execute_result"
    }
   ],
   "source": [
    "A.argsort(axis=None).argsort().reshape(A.shape) + 1"
   ]
  },
  {
   "cell_type": "markdown",
   "metadata": {},
   "source": [
    "# Задание 2.5 (2 балла)\n",
    "\n",
    "Примените $\\min-\\max$ - нормализацию к строкам массива `A`. То есть нужно получить новый массивы, в каждой строке которого максимальный элементы равен $1$, минимальный - $0$. "
   ]
  },
  {
   "cell_type": "code",
   "execution_count": 6,
   "metadata": {},
   "outputs": [
    {
     "data": {
      "text/plain": [
       "array([[0.67676768, 0.51515152, 0.58585859, ..., 0.85858586, 0.91919192,\n",
       "        0.51515152],\n",
       "       [0.29896907, 0.95876289, 0.98969072, ..., 0.1443299 , 0.95876289,\n",
       "        0.51546392],\n",
       "       [0.13829787, 0.73404255, 0.67021277, ..., 0.93617021, 1.        ,\n",
       "        0.39361702],\n",
       "       ...,\n",
       "       [0.81609195, 0.26436782, 0.02298851, ..., 0.8045977 , 0.27586207,\n",
       "        0.48275862],\n",
       "       [0.77319588, 0.44329897, 0.4742268 , ..., 0.56701031, 0.87628866,\n",
       "        0.84536082],\n",
       "       [0.11827957, 0.34408602, 0.44086022, ..., 0.44086022, 0.80645161,\n",
       "        0.44086022]])"
      ]
     },
     "execution_count": 6,
     "metadata": {},
     "output_type": "execute_result"
    }
   ],
   "source": [
    "A_zeroed = A - A.min(axis=1)[:, None]\n",
    "A_5 = A_zeroed / (A.max(axis=1) - A.min(axis=1))[:, None]\n",
    "A_5"
   ]
  },
  {
   "cell_type": "markdown",
   "metadata": {},
   "source": [
    "# Задание 2.6 (2 балла)\n",
    "\n",
    "Сгенерируйте новый трехмерный массив, размерности $10 \\times 200 \\times 50$. Подмассивы по нулевой оси должны состоять из элементов `A`, умноженных на $1 - 10$ соответственно"
   ]
  },
  {
   "cell_type": "code",
   "execution_count": 7,
   "metadata": {},
   "outputs": [
    {
     "name": "stdout",
     "output_type": "stream",
     "text": [
      "(10, 200, 50)\n"
     ]
    },
    {
     "data": {
      "text/plain": [
       "array([[[ 67,  51,  58, ...,  85,  91,  51],\n",
       "        [ 31,  95,  98, ...,  16,  95,  52],\n",
       "        [ 16,  72,  66, ...,  91,  97,  40],\n",
       "        ...,\n",
       "        [ 78,  30,   9, ...,  77,  31,  49],\n",
       "        [ 75,  43,  46, ...,  55,  85,  82],\n",
       "        [ 17,  38,  47, ...,  47,  81,  47]],\n",
       "\n",
       "       [[134, 102, 116, ..., 170, 182, 102],\n",
       "        [ 62, 190, 196, ...,  32, 190, 104],\n",
       "        [ 32, 144, 132, ..., 182, 194,  80],\n",
       "        ...,\n",
       "        [156,  60,  18, ..., 154,  62,  98],\n",
       "        [150,  86,  92, ..., 110, 170, 164],\n",
       "        [ 34,  76,  94, ...,  94, 162,  94]],\n",
       "\n",
       "       [[201, 153, 174, ..., 255, 273, 153],\n",
       "        [ 93, 285, 294, ...,  48, 285, 156],\n",
       "        [ 48, 216, 198, ..., 273, 291, 120],\n",
       "        ...,\n",
       "        [234,  90,  27, ..., 231,  93, 147],\n",
       "        [225, 129, 138, ..., 165, 255, 246],\n",
       "        [ 51, 114, 141, ..., 141, 243, 141]],\n",
       "\n",
       "       ...,\n",
       "\n",
       "       [[536, 408, 464, ..., 680, 728, 408],\n",
       "        [248, 760, 784, ..., 128, 760, 416],\n",
       "        [128, 576, 528, ..., 728, 776, 320],\n",
       "        ...,\n",
       "        [624, 240,  72, ..., 616, 248, 392],\n",
       "        [600, 344, 368, ..., 440, 680, 656],\n",
       "        [136, 304, 376, ..., 376, 648, 376]],\n",
       "\n",
       "       [[603, 459, 522, ..., 765, 819, 459],\n",
       "        [279, 855, 882, ..., 144, 855, 468],\n",
       "        [144, 648, 594, ..., 819, 873, 360],\n",
       "        ...,\n",
       "        [702, 270,  81, ..., 693, 279, 441],\n",
       "        [675, 387, 414, ..., 495, 765, 738],\n",
       "        [153, 342, 423, ..., 423, 729, 423]],\n",
       "\n",
       "       [[670, 510, 580, ..., 850, 910, 510],\n",
       "        [310, 950, 980, ..., 160, 950, 520],\n",
       "        [160, 720, 660, ..., 910, 970, 400],\n",
       "        ...,\n",
       "        [780, 300,  90, ..., 770, 310, 490],\n",
       "        [750, 430, 460, ..., 550, 850, 820],\n",
       "        [170, 380, 470, ..., 470, 810, 470]]])"
      ]
     },
     "execution_count": 7,
     "metadata": {},
     "output_type": "execute_result"
    }
   ],
   "source": [
    "print((A * np.arange(1, 11).reshape(10, 1, 1)).shape)\n",
    "A * np.arange(1, 11).reshape(10, 1, 1)"
   ]
  },
  {
   "cell_type": "markdown",
   "metadata": {},
   "source": [
    "# Задание 2.7 (2 балла)\n",
    "\n",
    "Создайте новый массив, такой же размерности, как и `A`, в котором сначала сгруппированы четные столбцы `A`, потом  нечетные. Используйте [np.concat()](https://numpy.org/doc/stable/reference/generated/numpy.concatenate.html) "
   ]
  },
  {
   "cell_type": "code",
   "execution_count": 8,
   "metadata": {},
   "outputs": [
    {
     "data": {
      "text/plain": [
       "array([[67, 58, 13, ..., 58, 85, 51],\n",
       "       [31, 98, 55, ..., 32, 16, 52],\n",
       "       [16, 66,  8, ..., 51, 91, 40],\n",
       "       ...,\n",
       "       [78,  9, 30, ..., 91, 77, 49],\n",
       "       [75, 46, 65, ..., 61, 55, 82],\n",
       "       [17, 47, 52, ..., 37, 47, 47]])"
      ]
     },
     "execution_count": 8,
     "metadata": {},
     "output_type": "execute_result"
    }
   ],
   "source": [
    "np.concatenate((A[:, ::2], A[:, 1::2]), axis=1)"
   ]
  },
  {
   "cell_type": "markdown",
   "metadata": {},
   "source": [
    "# Задание 2.8 (2 балла)\n",
    "\n",
    "Посчитайте количество строк массива `A`, в который все элементы больше 5. Используйте [np.all()](https://numpy.org/doc/stable/reference/generated/numpy.all.html) "
   ]
  },
  {
   "cell_type": "code",
   "execution_count": 9,
   "metadata": {},
   "outputs": [
    {
     "data": {
      "text/plain": [
       "13"
      ]
     },
     "execution_count": 9,
     "metadata": {},
     "output_type": "execute_result"
    }
   ],
   "source": [
    "np.all(A > 5, axis=1).sum()"
   ]
  },
  {
   "cell_type": "markdown",
   "metadata": {},
   "source": [
    "# Задание 2.9 (2 балла)\n",
    "\n",
    "Поделите массив `A` горизонтально на 10 частей и создайте новый массив размерности $20 \\times 50$, который состоит из средних этих частей. Используйте [np.split()](https://numpy.org/doc/stable/reference/generated/numpy.split.html)"
   ]
  },
  {
   "cell_type": "code",
   "execution_count": 10,
   "metadata": {},
   "outputs": [
    {
     "name": "stdout",
     "output_type": "stream",
     "text": [
      "(20, 50)\n"
     ]
    },
    {
     "data": {
      "text/plain": [
       "array([[54.2, 45.7, 45.5, 53.5, 43. , 39. , 49.5, 50.1, 25.6, 48.2, 35.2,\n",
       "        45.8, 48. , 41.5, 50.9, 72.5, 37.8, 50. , 46. , 38.9, 63.4, 54.4,\n",
       "        55.5, 43.2, 35.9, 52.7, 53.1, 54.3, 38.6, 44.5, 44.5, 36.4, 48.8,\n",
       "        43.6, 61. , 61. , 33.4, 49.4, 63.9, 53.3, 48.1, 35.1, 49.9, 40.3,\n",
       "        47. , 55.8, 47.3, 44.1, 38.4, 59. ],\n",
       "       [43.6, 55.2, 58.4, 48. , 58.1, 39.3, 55.9, 29.1, 50.9, 64.3, 48. ,\n",
       "        43. , 45.3, 53.9, 52. , 63.3, 47.7, 48.9, 52.7, 56.9, 62.6, 52.6,\n",
       "        75.3, 50.4, 51.7, 42.6, 43.7, 46.3, 43.1, 63.3, 53.8, 52.3, 41.5,\n",
       "        46.7, 58.3, 47.9, 43.8, 56.5, 42.3, 41.5, 39.5, 53.7, 52.2, 39.3,\n",
       "        57. , 46.4, 50.9, 46.2, 59.2, 65.3],\n",
       "       [47.2, 66.2, 51.5, 51.8, 40.9, 64.1, 47. , 61.6, 49.4, 34.9, 59. ,\n",
       "        37.9, 70.2, 50.3, 62.1, 50.5, 51. , 48.9, 61.2, 32. , 39.7, 47.9,\n",
       "        79.6, 56.7, 54.2, 53.3, 36.7, 61.3, 57.4, 53.5, 51.8, 58.9, 50. ,\n",
       "        45.3, 49.9, 58.4, 54.1, 47.1, 49.5, 58.5, 40. , 57.9, 47.9, 40.4,\n",
       "        39.5, 49.6, 50.5, 49.7, 51.9, 26.7],\n",
       "       [50.6, 52.4, 42.2, 51.4, 63.3, 60. , 57.4, 50.9, 48.3, 54.5, 59.3,\n",
       "        47.6, 52.1, 33.7, 60.1, 54.2, 48. , 48.5, 56.6, 52.1, 56.5, 45.3,\n",
       "        69.8, 39. , 44.6, 56. , 44.2, 41.8, 62.3, 52. , 40. , 68.4, 49.6,\n",
       "        47.2, 52.9, 44.4, 50.7, 56.5, 55.7, 57.8, 43.9, 46.6, 70.4, 60.6,\n",
       "        48.9, 56.9, 54.6, 51.3, 33.9, 56.1],\n",
       "       [48.7, 50.7, 63.9, 35.9, 58.5, 53.5, 54.6, 37.9, 54.5, 54.9, 46.9,\n",
       "        54.1, 54.8, 59.4, 49.8, 50.8, 45.9, 64.1, 33.4, 19.8, 39.7, 66.2,\n",
       "        52.9, 32.9, 41.1, 39.8, 46.2, 35.5, 53.3, 73.4, 46.2, 44.5, 50.5,\n",
       "        48.7, 55.7, 35.9, 45.3, 46.8, 61.2, 45.1, 36.5, 49.7, 49.1, 54.5,\n",
       "        35.5, 64.4, 53. , 46.7, 44.8, 51. ],\n",
       "       [59.6, 58.5, 40.3, 38.8, 58.9, 63.7, 51.2, 62.4, 64.8, 40.7, 55. ,\n",
       "        46.3, 45.2, 47.3, 56.8, 37.8, 40.8, 51.5, 49.4, 39.2, 56.4, 52. ,\n",
       "        42.5, 33.8, 54.1, 53.2, 29.4, 40.9, 55.3, 62.2, 56.1, 66.4, 58.3,\n",
       "        41.3, 44.8, 54.7, 62.4, 38.3, 62.6, 59.3, 55.3, 43.6, 56.6, 63.1,\n",
       "        32.2, 57.8, 42.4, 37.9, 35. , 43.4],\n",
       "       [39.1, 54.1, 59.5, 40.9, 44.6, 49.4, 50.7, 48.7, 64.9, 31.3, 65.1,\n",
       "        39. , 58.9, 57.1, 38.6, 45.1, 35. , 60.8, 43.4, 54.1, 39.1, 80.3,\n",
       "        55.8, 55.5, 58.2, 49.1, 41.1, 52.5, 50.5, 48.1, 43.8, 57.4, 41.5,\n",
       "        52.2, 39.4, 58. , 65.4, 66.4, 49.3, 54.2, 60.1, 35.1, 40.8, 47.2,\n",
       "        46.3, 37. , 43.4, 31.2, 60.2, 56.4],\n",
       "       [45.1, 53.6, 56.1, 51.5, 42.3, 51.1, 63.7, 46.4, 51.8, 53. , 64.8,\n",
       "        57.1, 42.6, 60.1, 48. , 51.2, 32.1, 31.1, 47.1, 55.9, 46.6, 55.8,\n",
       "        38.3, 36.4, 31.8, 56.2, 49.2, 63.4, 50.7, 41.8, 43.3, 55.3, 48.5,\n",
       "        48.5, 42.4, 49.7, 42.5, 64.1, 61.3, 50.4, 45.1, 42.7, 65.5, 54.5,\n",
       "        66.5, 42.8, 46.6, 39.3, 57.3, 42.5],\n",
       "       [50. , 62.6, 57.3, 41.6, 58.3, 39.7, 57.2, 45.6, 51.7, 34.2, 43.1,\n",
       "        50.8, 46. , 71.7, 47. , 35.2, 50.2, 50.4, 57. , 43.8, 37.6, 55.7,\n",
       "        34.4, 40.6, 45.2, 59.4, 43.5, 39.2, 57.8, 55. , 39.2, 58.5, 56.8,\n",
       "        51.5, 54.9, 51.8, 58.2, 57.1, 38.9, 66.7, 37.8, 51.7, 45.5, 50.9,\n",
       "        55.3, 50.9, 52. , 47.4, 42.1, 55.2],\n",
       "       [52.7, 50.3, 41.3, 42.7, 53. , 51.5, 51.3, 62.1, 55.1, 54.4, 42.6,\n",
       "        59.1, 48.4, 60.2, 47.8, 46.4, 37. , 47.3, 51.3, 39.8, 56.6, 51. ,\n",
       "        58.7, 42.7, 47.3, 44.3, 52.6, 52.2, 40.6, 44.2, 49.1, 68.6, 47.8,\n",
       "        49.4, 61.6, 59.5, 42.1, 62.5, 56.9, 42.4, 54.1, 54.6, 58.6, 51.5,\n",
       "        60.6, 50.1, 43.5, 44.5, 50.5, 51.7],\n",
       "       [35.6, 61.6, 53.6, 48. , 56.7, 46.3, 51.9, 68.5, 57. , 41. , 50.5,\n",
       "        58.1, 48.1, 56.9, 55. , 66.3, 52.6, 54.1, 65. , 57.9, 54.8, 52.7,\n",
       "        46.5, 59.5, 34.6, 48.6, 59.4, 47.4, 54.2, 51.3, 60. , 49.3, 65.2,\n",
       "        47.8, 48.7, 29.7, 34.6, 47.1, 33.9, 47.8, 29.9, 41.4, 44.3, 49.9,\n",
       "        49.4, 41.6, 49. , 42.9, 41.6, 48.7],\n",
       "       [53.4, 48.5, 51.9, 47.4, 49.8, 53.5, 57. , 57.2, 34.2, 55.8, 55.4,\n",
       "        53. , 36.9, 52.5, 42.4, 39.4, 44.6, 52.8, 48.6, 34.9, 68.4, 47.6,\n",
       "        41.8, 54.3, 53.6, 44.4, 47.4, 63.9, 56.9, 47.4, 47.4, 45.7, 50.2,\n",
       "        57.3, 37.1, 37.6, 53.2, 59.1, 50.1, 57.6, 54.2, 56.3, 47.5, 48.2,\n",
       "        55.3, 55.9, 35.5, 65.7, 52.8, 40.2],\n",
       "       [42.7, 42.3, 55.7, 38.6, 47.5, 53.7, 55.6, 52.9, 48.5, 49. , 33. ,\n",
       "        53.3, 60.9, 48.1, 55.2, 49.2, 49.4, 47.3, 41.4, 55.1, 60.3, 59.8,\n",
       "        42.1, 41.8, 41.6, 50.7, 70.8, 45.6, 54.9, 59.6, 59.4, 59. , 44.3,\n",
       "        54.5, 52.5, 26.6, 46. , 66.5, 58.3, 54.2, 57.2, 44.4, 42.3, 44.3,\n",
       "        59.2, 49.3, 47.5, 55.7, 50.1, 51.5],\n",
       "       [52.5, 47.2, 58.1, 44.9, 47.5, 31.9, 33.6, 43.2, 62.6, 58.5, 34.4,\n",
       "        30.5, 37.3, 33.1, 58.2, 59.8, 54.1, 62.2, 39.6, 60.8, 44.4, 41.2,\n",
       "        57. , 49.3, 32.9, 52.1, 60.3, 58. , 33.8, 48.9, 29.7, 48. , 55.1,\n",
       "        48.6, 50. , 63.8, 25.4, 48.3, 39.9, 45.4, 49.2, 57.9, 57.5, 46.8,\n",
       "        43.5, 53.9, 61.1, 47. , 36.2, 55.3],\n",
       "       [45.4, 45.1, 48.1, 47. , 30.1, 47.5, 47.8, 55.4, 50.9, 39.6, 53.9,\n",
       "        42.5, 50.9, 45.3, 48.6, 48. , 45.8, 52.9, 38.5, 48.7, 44. , 53.5,\n",
       "        67.1, 54.3, 45.5, 40.7, 56.7, 64.5, 39.4, 57.6, 48.6, 54.5, 57.5,\n",
       "        59.4, 52.7, 50.1, 39. , 55.2, 54. , 36.9, 51.4, 44.6, 38.8, 61.2,\n",
       "        50.6, 61. , 45.7, 46.7, 57.1, 63.8],\n",
       "       [54.8, 41.1, 52.9, 51.8, 59.8, 48. , 47.6, 36.8, 56.9, 47.3, 58. ,\n",
       "        53.7, 45.7, 34.7, 41.5, 59.6, 50.5, 58.4, 50.8, 36.6, 55.1, 55.8,\n",
       "        52.8, 55. , 63.5, 52.1, 39.6, 33.3, 55.7, 60.2, 44.5, 60. , 72.9,\n",
       "        46.4, 36.8, 42.1, 46.4, 48.2, 52.3, 57.3, 66.8, 64.4, 28.5, 45. ,\n",
       "        58. , 51.7, 47. , 37.7, 38.7, 43.5],\n",
       "       [51.9, 58.5, 68.3, 52. , 59.7, 48.4, 36. , 48.2, 48.4, 44.3, 60.8,\n",
       "        58.6, 40. , 32.9, 60.6, 63.6, 43.1, 51.1, 44.9, 39.2, 39.7, 46.4,\n",
       "        46.5, 49.2, 70.9, 67.6, 25.1, 47.2, 47. , 61.1, 40.5, 58.9, 32.9,\n",
       "        48.9, 59.5, 45.1, 53.5, 54.2, 59.1, 65.4, 37.7, 33.8, 34.8, 52.1,\n",
       "        37.6, 43. , 39.3, 46. , 43.6, 52.1],\n",
       "       [45.5, 39.6, 39.2, 53. , 55.8, 47.9, 55.3, 35.3, 49.5, 47.3, 50.6,\n",
       "        38.9, 41.4, 45.7, 43. , 39.2, 56.5, 58.5, 42.5, 59.2, 38.1, 50.4,\n",
       "        54.2, 57.9, 41.4, 60. , 66.3, 46.6, 52. , 40.5, 42.2, 38.1, 53.8,\n",
       "        49. , 54. , 46.7, 51.1, 50.2, 50.3, 55.2, 47.3, 52.7, 58.7, 39.6,\n",
       "        48.4, 39.5, 49.6, 66.1, 52.6, 41.3],\n",
       "       [42.2, 47.6, 50.4, 55.8, 60.7, 53.5, 34.8, 55.1, 56.1, 45. , 48.6,\n",
       "        46.1, 53.6, 36.4, 40.1, 46.4, 45.3, 46.2, 43.3, 61.3, 54.7, 40.6,\n",
       "        46.1, 56.1, 54.3, 42.6, 54.2, 52.4, 51.2, 45. , 59.9, 45.6, 56.9,\n",
       "        47.4, 47. , 56.4, 52.2, 44.3, 39.2, 62.7, 46.9, 39.1, 46.3, 53.5,\n",
       "        57.8, 55. , 49.8, 57.8, 47.5, 59.3],\n",
       "       [45.3, 53.3, 46.6, 50.7, 42.8, 45.3, 74.7, 53.7, 38.7, 42.3, 47. ,\n",
       "        38.3, 39.5, 57.3, 56.6, 43.5, 36.8, 59.2, 51.8, 57.7, 50.3, 51.3,\n",
       "        54.6, 39.6, 48.6, 55.9, 56.4, 46.2, 53.6, 55.3, 49.8, 49.6, 41.1,\n",
       "        63.4, 25.9, 53.5, 56.1, 53.8, 44.4, 46.2, 72.5, 46.8, 54.9, 51.6,\n",
       "        58.2, 35.3, 57.1, 47.8, 40.7, 35.4]])"
      ]
     },
     "execution_count": 10,
     "metadata": {},
     "output_type": "execute_result"
    }
   ],
   "source": [
    "A_splitted = np.asarray(np.split(A, 10))\n",
    "A_9 = np.mean(A_splitted, axis=0)\n",
    "print(A_9.shape)\n",
    "A_9"
   ]
  },
  {
   "cell_type": "markdown",
   "metadata": {},
   "source": [
    "# Задание 2.10 (4 балла)\n",
    "\n",
    "\"Разверните\" массив `A` в одномерный массив. Оставьте в нём только уникальные элементы в том же порядке, в котором они встречаются в массиве. Используйте [np.unique()](https://numpy.org/doc/stable/reference/generated/numpy.unique.html)"
   ]
  },
  {
   "cell_type": "code",
   "execution_count": 11,
   "metadata": {},
   "outputs": [
    {
     "data": {
      "text/plain": [
       "array([67, 51, 58, 86, 13, 64, 94, 80, 41, 79,  1, 46, 22, 57, 74, 12, 30,\n",
       "       63, 52, 83, 20, 33, 43, 60, 23, 36,  2, 19, 14, 99, 45, 18,  0, 49,\n",
       "       85, 91, 31, 95, 98, 76, 55, 62, 40, 32, 82, 90, 69, 87,  3, 10,  6,\n",
       "        7, 84,  9, 73, 59, 53, 70, 16, 72, 66,  8, 39, 44,  4, 61, 38, 21,\n",
       "       47, 75, 42, 78, 26, 71, 97,  5, 35, 88, 27, 28, 17, 77, 56, 50, 92,\n",
       "       93, 68, 24, 48, 89, 34, 96, 54, 29, 11, 15, 81, 25, 65, 37])"
      ]
     },
     "execution_count": 11,
     "metadata": {},
     "output_type": "execute_result"
    }
   ],
   "source": [
    "unique_idxs = np.unique(A.ravel(), return_index=True)[1]\n",
    "A.ravel()[np.sort(unique_idxs)]"
   ]
  },
  {
   "cell_type": "markdown",
   "metadata": {},
   "source": [
    "# Задание 2.11 (3 балла)\n",
    "\n",
    "Создайте одномерный массив размерности $200$, в котором каждый элемент - евклидово расстояние между соответствующей строкой `A` и \"средней\" строкой `A`"
   ]
  },
  {
   "cell_type": "code",
   "execution_count": 12,
   "metadata": {},
   "outputs": [
    {
     "data": {
      "text/plain": [
       "array([193.02266823, 214.98753557, 180.44957869, 205.87734322,\n",
       "       209.95856841, 207.87703204, 212.1504194 , 222.47730322,\n",
       "       217.48581666, 192.26122971, 186.9819522 , 218.53297337,\n",
       "       219.00132522, 204.65891246, 187.39527862, 198.70777652,\n",
       "       209.50288888, 208.88125921, 182.53870946, 201.68091246,\n",
       "       196.04527653, 206.05581877, 213.94625599, 206.74685112,\n",
       "       181.45291524, 220.02484053, 213.1130931 , 206.42909303,\n",
       "       224.44148558, 162.6904129 , 221.53207544, 194.21287406,\n",
       "       212.67696267, 206.57272436, 213.67037804, 216.08054158,\n",
       "       186.61760488, 192.72057609, 211.53645182, 183.57685162,\n",
       "       174.21412242, 203.82769795, 230.2928363 , 201.87724104,\n",
       "       189.0011123 , 225.08776166, 212.30605373, 195.81386685,\n",
       "       203.60358654, 200.03729765, 205.54515428, 188.68110782,\n",
       "       198.893993  , 196.75073176, 203.81940646, 193.33659884,\n",
       "       191.24398147, 208.99067072, 202.40921533, 171.91143199,\n",
       "       204.32824193, 194.67955838, 208.67228002, 189.15929914,\n",
       "       192.76672547, 204.24255299, 213.42174315, 207.8681083 ,\n",
       "       191.72655124, 203.24487804, 191.63329682, 222.40982543,\n",
       "       179.05334526, 199.32985338, 217.24580652, 197.76941232,\n",
       "       206.15605848, 213.94845279, 197.81741695, 212.70007158,\n",
       "       231.16779717, 194.4703588 , 214.1316895 , 212.51974132,\n",
       "       204.2368489 , 213.85308146, 215.08358945, 188.83593527,\n",
       "       180.89798354, 185.56168907, 209.17430638, 198.34074329,\n",
       "       203.5079125 , 208.46340314, 187.41889032, 191.9375431 ,\n",
       "       183.70688732, 212.47807052, 204.43554106, 207.21710945,\n",
       "       197.13518319, 206.40123655, 210.00166773, 205.11526138,\n",
       "       192.22903124, 217.79687888, 199.28640307, 207.5385999 ,\n",
       "       208.34855519, 212.26813338, 189.02423244, 191.18072719,\n",
       "       209.57185033, 185.90341699, 218.18386845, 210.86896512,\n",
       "       206.90737167, 211.55628199, 206.02169898, 194.21362066,\n",
       "       206.14659941, 209.00093409, 219.52630924, 205.46783313,\n",
       "       212.45966782, 196.3995429 , 193.31156316, 228.58420866,\n",
       "       189.28206584, 214.28348151, 181.42786569, 185.81509748,\n",
       "       212.41909154, 202.2333317 , 194.04736651, 212.14537575,\n",
       "       179.61316892, 214.66818686, 208.21892433, 190.52021008,\n",
       "       220.13991108, 211.87815001, 177.12069458, 211.82285158,\n",
       "       217.40717663, 216.0350445 , 186.82706027, 177.34537053,\n",
       "       216.38997308, 215.62808363, 202.27637146, 194.69260502,\n",
       "       216.6494183 , 222.61096211, 205.73614279, 197.66537494,\n",
       "       200.28422417, 197.26000722, 211.76966367, 210.77706339,\n",
       "       176.83551807, 199.29415558, 194.13181205, 221.56753022,\n",
       "       206.88714424, 207.11243432, 227.92465959, 201.47019742,\n",
       "       215.96705871, 192.92527167, 201.59290774, 178.78878726,\n",
       "       224.85050689, 218.19392854, 210.72797738, 216.41723695,\n",
       "       194.61282191, 196.65975808, 215.42708848, 207.0359883 ,\n",
       "       202.13099824, 223.72628466, 223.59928544, 207.88150579,\n",
       "       189.27318999, 192.40213213, 195.7475171 , 197.92377434,\n",
       "       178.51691923, 203.12646418, 196.25154891, 199.69138802,\n",
       "       186.49705212, 194.8795537 , 195.92194989, 209.03392177,\n",
       "       202.28042528, 178.1605749 , 199.68883406, 182.91850767])"
      ]
     },
     "execution_count": 12,
     "metadata": {},
     "output_type": "execute_result"
    }
   ],
   "source": [
    "mean_row = np.mean(A, axis=0)\n",
    "np.linalg.norm(A - mean_row, axis=1)"
   ]
  },
  {
   "cell_type": "markdown",
   "metadata": {},
   "source": [
    "# Задание 2.12 (2 балла)\n",
    "\n",
    "Создайте новый массив, который состоит из элементов `A`, измененных по следующим правилам:\n",
    "- если элемент меньше $50$, то он умножается на $2$\n",
    "- в противном случае он умножается на $3$\n",
    "\n",
    "Используйте [np.where()](https://numpy.org/doc/stable/reference/generated/numpy.where.html)"
   ]
  },
  {
   "cell_type": "code",
   "execution_count": 13,
   "metadata": {},
   "outputs": [
    {
     "data": {
      "text/plain": [
       "array([[201, 153, 174, ..., 255, 273, 153],\n",
       "       [ 62, 285, 294, ...,  32, 285, 156],\n",
       "       [ 32, 216, 198, ..., 273, 291,  80],\n",
       "       ...,\n",
       "       [234,  60,  18, ..., 231,  62,  98],\n",
       "       [225,  86,  92, ..., 165, 255, 246],\n",
       "       [ 34,  76,  94, ...,  94, 243,  94]])"
      ]
     },
     "execution_count": 13,
     "metadata": {},
     "output_type": "execute_result"
    }
   ],
   "source": [
    "np.where(A < 50, A * 2, A * 3)"
   ]
  },
  {
   "cell_type": "markdown",
   "metadata": {},
   "source": [
    "# Задание 2.13 (7 баллов)\n",
    "\n",
    "Разверните массив `A` в одномерный массив. Создайте три новых массива, подсчитав скользящие средние по окнам $3$, $5$, $10$. Найдите сумму этих массивов, выровнив из размерности нулями справа\n",
    "\n",
    "*Tip: реализуйте функцию, которая считает скользящее среднее. Используйте [np.cumsum()](https://numpy.org/doc/stable/reference/generated/numpy.cumsum.html) или [np.convolve()](https://numpy.org/doc/stable/reference/generated/numpy.convolve.html)*"
   ]
  },
  {
   "cell_type": "code",
   "execution_count": 14,
   "metadata": {},
   "outputs": [
    {
     "name": "stdout",
     "output_type": "stream",
     "text": [
      "(9998,)\n"
     ]
    },
    {
     "data": {
      "text/plain": [
       "array([176.96666667, 176.1       , 171.53333333, ...,  98.66666667,\n",
       "        60.33333333,  58.33333333])"
      ]
     },
     "execution_count": 14,
     "metadata": {},
     "output_type": "execute_result"
    }
   ],
   "source": [
    "slide_3 = np.convolve(A.ravel(), np.ones(3), mode='valid') / 3\n",
    "slide_5 = np.convolve(A.ravel(), np.ones(5), mode='valid') / 5\n",
    "slide_10 = np.convolve(A.ravel(), np.ones(10), mode='valid') / 10\n",
    "\n",
    "pad_slide_5 = np.pad(slide_5, pad_width=(0, slide_3.shape[0] - slide_5.shape[0]))\n",
    "pad_slide_10 = np.pad(slide_10, pad_width=(0, slide_3.shape[0] - slide_10.shape[0]))\n",
    "\n",
    "sum_of_windowed_arrays = slide_3 + pad_slide_5 + pad_slide_10\n",
    "print(sum_of_windowed_arrays.shape)\n",
    "sum_of_windowed_arrays"
   ]
  },
  {
   "cell_type": "markdown",
   "metadata": {},
   "source": [
    "# Задание 2.14 (8 баллов)\n",
    "\n",
    "Постройте график функции $$f(x) = (5  \\sin(2x) - \\cos^2(x) - 1 + |x^3| - x^2) / (x^2 + 1)$$  \n",
    "\n",
    "и производной от этой функции.  Найдите минимум с помощью `scipy` и обозначьте его на графике. На этой же оси постройте графики скользящего среднего этой функции с окном $1$, $2$, $5$."
   ]
  },
  {
   "cell_type": "code",
   "execution_count": 15,
   "metadata": {},
   "outputs": [],
   "source": [
    "from scipy.optimize import minimize\n",
    "\n",
    "def f(x):\n",
    "    return (5*np.sin(2*x) - np.cos(x)**2 - 1 + np.abs(x**3) - x**2) / (x**2 + 1)\n",
    "\n",
    "def d_f(f, x):\n",
    "    dx = 1e-5\n",
    "    return (f(x + dx) - f(x - dx)) / (2 * dx)"
   ]
  },
  {
   "cell_type": "code",
   "execution_count": 16,
   "metadata": {},
   "outputs": [
    {
     "data": {
      "image/png": "[encoded data removed]",
      "text/plain": [
       "<Figure size 640x480 with 1 Axes>"
      ]
     },
     "metadata": {},
     "output_type": "display_data"
    }
   ],
   "source": [
    "x = np.linspace(-10, 10, 1000)\n",
    "y = f(x)\n",
    "d_y = d_f(f, x)\n",
    "x_min = minimize(f, x0=0).x\n",
    "sliding_mean = np.convolve(y, np.array([1, 2, 5]), mode='valid') / 3\n",
    "sliding_mean = np.pad(sliding_mean, (1, 1), mode='edge')\n",
    "\n",
    "plt.plot(x, y, label='График f')\n",
    "plt.plot(x, d_y, label='График производной f')\n",
    "plt.plot(x, sliding_mean, label='Скользящее среднее с окном [1, 2, 5]')\n",
    "plt.scatter(x_min, f(x_min), label='Точка минимума f')\n",
    "plt.legend()\n",
    "plt.show()"
   ]
  },
  {
   "cell_type": "markdown",
   "metadata": {},
   "source": [
    "# Задание 2.15 (10 баллов)\n",
    "\n",
    "Есть следующий алгоритм семплинирования, на вход функции подается вектор из целых положительных чисел и число семплов."
   ]
  },
  {
   "cell_type": "code",
   "execution_count": 17,
   "metadata": {},
   "outputs": [
    {
     "data": {
      "text/plain": [
       "[0, 0, 0, 0, 4]"
      ]
     },
     "execution_count": 17,
     "metadata": {},
     "output_type": "execute_result"
    }
   ],
   "source": [
    "from typing import List \n",
    "\n",
    "def sample(x: List[int], c: int) -> List[int]:\n",
    "    assert len(x) > 0\n",
    "    \n",
    "    s = np.sum(x)\n",
    "    res = []\n",
    "    for _ in range(c):\n",
    "        val = s * np.random.random()\n",
    "        cur, idx = 0, 0        \n",
    "        while cur + x[idx] <= val:\n",
    "            cur += x[idx]\n",
    "            idx += 1\n",
    "            \n",
    "        res.append(idx)\n",
    "    return res\n",
    "            \n",
    "sample([50, 3, 1, 7, 20], 5)   "
   ]
  },
  {
   "cell_type": "markdown",
   "metadata": {},
   "source": [
    "Реализуйте данный алгоритм более оптимальным способом на массивах `numpy`, без использования циклов. Проверьте корректность и идентичность алгоритмов семплирования с помощью статистических тестов."
   ]
  },
  {
   "cell_type": "code",
   "execution_count": 18,
   "metadata": {},
   "outputs": [
    {
     "data": {
      "text/plain": [
       "array([0, 0, 4, 0, 0], dtype=int64)"
      ]
     },
     "execution_count": 18,
     "metadata": {},
     "output_type": "execute_result"
    }
   ],
   "source": [
    "def sample_np(x: np.ndarray, c: int) -> np.ndarray:\n",
    "    assert len(x) > 0\n",
    "    \n",
    "    s = np.sum(x)\n",
    "    val = s * np.random.random(size=c)\n",
    "    idx = np.searchsorted(np.cumsum(x), val)\n",
    "    return idx\n",
    "\n",
    "sample_np(np.array([50, 3, 1, 7, 20]), 5)"
   ]
  },
  {
   "cell_type": "code",
   "execution_count": 19,
   "metadata": {},
   "outputs": [
    {
     "data": {
      "text/plain": [
       "KstestResult(statistic=0.043, pvalue=0.3136800387320582)"
      ]
     },
     "execution_count": 19,
     "metadata": {},
     "output_type": "execute_result"
    }
   ],
   "source": [
    "from scipy import stats\n",
    "\n",
    "sample1 = sample([50, 3, 1, 7, 20], 1000)\n",
    "sample2 = sample_np(np.array([50, 3, 1, 7, 20]), 1000)\n",
    "stats.ks_2samp(sample1, sample2)"
   ]
  },
  {
   "cell_type": "markdown",
   "metadata": {},
   "source": [
    "P-value для теста Колмогорова-Смирнова, в котором $H_0$: оба массива получены из одного распределения, равен $0.31$, а значит нулевая гипотеза принимается и мы можем утверждать, что семплы получены из одного распределения."
   ]
  },
  {
   "cell_type": "markdown",
   "metadata": {},
   "source": [
    "# Задание 2.16 (5 баллов)\n",
    "\n",
    "Есть следующий алгоритм \"случайного блуждания\""
   ]
  },
  {
   "cell_type": "code",
   "execution_count": 20,
   "metadata": {},
   "outputs": [
    {
     "data": {
      "text/plain": [
       "2310"
      ]
     },
     "execution_count": 20,
     "metadata": {},
     "output_type": "execute_result"
    }
   ],
   "source": [
    "import random \n",
    "\n",
    "def walk(n: int):\n",
    "    cur_position = 0\n",
    "    for i in range(n):\n",
    "        cur_position += random.choice([-3, -1, 0, 2, 3])\n",
    "\n",
    "    return cur_position\n",
    "\n",
    "walk(10_000)"
   ]
  },
  {
   "cell_type": "markdown",
   "metadata": {},
   "source": [
    "Реализуйте более эффективную версию с помощью `numpy`, сравните производительность (используя, например, magic `timeit`). Воспользовавшись [kdeplot()](https://seaborn.pydata.org/generated/seaborn.kdeplot.html) или аналогами, постройте график распределения значений `walk(10_000)` на каком-то разумном запусков. "
   ]
  },
  {
   "cell_type": "code",
   "execution_count": 21,
   "metadata": {},
   "outputs": [
    {
     "data": {
      "text/plain": [
       "1559"
      ]
     },
     "execution_count": 21,
     "metadata": {},
     "output_type": "execute_result"
    }
   ],
   "source": [
    "def walk_np(n: int):\n",
    "    return np.random.choice([-3, -1, 0, 2, 3], size=n).sum()\n",
    "\n",
    "walk_np(10_000)"
   ]
  },
  {
   "cell_type": "code",
   "execution_count": 22,
   "metadata": {},
   "outputs": [
    {
     "data": {
      "image/png": "[encoded data removed]",
      "text/plain": [
       "<Figure size 640x480 with 1 Axes>"
      ]
     },
     "metadata": {},
     "output_type": "display_data"
    }
   ],
   "source": [
    "walk_array = [walk(10000) for i in range(800)]\n",
    "walk_np_array = [walk_np(10000) for i in range(800)]\n",
    "\n",
    "sns.kdeplot(walk_array, label='walk python')\n",
    "sns.kdeplot(walk_np_array, label='walk numpy')\n",
    "plt.legend()\n",
    "plt.show()"
   ]
  },
  {
   "cell_type": "code",
   "execution_count": 23,
   "metadata": {},
   "outputs": [
    {
     "name": "stdout",
     "output_type": "stream",
     "text": [
      "13.8 ms ± 6.23 ms per loop (mean ± std. dev. of 20 runs, 100 loops each)\n",
      "377 µs ± 99.4 µs per loop (mean ± std. dev. of 20 runs, 1000 loops each)\n"
     ]
    }
   ],
   "source": [
    "%timeit -r 20 walk(10000)\n",
    "%timeit -r 20 walk_np(10000)"
   ]
  },
  {
   "cell_type": "markdown",
   "metadata": {},
   "source": [
    "# Задание 2.17 (5 баллов)\n",
    "\n",
    "Имеется функция, которая проделывает достаточно странные манипуляции с массивом `numpy`"
   ]
  },
  {
   "cell_type": "code",
   "execution_count": 24,
   "metadata": {},
   "outputs": [
    {
     "data": {
      "text/plain": [
       "0.7426936462535454"
      ]
     },
     "execution_count": 24,
     "metadata": {},
     "output_type": "execute_result"
    }
   ],
   "source": [
    "import numpy.typing as npt\n",
    "\n",
    "def strange_conv(a: npt.NDArray[np.float64]) -> np.float64:\n",
    "    x = a.shape[0]\n",
    "    y = a.shape[1]\n",
    "\n",
    "    t = 1.\n",
    "    for y in range(y - 5):\n",
    "        for x in range(x - 3):\n",
    "            c = 1.5 * a[y+1, x+2] - a[y+5, x+3] * a[y, x] + 0.2 * a[y+4, x]\n",
    "            t = 0.2 * t + 0.8 * c\n",
    "\n",
    "    return t\n",
    "\n",
    "\n",
    "a = np.random.random((10000, 10000))\n",
    "strange_conv(a)"
   ]
  },
  {
   "cell_type": "markdown",
   "metadata": {},
   "source": [
    "Оптимизируйте данную функцию с помощью (2 на выбор):\n",
    "- [Numba](https://numba.pydata.org)\n",
    "- `Cython` (+5 баллов)\n",
    "- [Taichi](https://github.com/taichi-dev/taichi) (+5 баллов)\n",
    "- `Pythran `[[1]](https://pythran.readthedocs.io/en/latest/), [[2]](https://serge-sans-paille.github.io/pythran-stories/pythran-tutorial.html) (+2 балла)\n",
    "\n",
    "Сравните производительность."
   ]
  },
  {
   "cell_type": "code",
   "execution_count": 25,
   "metadata": {},
   "outputs": [],
   "source": [
    "import numba as nb\n",
    "\n",
    "@nb.njit()\n",
    "def strange_conv_nb(a: npt.NDArray[np.float64]) -> np.float64:\n",
    "    x = a.shape[0]\n",
    "    y = a.shape[1]\n",
    "\n",
    "    t = 1.\n",
    "    for y in range(y - 5):\n",
    "        for x in range(x - 3):\n",
    "            c = 1.5 * a[y+1, x+2] - a[y+5, x+3] * a[y, x] + 0.2 * a[y+4, x]\n",
    "            t = 0.2 * t + 0.8 * c\n",
    "\n",
    "    return t"
   ]
  },
  {
   "cell_type": "code",
   "execution_count": 26,
   "metadata": {},
   "outputs": [
    {
     "data": {
      "text/plain": [
       "0.7426936462535454"
      ]
     },
     "execution_count": 26,
     "metadata": {},
     "output_type": "execute_result"
    }
   ],
   "source": [
    "strange_conv_nb(a)"
   ]
  },
  {
   "cell_type": "code",
   "execution_count": 27,
   "metadata": {},
   "outputs": [],
   "source": [
    "%load_ext Cython"
   ]
  },
  {
   "cell_type": "code",
   "execution_count": 28,
   "metadata": {},
   "outputs": [],
   "source": [
    "%%cython\n",
    "\n",
    "cimport cython\n",
    "cimport numpy as np\n",
    "np.import_array()\n",
    "\n",
    "ctypedef np.float64_t DTYPE_f\n",
    "\n",
    "@cython.boundscheck(False)\n",
    "@cython.wraparound(False) \n",
    "def strange_conv_c(DTYPE_f[:, :] a):\n",
    "    cdef Py_ssize_t x = a.shape[0]\n",
    "    cdef Py_ssize_t y = a.shape[1]\n",
    "\n",
    "    cdef DTYPE_f t = 1.\n",
    "    cdef DTYPE_f c\n",
    "    for y in range(y - 5):\n",
    "        for x in range(x - 3):\n",
    "            c = 1.5 * a[y+1, x+2] - a[y+5, x+3] * a[y, x] + 0.2 * a[y+4, x]\n",
    "            t = 0.2 * t + 0.8 * c\n",
    "            \n",
    "    return t"
   ]
  },
  {
   "cell_type": "code",
   "execution_count": 29,
   "metadata": {},
   "outputs": [
    {
     "data": {
      "text/plain": [
       "0.7426936462535454"
      ]
     },
     "execution_count": 29,
     "metadata": {},
     "output_type": "execute_result"
    }
   ],
   "source": [
    "strange_conv_c(a)"
   ]
  },
  {
   "cell_type": "code",
   "execution_count": 30,
   "metadata": {},
   "outputs": [
    {
     "name": "stdout",
     "output_type": "stream",
     "text": [
      "[Taichi] version 1.3.0, llvm 15.0.1, commit 0f25b95e, win, python 3.9.13\n",
      "[Taichi] Starting on arch=x64\n"
     ]
    }
   ],
   "source": [
    "import taichi as ti\n",
    "\n",
    "ti.init(arch=ti.cpu)\n",
    "\n",
    "@ti.kernel\n",
    "def strange_conv_ti(a: ti.types.ndarray()) -> ti.f64:\n",
    "    x = ti.u16(a.shape[0])\n",
    "    y = ti.u16(a.shape[1])\n",
    "\n",
    "    t = ti.f64(1.) \n",
    "    \n",
    "    for y in ti.ndrange(y - 5):\n",
    "        for x in ti.ndrange(x - 3):\n",
    "            c = 1.5 * a[y+1, x+2] - a[y+5, x+3] * a[y, x] + 0.2 * a[y+4, x]\n",
    "            t = 0.2 * t + 0.8 * c\n",
    "\n",
    "    return t"
   ]
  },
  {
   "cell_type": "code",
   "execution_count": 31,
   "metadata": {},
   "outputs": [
    {
     "data": {
      "text/plain": [
       "1.029887860174978"
      ]
     },
     "execution_count": 31,
     "metadata": {},
     "output_type": "execute_result"
    }
   ],
   "source": [
    "strange_conv_ti(a)"
   ]
  },
  {
   "cell_type": "code",
   "execution_count": 32,
   "metadata": {},
   "outputs": [
    {
     "name": "stdout",
     "output_type": "stream",
     "text": [
      "32.7 s ± 474 ms per loop (mean ± std. dev. of 7 runs, 1 loop each)\n",
      "52.2 ms ± 323 µs per loop (mean ± std. dev. of 7 runs, 10 loops each)\n",
      "51.5 ms ± 22.2 µs per loop (mean ± std. dev. of 7 runs, 10 loops each)\n",
      "515 ms ± 1.51 ms per loop (mean ± std. dev. of 7 runs, 1 loop each)\n"
     ]
    }
   ],
   "source": [
    "%timeit strange_conv(a)\n",
    "%timeit strange_conv_nb(a)\n",
    "%timeit strange_conv_c(a)\n",
    "%timeit strange_conv_ti(a)"
   ]
  }
 ],
 "metadata": {
  "kernelspec": {
   "display_name": "Python 3 (ipykernel)",
   "language": "python",
   "name": "python3"
  },
  "language_info": {
   "codemirror_mode": {
    "name": "ipython",
    "version": 3
   },
   "file_extension": ".py",
   "mimetype": "text/x-python",
   "name": "python",
   "nbconvert_exporter": "python",
   "pygments_lexer": "ipython3",
   "version": "3.9.13"
  },
  "vscode": {
   "interpreter": {
    "hash": "916dbcbb3f70747c44a77c7bcd40155683ae19c65e1c03b4aa3499c5328201f1"
   }
  }
 },
 "nbformat": 4,
 "nbformat_minor": 2
}
