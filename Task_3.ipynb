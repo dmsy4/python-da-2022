{
 "cells": [
  {
   "cell_type": "markdown",
   "metadata": {},
   "source": [
    "# Задание 3.\n",
    "\n",
    "Загрузите [данные по изменению температуры поверхности земли](https://www.kaggle.com/datasets/berkeleyearth/climate-change-earth-surface-temperature-data). Для этого может понадобится зарегистрироваться на [Kaggle](https://kaggle.com). Затем нужно будет работать с данными, которые содержатся в файле **GlobalLandTemperaturesByMajorCity.csv**"
   ]
  },
  {
   "cell_type": "code",
   "execution_count": 365,
   "metadata": {},
   "outputs": [
    {
     "data": {
      "text/html": [
       "<div>\n",
       "<style scoped>\n",
       "    .dataframe tbody tr th:only-of-type {\n",
       "        vertical-align: middle;\n",
       "    }\n",
       "\n",
       "    .dataframe tbody tr th {\n",
       "        vertical-align: top;\n",
       "    }\n",
       "\n",
       "    .dataframe thead th {\n",
       "        text-align: right;\n",
       "    }\n",
       "</style>\n",
       "<table border=\"1\" class=\"dataframe\">\n",
       "  <thead>\n",
       "    <tr style=\"text-align: right;\">\n",
       "      <th></th>\n",
       "      <th>dt</th>\n",
       "      <th>AverageTemperature</th>\n",
       "      <th>AverageTemperatureUncertainty</th>\n",
       "      <th>City</th>\n",
       "      <th>Country</th>\n",
       "      <th>Latitude</th>\n",
       "      <th>Longitude</th>\n",
       "    </tr>\n",
       "  </thead>\n",
       "  <tbody>\n",
       "    <tr>\n",
       "      <th>0</th>\n",
       "      <td>1849-01-01</td>\n",
       "      <td>26.704</td>\n",
       "      <td>1.435</td>\n",
       "      <td>Abidjan</td>\n",
       "      <td>Côte D'Ivoire</td>\n",
       "      <td>5.63N</td>\n",
       "      <td>3.23W</td>\n",
       "    </tr>\n",
       "    <tr>\n",
       "      <th>1</th>\n",
       "      <td>1849-02-01</td>\n",
       "      <td>27.434</td>\n",
       "      <td>1.362</td>\n",
       "      <td>Abidjan</td>\n",
       "      <td>Côte D'Ivoire</td>\n",
       "      <td>5.63N</td>\n",
       "      <td>3.23W</td>\n",
       "    </tr>\n",
       "    <tr>\n",
       "      <th>2</th>\n",
       "      <td>1849-03-01</td>\n",
       "      <td>28.101</td>\n",
       "      <td>1.612</td>\n",
       "      <td>Abidjan</td>\n",
       "      <td>Côte D'Ivoire</td>\n",
       "      <td>5.63N</td>\n",
       "      <td>3.23W</td>\n",
       "    </tr>\n",
       "    <tr>\n",
       "      <th>3</th>\n",
       "      <td>1849-04-01</td>\n",
       "      <td>26.140</td>\n",
       "      <td>1.387</td>\n",
       "      <td>Abidjan</td>\n",
       "      <td>Côte D'Ivoire</td>\n",
       "      <td>5.63N</td>\n",
       "      <td>3.23W</td>\n",
       "    </tr>\n",
       "    <tr>\n",
       "      <th>4</th>\n",
       "      <td>1849-05-01</td>\n",
       "      <td>25.427</td>\n",
       "      <td>1.200</td>\n",
       "      <td>Abidjan</td>\n",
       "      <td>Côte D'Ivoire</td>\n",
       "      <td>5.63N</td>\n",
       "      <td>3.23W</td>\n",
       "    </tr>\n",
       "  </tbody>\n",
       "</table>\n",
       "</div>"
      ],
      "text/plain": [
       "          dt  AverageTemperature  AverageTemperatureUncertainty     City  \\\n",
       "0 1849-01-01              26.704                          1.435  Abidjan   \n",
       "1 1849-02-01              27.434                          1.362  Abidjan   \n",
       "2 1849-03-01              28.101                          1.612  Abidjan   \n",
       "3 1849-04-01              26.140                          1.387  Abidjan   \n",
       "4 1849-05-01              25.427                          1.200  Abidjan   \n",
       "\n",
       "         Country Latitude Longitude  \n",
       "0  Côte D'Ivoire    5.63N     3.23W  \n",
       "1  Côte D'Ivoire    5.63N     3.23W  \n",
       "2  Côte D'Ivoire    5.63N     3.23W  \n",
       "3  Côte D'Ivoire    5.63N     3.23W  \n",
       "4  Côte D'Ivoire    5.63N     3.23W  "
      ]
     },
     "execution_count": 365,
     "metadata": {},
     "output_type": "execute_result"
    }
   ],
   "source": [
    "import zipfile\n",
    "\n",
    "import pandas as pd\n",
    "import numpy as np\n",
    "import matplotlib.pyplot as plt\n",
    "\n",
    "%matplotlib inline\n",
    "\n",
    "with zipfile.ZipFile(\"archive.zip\") as z:\n",
    "    with z.open(\"GlobalLandTemperaturesByMajorCity.csv\") as f:\n",
    "        df = pd.read_csv(f, parse_dates=[\"dt\"])\n",
    "\n",
    "df.head()"
   ]
  },
  {
   "cell_type": "markdown",
   "metadata": {},
   "source": [
    "# Задание 3.1 (1 балл)\n",
    "\n",
    "В последующих заданиях будут учитываться данные начиная с 01.01.1950. Для этого создайте новый `DataFrame`, в котором удалены все строки до 01.01.1950. Используйте созданный DataFrame в последующих заданиях.  "
   ]
  },
  {
   "cell_type": "code",
   "execution_count": 366,
   "metadata": {},
   "outputs": [
    {
     "data": {
      "text/html": [
       "<div>\n",
       "<style scoped>\n",
       "    .dataframe tbody tr th:only-of-type {\n",
       "        vertical-align: middle;\n",
       "    }\n",
       "\n",
       "    .dataframe tbody tr th {\n",
       "        vertical-align: top;\n",
       "    }\n",
       "\n",
       "    .dataframe thead th {\n",
       "        text-align: right;\n",
       "    }\n",
       "</style>\n",
       "<table border=\"1\" class=\"dataframe\">\n",
       "  <thead>\n",
       "    <tr style=\"text-align: right;\">\n",
       "      <th></th>\n",
       "      <th>dt</th>\n",
       "      <th>AverageTemperature</th>\n",
       "      <th>AverageTemperatureUncertainty</th>\n",
       "      <th>City</th>\n",
       "      <th>Country</th>\n",
       "      <th>Latitude</th>\n",
       "      <th>Longitude</th>\n",
       "    </tr>\n",
       "  </thead>\n",
       "  <tbody>\n",
       "    <tr>\n",
       "      <th>0</th>\n",
       "      <td>1950-01-01</td>\n",
       "      <td>26.773</td>\n",
       "      <td>0.239</td>\n",
       "      <td>Abidjan</td>\n",
       "      <td>Côte D'Ivoire</td>\n",
       "      <td>5.63N</td>\n",
       "      <td>3.23W</td>\n",
       "    </tr>\n",
       "    <tr>\n",
       "      <th>1</th>\n",
       "      <td>1950-02-01</td>\n",
       "      <td>27.527</td>\n",
       "      <td>0.348</td>\n",
       "      <td>Abidjan</td>\n",
       "      <td>Côte D'Ivoire</td>\n",
       "      <td>5.63N</td>\n",
       "      <td>3.23W</td>\n",
       "    </tr>\n",
       "    <tr>\n",
       "      <th>2</th>\n",
       "      <td>1950-03-01</td>\n",
       "      <td>28.344</td>\n",
       "      <td>0.431</td>\n",
       "      <td>Abidjan</td>\n",
       "      <td>Côte D'Ivoire</td>\n",
       "      <td>5.63N</td>\n",
       "      <td>3.23W</td>\n",
       "    </tr>\n",
       "    <tr>\n",
       "      <th>3</th>\n",
       "      <td>1950-04-01</td>\n",
       "      <td>27.830</td>\n",
       "      <td>0.467</td>\n",
       "      <td>Abidjan</td>\n",
       "      <td>Côte D'Ivoire</td>\n",
       "      <td>5.63N</td>\n",
       "      <td>3.23W</td>\n",
       "    </tr>\n",
       "    <tr>\n",
       "      <th>4</th>\n",
       "      <td>1950-05-01</td>\n",
       "      <td>26.896</td>\n",
       "      <td>0.248</td>\n",
       "      <td>Abidjan</td>\n",
       "      <td>Côte D'Ivoire</td>\n",
       "      <td>5.63N</td>\n",
       "      <td>3.23W</td>\n",
       "    </tr>\n",
       "  </tbody>\n",
       "</table>\n",
       "</div>"
      ],
      "text/plain": [
       "          dt  AverageTemperature  AverageTemperatureUncertainty     City  \\\n",
       "0 1950-01-01              26.773                          0.239  Abidjan   \n",
       "1 1950-02-01              27.527                          0.348  Abidjan   \n",
       "2 1950-03-01              28.344                          0.431  Abidjan   \n",
       "3 1950-04-01              27.830                          0.467  Abidjan   \n",
       "4 1950-05-01              26.896                          0.248  Abidjan   \n",
       "\n",
       "         Country Latitude Longitude  \n",
       "0  Côte D'Ivoire    5.63N     3.23W  \n",
       "1  Côte D'Ivoire    5.63N     3.23W  \n",
       "2  Côte D'Ivoire    5.63N     3.23W  \n",
       "3  Côte D'Ivoire    5.63N     3.23W  \n",
       "4  Côte D'Ivoire    5.63N     3.23W  "
      ]
     },
     "execution_count": 366,
     "metadata": {},
     "output_type": "execute_result"
    }
   ],
   "source": [
    "df = df[df['dt'] >= pd.Timestamp('1950-01-01')]\n",
    "df.reset_index(drop=True, inplace=True)\n",
    "YEARS = pd.unique(df.dt.dt.year).reshape(-1, 1) # будем использовать дальше в некоторых заданиях\n",
    "df.head()"
   ]
  },
  {
   "cell_type": "markdown",
   "metadata": {},
   "source": [
    "# Задание 3.2 (2 балла)\n",
    "\n",
    "Постройте график среднегодовых температур в городе Торонто."
   ]
  },
  {
   "cell_type": "code",
   "execution_count": 273,
   "metadata": {},
   "outputs": [
    {
     "data": {
      "image/png": "[encoded data removed]",
      "text/plain": [
       "<Figure size 640x480 with 1 Axes>"
      ]
     },
     "metadata": {},
     "output_type": "display_data"
    }
   ],
   "source": [
    "T_df = df[df['City'] == 'Toronto']\n",
    "T_df.groupby(T_df['dt'].dt.year).mean()['AverageTemperature'].plot()\n",
    "plt.title(\"График среднегодовых температур в городе Торонто\")\n",
    "plt.xlabel('Год')\n",
    "plt.ylabel('Температура')\n",
    "plt.grid()\n",
    "plt.show()"
   ]
  },
  {
   "cell_type": "markdown",
   "metadata": {},
   "source": [
    "# Задание 3.3 (2 балла)\n",
    "\n",
    "Найдите город, для которого выборочная дисперсия температур на приведенных данных максимальна. "
   ]
  },
  {
   "cell_type": "code",
   "execution_count": 274,
   "metadata": {},
   "outputs": [
    {
     "data": {
      "text/plain": [
       "'Harbin'"
      ]
     },
     "execution_count": 274,
     "metadata": {},
     "output_type": "execute_result"
    }
   ],
   "source": [
    "df.groupby(df['City']).var()['AverageTemperature'].idxmax()"
   ]
  },
  {
   "cell_type": "markdown",
   "metadata": {},
   "source": [
    "# Задание 3.4 (4 балла)\n",
    "\n",
    "На одной оси постройте графики, отображающие:\n",
    "1. Зависимость выборочной дисперсии температур от широты города (Latitude).\n",
    "2. Зависимость средней температуры в январе 1975 года от широты города (Latitude).\n",
    "3. Зависимость средней температуры в июле 1975 года от широты города (Latitude)."
   ]
  },
  {
   "cell_type": "code",
   "execution_count": 275,
   "metadata": {},
   "outputs": [
    {
     "data": {
      "image/png": "[encoded data removed]",
      "text/plain": [
       "<Figure size 800x500 with 1 Axes>"
      ]
     },
     "metadata": {},
     "output_type": "display_data"
    }
   ],
   "source": [
    "fig, ax = plt.subplots(figsize=(8, 5))\n",
    "\n",
    "latitude_var = df.groupby(df['Latitude']).var()\n",
    "january1975_avg = df[df['dt'] == pd.Timestamp('1975-01-01')].groupby(df['Latitude']).mean()\n",
    "july1975_avg = df[df['dt'] == pd.Timestamp('1975-07-01')].groupby(df['Latitude']).mean()\n",
    "\n",
    "latitude_var.plot(y='AverageTemperature', ax=ax, label=\"Зависимость дисперсии от широты\")\n",
    "january1975_avg.plot(y='AverageTemperature', ax=ax, label=\"Зависимость ср. температуры 01.01.1975 от широты\")\n",
    "july1975_avg.plot(y='AverageTemperature', ax=ax, label=\"Зависимость ср. температуры 01.07.1975 от широты\")\n",
    "\n",
    "plt.xlabel('Широта')\n",
    "plt.ylabel('Температура')\n",
    "plt.legend(loc='upper left')\n",
    "plt.grid()\n",
    "plt.tight_layout()\n",
    "plt.show()"
   ]
  },
  {
   "cell_type": "markdown",
   "metadata": {},
   "source": [
    "# Задание 3.5 (6 баллов)\n",
    "\n",
    "Посчитайте данные по среднегодовой температуре в Санкт-Петербурге. Определите года, в которых средняя температура была выше, чем в предыдущем  и последующем году. Постройте график среднегодовой температуры и обозначьте на нём найденные года (произвольным образом). \n",
    "\n",
    "Постройте модель линейной регрессии (можно использовать [LinearRegression](https://scikit-learn.org/stable/modules/generated/sklearn.linear_model.LinearRegression.html)): $\\mathbb{год} \\rightarrow \\mathbb{средняя\\_температура}$. Отобразите прямую на предыдущем графике. "
   ]
  },
  {
   "cell_type": "code",
   "execution_count": 276,
   "metadata": {},
   "outputs": [
    {
     "data": {
      "image/png": "[encoded data removed]",
      "text/plain": [
       "<Figure size 800x500 with 1 Axes>"
      ]
     },
     "metadata": {},
     "output_type": "display_data"
    }
   ],
   "source": [
    "from scipy.signal import argrelextrema\n",
    "from numpy import greater_equal\n",
    "\n",
    "fig, ax = plt.subplots(figsize=(8, 5))\n",
    "\n",
    "annualy_spb = df[df['City'] == 'Saint Petersburg'].groupby(df.dt.dt.year).mean()\n",
    "annualy_spb.plot(y='AverageTemperature', ax=ax, label=\"Среднегодовая температура в СПб\")\n",
    "local_max = annualy_spb.iloc[argrelextrema(annualy_spb['AverageTemperature'].values,\n",
    "                                           greater_equal,\n",
    "                                           order=1)[0]]\n",
    "# index to column for scatter plot\n",
    "local_max = local_max.reset_index(level=0)\n",
    "local_max.plot(x='dt', y='AverageTemperature', kind='scatter', ax=ax, color='r')\n",
    "\n",
    "plt.xlabel('Год')\n",
    "plt.ylabel('Температура')\n",
    "plt.grid()\n",
    "plt.tight_layout()\n",
    "plt.show()"
   ]
  },
  {
   "cell_type": "code",
   "execution_count": 278,
   "metadata": {},
   "outputs": [
    {
     "data": {
      "image/png": "[encoded data removed]",
      "text/plain": [
       "<Figure size 800x500 with 1 Axes>"
      ]
     },
     "metadata": {},
     "output_type": "display_data"
    }
   ],
   "source": [
    "from sklearn.linear_model import LinearRegression\n",
    "\n",
    "linreg = LinearRegression()\n",
    "linreg.fit(YEARS,\n",
    "           annualy_spb['AverageTemperature'].values)\n",
    "\n",
    "avg_temperature_regression = linreg.predict(annualy_spb.index.values.reshape(-1, 1))\n",
    "fig, ax = plt.subplots(figsize=(8, 5))\n",
    "\n",
    "annualy_spb.plot(y='AverageTemperature', ax=ax, label=\"Среднегодовая температура в СПб\")\n",
    "local_max.plot(x='dt', y='AverageTemperature', kind='scatter', ax=ax, color='r')\n",
    "ax.plot(annualy_spb.index.values, avg_temperature_regression,\n",
    "        label=\"Лин. регрессия: год --> среднегодовая температура\",\n",
    "        color='g')\n",
    "\n",
    "plt.xlabel('Год')\n",
    "plt.ylabel('Температура')\n",
    "plt.legend()\n",
    "plt.grid()\n",
    "plt.tight_layout()\n",
    "plt.show()"
   ]
  },
  {
   "cell_type": "markdown",
   "metadata": {},
   "source": [
    "# Задание 3.6 (4 балла)\n",
    "\n",
    "Найдите города, для которых: \n",
    "1. Разница между максимальным и минимальным значением среднегодовой температуры в выборке максимальна.\n",
    "2. Самая большая средняя разница между средней температурой января и средней температурой июля.\n",
    "3. Наибольшее среднее количество месяцев с отрицательной температурой в году."
   ]
  },
  {
   "cell_type": "markdown",
   "metadata": {},
   "source": [
    "## 3.6.1 \n",
    "Разница между максимальным и минимальным значением среднегодовой температуры в выборке максимальна."
   ]
  },
  {
   "cell_type": "code",
   "execution_count": 279,
   "metadata": {},
   "outputs": [
    {
     "data": {
      "text/plain": [
       "City\n",
       "Abidjan        29.923\n",
       "Addis Abeba    21.223\n",
       "Ahmadabad      35.419\n",
       "Aleppo         32.629\n",
       "Alexandria     28.806\n",
       "Name: AverageTemperature, dtype: float64"
      ]
     },
     "execution_count": 279,
     "metadata": {},
     "output_type": "execute_result"
    }
   ],
   "source": [
    "max_annualy_temp_by_city = df.groupby([df.dt.dt.year, 'City'])['AverageTemperature'].apply(max)\n",
    "max_annualy_temp_by_city = max_annualy_temp_by_city.groupby('City').max()\n",
    "max_annualy_temp_by_city.head()"
   ]
  },
  {
   "cell_type": "code",
   "execution_count": 280,
   "metadata": {},
   "outputs": [
    {
     "data": {
      "text/plain": [
       "City\n",
       "Abidjan        23.463\n",
       "Addis Abeba    14.980\n",
       "Ahmadabad      17.775\n",
       "Aleppo          1.086\n",
       "Alexandria     12.310\n",
       "Name: AverageTemperature, dtype: float64"
      ]
     },
     "execution_count": 280,
     "metadata": {},
     "output_type": "execute_result"
    }
   ],
   "source": [
    "min_annualy_temp_by_city = df.groupby([df.dt.dt.year, 'City'])['AverageTemperature'].apply(min)\n",
    "min_annualy_temp_by_city = min_annualy_temp_by_city.groupby('City').min()\n",
    "min_annualy_temp_by_city.head()"
   ]
  },
  {
   "cell_type": "code",
   "execution_count": 281,
   "metadata": {},
   "outputs": [
    {
     "data": {
      "text/plain": [
       "'Harbin'"
      ]
     },
     "execution_count": 281,
     "metadata": {},
     "output_type": "execute_result"
    }
   ],
   "source": [
    "(max_annualy_temp_by_city - min_annualy_temp_by_city).idxmax()"
   ]
  },
  {
   "cell_type": "markdown",
   "metadata": {},
   "source": [
    "## 3.6.2\n",
    "Самая большая средняя разница между средней температурой января и средней температурой июля."
   ]
  },
  {
   "cell_type": "code",
   "execution_count": 282,
   "metadata": {},
   "outputs": [
    {
     "data": {
      "text/plain": [
       "'Harbin'"
      ]
     },
     "execution_count": 282,
     "metadata": {},
     "output_type": "execute_result"
    }
   ],
   "source": [
    "january_avg_per_year = df[df.dt.dt.month == 1].set_index(['City'])['AverageTemperature']\n",
    "july_avg_per_year = df[df.dt.dt.month == 7].set_index(['City'])['AverageTemperature']\n",
    "avg_diff_january_july = (abs(january_avg_per_year - july_avg_per_year)).groupby('City').mean()\n",
    "avg_diff_january_july.idxmax()"
   ]
  },
  {
   "cell_type": "markdown",
   "metadata": {},
   "source": [
    "## 3.6.3\n",
    "Наибольшее среднее количество месяцев с отрицательной температурой в году."
   ]
  },
  {
   "cell_type": "code",
   "execution_count": 283,
   "metadata": {},
   "outputs": [
    {
     "data": {
      "text/plain": [
       "'Harbin'"
      ]
     },
     "execution_count": 283,
     "metadata": {},
     "output_type": "execute_result"
    }
   ],
   "source": [
    "not_nan_temp_cnt = df[~df['AverageTemperature'].isna()].groupby('City').count()['dt']\n",
    "negative_temp_cnt = df[df['AverageTemperature'] < 0].groupby('City').count()['dt']\n",
    "(negative_temp_cnt / not_nan_temp_cnt).idxmax()"
   ]
  },
  {
   "cell_type": "markdown",
   "metadata": {},
   "source": [
    "# Задание 3.7 (3 балла)\n",
    "\n",
    "Отобразите города на карте, например с помощью [geopandas/folium](https://geopandas.org/en/stable/gallery/plotting_with_folium.html) или [plotly](https://plotly.com/python-api-reference/generated/plotly.express.scatter_geo.html). Причем цвет метки должен соответствовать средней температуре в январе за последние 10 лет. \n",
    "\n",
    "\n",
    "**\\***(+3 балла). Вычислите прямую с \"трендом\" по изменению температуры в каждом городе в период 1950-2013 (можно с помощью линейной регрессии, как в задании **3.5**). Отобразите города цветом, который зависит от угла наклона этой прямой. \n",
    "\n",
    "\n",
    "**\\***(+1 балл) В дополнение к предыдущему пункту, используйте библиотеку [pwlf](https://pypi.org/project/pwlf/) с фиксированным числом сегментов и визуализируйте угол наклона последнего сегмента."
   ]
  },
  {
   "cell_type": "markdown",
   "metadata": {},
   "source": [
    "## 3.7.1"
   ]
  },
  {
   "cell_type": "code",
   "execution_count": 423,
   "metadata": {},
   "outputs": [],
   "source": [
    "max_year = YEARS.max()\n",
    "last_decade = max_year - 10 + 1\n",
    "last_decade_df = df[df.dt.dt.year.between(last_decade, max_year)]\n",
    "last_decade_jan_df = last_decade_df[last_decade_df.dt.dt.month == 1]\n",
    "last_decade_avg_jan_df = last_decade_jan_df.groupby('City').mean()"
   ]
  },
  {
   "cell_type": "code",
   "execution_count": 424,
   "metadata": {},
   "outputs": [
    {
     "data": {
      "text/html": [
       "<div>\n",
       "<style scoped>\n",
       "    .dataframe tbody tr th:only-of-type {\n",
       "        vertical-align: middle;\n",
       "    }\n",
       "\n",
       "    .dataframe tbody tr th {\n",
       "        vertical-align: top;\n",
       "    }\n",
       "\n",
       "    .dataframe thead th {\n",
       "        text-align: right;\n",
       "    }\n",
       "</style>\n",
       "<table border=\"1\" class=\"dataframe\">\n",
       "  <thead>\n",
       "    <tr style=\"text-align: right;\">\n",
       "      <th></th>\n",
       "      <th>Latitude</th>\n",
       "      <th>Longitude</th>\n",
       "    </tr>\n",
       "    <tr>\n",
       "      <th>City</th>\n",
       "      <th></th>\n",
       "      <th></th>\n",
       "    </tr>\n",
       "  </thead>\n",
       "  <tbody>\n",
       "    <tr>\n",
       "      <th>Abidjan</th>\n",
       "      <td>5.63N</td>\n",
       "      <td>3.23W</td>\n",
       "    </tr>\n",
       "    <tr>\n",
       "      <th>Addis Abeba</th>\n",
       "      <td>8.84N</td>\n",
       "      <td>38.11E</td>\n",
       "    </tr>\n",
       "    <tr>\n",
       "      <th>Ahmadabad</th>\n",
       "      <td>23.31N</td>\n",
       "      <td>72.52E</td>\n",
       "    </tr>\n",
       "    <tr>\n",
       "      <th>Aleppo</th>\n",
       "      <td>36.17N</td>\n",
       "      <td>37.79E</td>\n",
       "    </tr>\n",
       "    <tr>\n",
       "      <th>Alexandria</th>\n",
       "      <td>31.35N</td>\n",
       "      <td>30.16E</td>\n",
       "    </tr>\n",
       "  </tbody>\n",
       "</table>\n",
       "</div>"
      ],
      "text/plain": [
       "            Latitude Longitude\n",
       "City                          \n",
       "Abidjan        5.63N     3.23W\n",
       "Addis Abeba    8.84N    38.11E\n",
       "Ahmadabad     23.31N    72.52E\n",
       "Aleppo        36.17N    37.79E\n",
       "Alexandria    31.35N    30.16E"
      ]
     },
     "execution_count": 424,
     "metadata": {},
     "output_type": "execute_result"
    }
   ],
   "source": [
    "lat_lon_df = df[['City', 'Latitude', 'Longitude']].drop_duplicates().set_index('City')\n",
    "lat_lon_df.head()"
   ]
  },
  {
   "cell_type": "code",
   "execution_count": 425,
   "metadata": {},
   "outputs": [
    {
     "data": {
      "text/html": [
       "<div>\n",
       "<style scoped>\n",
       "    .dataframe tbody tr th:only-of-type {\n",
       "        vertical-align: middle;\n",
       "    }\n",
       "\n",
       "    .dataframe tbody tr th {\n",
       "        vertical-align: top;\n",
       "    }\n",
       "\n",
       "    .dataframe thead th {\n",
       "        text-align: right;\n",
       "    }\n",
       "</style>\n",
       "<table border=\"1\" class=\"dataframe\">\n",
       "  <thead>\n",
       "    <tr style=\"text-align: right;\">\n",
       "      <th></th>\n",
       "      <th>AverageTemperature</th>\n",
       "      <th>Latitude</th>\n",
       "      <th>Longitude</th>\n",
       "    </tr>\n",
       "    <tr>\n",
       "      <th>City</th>\n",
       "      <th></th>\n",
       "      <th></th>\n",
       "      <th></th>\n",
       "    </tr>\n",
       "  </thead>\n",
       "  <tbody>\n",
       "    <tr>\n",
       "      <th>Abidjan</th>\n",
       "      <td>27.2830</td>\n",
       "      <td>5.63N</td>\n",
       "      <td>3.23W</td>\n",
       "    </tr>\n",
       "    <tr>\n",
       "      <th>Addis Abeba</th>\n",
       "      <td>18.2239</td>\n",
       "      <td>8.84N</td>\n",
       "      <td>38.11E</td>\n",
       "    </tr>\n",
       "    <tr>\n",
       "      <th>Ahmadabad</th>\n",
       "      <td>19.9577</td>\n",
       "      <td>23.31N</td>\n",
       "      <td>72.52E</td>\n",
       "    </tr>\n",
       "    <tr>\n",
       "      <th>Aleppo</th>\n",
       "      <td>5.9257</td>\n",
       "      <td>36.17N</td>\n",
       "      <td>37.79E</td>\n",
       "    </tr>\n",
       "    <tr>\n",
       "      <th>Alexandria</th>\n",
       "      <td>14.8218</td>\n",
       "      <td>31.35N</td>\n",
       "      <td>30.16E</td>\n",
       "    </tr>\n",
       "  </tbody>\n",
       "</table>\n",
       "</div>"
      ],
      "text/plain": [
       "             AverageTemperature Latitude Longitude\n",
       "City                                              \n",
       "Abidjan                 27.2830    5.63N     3.23W\n",
       "Addis Abeba             18.2239    8.84N    38.11E\n",
       "Ahmadabad               19.9577   23.31N    72.52E\n",
       "Aleppo                   5.9257   36.17N    37.79E\n",
       "Alexandria              14.8218   31.35N    30.16E"
      ]
     },
     "execution_count": 425,
     "metadata": {},
     "output_type": "execute_result"
    }
   ],
   "source": [
    "last_decade_avg_jan_df = pd.concat([last_decade_avg_jan_df, lat_lon_df], axis=1)[['AverageTemperature',\n",
    "                                                                                  'Latitude',\n",
    "                                                                                  'Longitude']]\n",
    "last_decade_avg_jan_df.head()"
   ]
  },
  {
   "cell_type": "markdown",
   "metadata": {},
   "source": [
    "Переведем широту и долготу в читаемый для plotly формат."
   ]
  },
  {
   "cell_type": "code",
   "execution_count": 426,
   "metadata": {},
   "outputs": [
    {
     "data": {
      "text/html": [
       "<div>\n",
       "<style scoped>\n",
       "    .dataframe tbody tr th:only-of-type {\n",
       "        vertical-align: middle;\n",
       "    }\n",
       "\n",
       "    .dataframe tbody tr th {\n",
       "        vertical-align: top;\n",
       "    }\n",
       "\n",
       "    .dataframe thead th {\n",
       "        text-align: right;\n",
       "    }\n",
       "</style>\n",
       "<table border=\"1\" class=\"dataframe\">\n",
       "  <thead>\n",
       "    <tr style=\"text-align: right;\">\n",
       "      <th></th>\n",
       "      <th>AverageTemperature</th>\n",
       "      <th>Latitude</th>\n",
       "      <th>Longitude</th>\n",
       "    </tr>\n",
       "    <tr>\n",
       "      <th>City</th>\n",
       "      <th></th>\n",
       "      <th></th>\n",
       "      <th></th>\n",
       "    </tr>\n",
       "  </thead>\n",
       "  <tbody>\n",
       "    <tr>\n",
       "      <th>Abidjan</th>\n",
       "      <td>27.2830</td>\n",
       "      <td>5.63</td>\n",
       "      <td>-3.23</td>\n",
       "    </tr>\n",
       "    <tr>\n",
       "      <th>Addis Abeba</th>\n",
       "      <td>18.2239</td>\n",
       "      <td>8.84</td>\n",
       "      <td>38.11</td>\n",
       "    </tr>\n",
       "    <tr>\n",
       "      <th>Ahmadabad</th>\n",
       "      <td>19.9577</td>\n",
       "      <td>23.31</td>\n",
       "      <td>72.52</td>\n",
       "    </tr>\n",
       "    <tr>\n",
       "      <th>Aleppo</th>\n",
       "      <td>5.9257</td>\n",
       "      <td>36.17</td>\n",
       "      <td>37.79</td>\n",
       "    </tr>\n",
       "    <tr>\n",
       "      <th>Alexandria</th>\n",
       "      <td>14.8218</td>\n",
       "      <td>31.35</td>\n",
       "      <td>30.16</td>\n",
       "    </tr>\n",
       "  </tbody>\n",
       "</table>\n",
       "</div>"
      ],
      "text/plain": [
       "             AverageTemperature  Latitude  Longitude\n",
       "City                                                \n",
       "Abidjan                 27.2830      5.63      -3.23\n",
       "Addis Abeba             18.2239      8.84      38.11\n",
       "Ahmadabad               19.9577     23.31      72.52\n",
       "Aleppo                   5.9257     36.17      37.79\n",
       "Alexandria              14.8218     31.35      30.16"
      ]
     },
     "execution_count": 426,
     "metadata": {},
     "output_type": "execute_result"
    }
   ],
   "source": [
    "def convert_lat_lon(x):\n",
    "    if x.endswith('W') or x.endswith('S'):\n",
    "        x = -float(x.strip('W')) if x.endswith('W') else -float(x.strip('S'))\n",
    "    else:\n",
    "        x = float(x.strip('E')) if x.endswith('E') else float(x.strip('N'))\n",
    "    return x\n",
    "\n",
    "last_decade_avg_jan_df['Latitude'] = last_decade_avg_jan_df['Latitude'].apply(convert_lat_lon)\n",
    "last_decade_avg_jan_df['Longitude'] = last_decade_avg_jan_df['Longitude'].apply(convert_lat_lon)\n",
    "last_decade_avg_jan_df.head()"
   ]
  },
  {
   "cell_type": "code",
   "execution_count": 427,
   "metadata": {
    "scrolled": true
   },
   "outputs": [
    {
     "data": {
      "application/vnd.plotly.v1+json": {
       "config": {
        "plotlyServerURL": "https://plot.ly"
       },
       "data": [
        {
         "geo": "geo",
         "hovertemplate": "<b>%{hovertext}</b><br><br>Latitude=%{lat}<br>Longitude=%{lon}<br>AverageTemperature=%{marker.color}<extra></extra>",
         "hovertext": [
          "Abidjan",
          "Addis Abeba",
          "Ahmadabad",
          "Aleppo",
          "Alexandria",
          "Ankara",
          "Baghdad",
          "Bangalore",
          "Bangkok",
          "Belo Horizonte",
          "Berlin",
          "Bogotá",
          "Bombay",
          "Brasília",
          "Cairo",
          "Calcutta",
          "Cali",
          "Cape Town",
          "Casablanca",
          "Changchun",
          "Chengdu",
          "Chicago",
          "Chongqing",
          "Dakar",
          "Dalian",
          "Dar Es Salaam",
          "Delhi",
          "Dhaka",
          "Durban",
          "Faisalabad",
          "Fortaleza",
          "Gizeh",
          "Guangzhou",
          "Harare",
          "Harbin",
          "Ho Chi Minh City",
          "Hyderabad",
          "Ibadan",
          "Istanbul",
          "Izmir",
          "Jaipur",
          "Jakarta",
          "Jiddah",
          "Jinan",
          "Kabul",
          "Kano",
          "Kanpur",
          "Karachi",
          "Kiev",
          "Kinshasa",
          "Lagos",
          "Lahore",
          "Lakhnau",
          "Lima",
          "London",
          "Los Angeles",
          "Luanda",
          "Madras",
          "Madrid",
          "Manila",
          "Mashhad",
          "Melbourne",
          "Mexico",
          "Mogadishu",
          "Montreal",
          "Moscow",
          "Nagoya",
          "Nagpur",
          "Nairobi",
          "Nanjing",
          "New Delhi",
          "New York",
          "Paris",
          "Peking",
          "Pune",
          "Rangoon",
          "Rio De Janeiro",
          "Riyadh",
          "Rome",
          "Saint Petersburg",
          "Salvador",
          "Santiago",
          "Santo Domingo",
          "Seoul",
          "Shanghai",
          "Shenyang",
          "Singapore",
          "Surabaya",
          "Surat",
          "Sydney",
          "São Paulo",
          "Taipei",
          "Taiyuan",
          "Tangshan",
          "Tianjin",
          "Tokyo",
          "Toronto",
          "Umm Durman",
          "Wuhan",
          "Xian"
         ],
         "lat": [
          5.63,
          8.84,
          23.31,
          36.17,
          31.35,
          39.38,
          32.95,
          12.05,
          13.66,
          -20.09,
          52.24,
          4.02,
          18.48,
          -15.27,
          29.74,
          23.31,
          4.02,
          -32.95,
          32.95,
          44.2,
          31.35,
          42.59,
          29.74,
          15.27,
          39.38,
          -7.23,
          28.13,
          23.31,
          -29.74,
          31.35,
          -4.02,
          29.74,
          23.31,
          -18.48,
          45.81,
          10.45,
          16.87,
          7.23,
          40.99,
          37.78,
          26.52,
          -5.63,
          21.7,
          36.17,
          34.56,
          12.05,
          26.52,
          24.92,
          50.63,
          -4.02,
          5.63,
          31.35,
          26.52,
          -12.05,
          52.24,
          34.56,
          -8.84,
          13.66,
          40.99,
          15.27,
          36.17,
          -37.78,
          20.09,
          2.41,
          45.81,
          55.45,
          34.56,
          21.7,
          -0.8,
          31.35,
          28.13,
          40.99,
          49.03,
          39.38,
          18.48,
          16.87,
          -23.31,
          24.92,
          42.59,
          60.27,
          -13.66,
          -32.95,
          18.48,
          37.78,
          31.35,
          40.99,
          0.8,
          -7.23,
          21.7,
          -34.56,
          -23.31,
          24.92,
          37.78,
          37.78,
          39.38,
          36.17,
          44.2,
          15.27,
          29.74,
          34.56
         ],
         "legendgroup": "",
         "lon": [
          -3.23,
          38.11,
          72.52,
          37.79,
          30.16,
          33.29,
          45,
          77.26,
          99.91,
          -44.36,
          13.14,
          -74.73,
          72.68,
          -47.5,
          31.38,
          88.25,
          -76.34,
          18.19,
          -6.7,
          125.22,
          103.66,
          -87.27,
          107.08,
          -17.5,
          120.69,
          39.73,
          77.27,
          90,
          31.38,
          73.51,
          -40.98,
          31.38,
          112.72,
          30.42,
          125.77,
          107.18,
          78.7,
          4.05,
          29.82,
          26.44,
          75.22,
          106.55,
          38.94,
          117.35,
          70.05,
          8.22,
          80.6,
          67.39,
          31.69,
          15.27,
          3.23,
          73.51,
          80.6,
          -77.26,
          0,
          -118.7,
          13.78,
          80.09,
          -4.26,
          120.83,
          59.67,
          144.41,
          -98.96,
          45.8,
          -72.69,
          36.85,
          136.22,
          78.75,
          36.16,
          118.74,
          77.27,
          -74.56,
          2.45,
          116.53,
          74.37,
          95.44,
          -42.82,
          46.11,
          13.09,
          29.19,
          -38.81,
          -69.89,
          -69.3,
          126.1,
          120.63,
          123.55,
          103.66,
          112.7,
          73.56,
          151.78,
          -46.31,
          122.36,
          111.86,
          113.9,
          116.53,
          139.23,
          -80.5,
          32.5,
          114.46,
          108.97
         ],
         "marker": {
          "color": [
           27.283000000000005,
           18.223900000000004,
           19.9577,
           5.9257,
           14.8218,
           -0.6110000000000001,
           10.115300000000001,
           23.564100000000003,
           25.754399999999997,
           23.297800000000002,
           0.5474,
           20.7012,
           24.8241,
           22.876800000000003,
           13.7684,
           18.7665,
           22.541400000000003,
           20.599200000000003,
           9.8965,
           -15.696800000000001,
           0.7176,
           0.3448999999999999,
           6.0341000000000005,
           22.244300000000003,
           -4.062900000000001,
           28.469600000000003,
           14.4773,
           18.470100000000002,
           23.3927,
           12.4543,
           27.981099999999998,
           13.7684,
           12.472,
           22.3477,
           -18.3022,
           26.240500000000004,
           23.573900000000002,
           27.794900000000002,
           5.551,
           10.496500000000001,
           15.791599999999999,
           26.8014,
           23.7791,
           -1.2490999999999999,
           2.2249,
           22.177799999999998,
           14.6328,
           18.513300000000005,
           -4.394,
           24.9156,
           27.0699,
           12.4543,
           14.6328,
           20.175900000000002,
           4.523300000000001,
           9.8689,
           25.1031,
           25.225,
           3.9714,
           25.430500000000002,
           0.9080000000000001,
           20.1007,
           12.8827,
           27.3545,
           -10.5252,
           -7.909700000000001,
           4.4636,
           19.542099999999998,
           17.6974,
           2.8227,
           14.4773,
           -2.168,
           4.0207,
           -3.8920000000000003,
           21.0933,
           24.9906,
           26.133100000000002,
           14.435300000000002,
           3.6942999999999997,
           -5.447,
           26.9133,
           13.317699999999999,
           24.838,
           -3.3711999999999995,
           3.5253,
           -10.7052,
           26.544100000000004,
           27.1278,
           20.5946,
           20.6309,
           22.7624,
           16.999999999999996,
           -7.8199999999999985,
           -3.1287,
           -3.8920000000000003,
           1.8161999999999998,
           -6.7642,
           23.3256,
           3.7445,
           -2.1035
          ],
          "coloraxis": "coloraxis",
          "symbol": "circle"
         },
         "mode": "markers",
         "name": "",
         "showlegend": false,
         "type": "scattergeo"
        }
       ],
       "layout": {
        "coloraxis": {
         "colorbar": {
          "title": {
           "text": "AverageTemperature"
          }
         },
         "colorscale": [
          [
           0,
           "#0d0887"
          ],
          [
           0.1111111111111111,
           "#46039f"
          ],
          [
           0.2222222222222222,
           "#7201a8"
          ],
          [
           0.3333333333333333,
           "#9c179e"
          ],
          [
           0.4444444444444444,
           "#bd3786"
          ],
          [
           0.5555555555555556,
           "#d8576b"
          ],
          [
           0.6666666666666666,
           "#ed7953"
          ],
          [
           0.7777777777777778,
           "#fb9f3a"
          ],
          [
           0.8888888888888888,
           "#fdca26"
          ],
          [
           1,
           "#f0f921"
          ]
         ]
        },
        "geo": {
         "center": {},
         "domain": {
          "x": [
           0,
           1
          ],
          "y": [
           0,
           1
          ]
         }
        },
        "legend": {
         "tracegroupgap": 0
        },
        "template": {
         "data": {
          "bar": [
           {
            "error_x": {
             "color": "#2a3f5f"
            },
            "error_y": {
             "color": "#2a3f5f"
            },
            "marker": {
             "line": {
              "color": "#E5ECF6",
              "width": 0.5
             },
             "pattern": {
              "fillmode": "overlay",
              "size": 10,
              "solidity": 0.2
             }
            },
            "type": "bar"
           }
          ],
          "barpolar": [
           {
            "marker": {
             "line": {
              "color": "#E5ECF6",
              "width": 0.5
             },
             "pattern": {
              "fillmode": "overlay",
              "size": 10,
              "solidity": 0.2
             }
            },
            "type": "barpolar"
           }
          ],
          "carpet": [
           {
            "aaxis": {
             "endlinecolor": "#2a3f5f",
             "gridcolor": "white",
             "linecolor": "white",
             "minorgridcolor": "white",
             "startlinecolor": "#2a3f5f"
            },
            "baxis": {
             "endlinecolor": "#2a3f5f",
             "gridcolor": "white",
             "linecolor": "white",
             "minorgridcolor": "white",
             "startlinecolor": "#2a3f5f"
            },
            "type": "carpet"
           }
          ],
          "choropleth": [
           {
            "colorbar": {
             "outlinewidth": 0,
             "ticks": ""
            },
            "type": "choropleth"
           }
          ],
          "contour": [
           {
            "colorbar": {
             "outlinewidth": 0,
             "ticks": ""
            },
            "colorscale": [
             [
              0,
              "#0d0887"
             ],
             [
              0.1111111111111111,
              "#46039f"
             ],
             [
              0.2222222222222222,
              "#7201a8"
             ],
             [
              0.3333333333333333,
              "#9c179e"
             ],
             [
              0.4444444444444444,
              "#bd3786"
             ],
             [
              0.5555555555555556,
              "#d8576b"
             ],
             [
              0.6666666666666666,
              "#ed7953"
             ],
             [
              0.7777777777777778,
              "#fb9f3a"
             ],
             [
              0.8888888888888888,
              "#fdca26"
             ],
             [
              1,
              "#f0f921"
             ]
            ],
            "type": "contour"
           }
          ],
          "contourcarpet": [
           {
            "colorbar": {
             "outlinewidth": 0,
             "ticks": ""
            },
            "type": "contourcarpet"
           }
          ],
          "heatmap": [
           {
            "colorbar": {
             "outlinewidth": 0,
             "ticks": ""
            },
            "colorscale": [
             [
              0,
              "#0d0887"
             ],
             [
              0.1111111111111111,
              "#46039f"
             ],
             [
              0.2222222222222222,
              "#7201a8"
             ],
             [
              0.3333333333333333,
              "#9c179e"
             ],
             [
              0.4444444444444444,
              "#bd3786"
             ],
             [
              0.5555555555555556,
              "#d8576b"
             ],
             [
              0.6666666666666666,
              "#ed7953"
             ],
             [
              0.7777777777777778,
              "#fb9f3a"
             ],
             [
              0.8888888888888888,
              "#fdca26"
             ],
             [
              1,
              "#f0f921"
             ]
            ],
            "type": "heatmap"
           }
          ],
          "heatmapgl": [
           {
            "colorbar": {
             "outlinewidth": 0,
             "ticks": ""
            },
            "colorscale": [
             [
              0,
              "#0d0887"
             ],
             [
              0.1111111111111111,
              "#46039f"
             ],
             [
              0.2222222222222222,
              "#7201a8"
             ],
             [
              0.3333333333333333,
              "#9c179e"
             ],
             [
              0.4444444444444444,
              "#bd3786"
             ],
             [
              0.5555555555555556,
              "#d8576b"
             ],
             [
              0.6666666666666666,
              "#ed7953"
             ],
             [
              0.7777777777777778,
              "#fb9f3a"
             ],
             [
              0.8888888888888888,
              "#fdca26"
             ],
             [
              1,
              "#f0f921"
             ]
            ],
            "type": "heatmapgl"
           }
          ],
          "histogram": [
           {
            "marker": {
             "pattern": {
              "fillmode": "overlay",
              "size": 10,
              "solidity": 0.2
             }
            },
            "type": "histogram"
           }
          ],
          "histogram2d": [
           {
            "colorbar": {
             "outlinewidth": 0,
             "ticks": ""
            },
            "colorscale": [
             [
              0,
              "#0d0887"
             ],
             [
              0.1111111111111111,
              "#46039f"
             ],
             [
              0.2222222222222222,
              "#7201a8"
             ],
             [
              0.3333333333333333,
              "#9c179e"
             ],
             [
              0.4444444444444444,
              "#bd3786"
             ],
             [
              0.5555555555555556,
              "#d8576b"
             ],
             [
              0.6666666666666666,
              "#ed7953"
             ],
             [
              0.7777777777777778,
              "#fb9f3a"
             ],
             [
              0.8888888888888888,
              "#fdca26"
             ],
             [
              1,
              "#f0f921"
             ]
            ],
            "type": "histogram2d"
           }
          ],
          "histogram2dcontour": [
           {
            "colorbar": {
             "outlinewidth": 0,
             "ticks": ""
            },
            "colorscale": [
             [
              0,
              "#0d0887"
             ],
             [
              0.1111111111111111,
              "#46039f"
             ],
             [
              0.2222222222222222,
              "#7201a8"
             ],
             [
              0.3333333333333333,
              "#9c179e"
             ],
             [
              0.4444444444444444,
              "#bd3786"
             ],
             [
              0.5555555555555556,
              "#d8576b"
             ],
             [
              0.6666666666666666,
              "#ed7953"
             ],
             [
              0.7777777777777778,
              "#fb9f3a"
             ],
             [
              0.8888888888888888,
              "#fdca26"
             ],
             [
              1,
              "#f0f921"
             ]
            ],
            "type": "histogram2dcontour"
           }
          ],
          "mesh3d": [
           {
            "colorbar": {
             "outlinewidth": 0,
             "ticks": ""
            },
            "type": "mesh3d"
           }
          ],
          "parcoords": [
           {
            "line": {
             "colorbar": {
              "outlinewidth": 0,
              "ticks": ""
             }
            },
            "type": "parcoords"
           }
          ],
          "pie": [
           {
            "automargin": true,
            "type": "pie"
           }
          ],
          "scatter": [
           {
            "fillpattern": {
             "fillmode": "overlay",
             "size": 10,
             "solidity": 0.2
            },
            "type": "scatter"
           }
          ],
          "scatter3d": [
           {
            "line": {
             "colorbar": {
              "outlinewidth": 0,
              "ticks": ""
             }
            },
            "marker": {
             "colorbar": {
              "outlinewidth": 0,
              "ticks": ""
             }
            },
            "type": "scatter3d"
           }
          ],
          "scattercarpet": [
           {
            "marker": {
             "colorbar": {
              "outlinewidth": 0,
              "ticks": ""
             }
            },
            "type": "scattercarpet"
           }
          ],
          "scattergeo": [
           {
            "marker": {
             "colorbar": {
              "outlinewidth": 0,
              "ticks": ""
             }
            },
            "type": "scattergeo"
           }
          ],
          "scattergl": [
           {
            "marker": {
             "colorbar": {
              "outlinewidth": 0,
              "ticks": ""
             }
            },
            "type": "scattergl"
           }
          ],
          "scattermapbox": [
           {
            "marker": {
             "colorbar": {
              "outlinewidth": 0,
              "ticks": ""
             }
            },
            "type": "scattermapbox"
           }
          ],
          "scatterpolar": [
           {
            "marker": {
             "colorbar": {
              "outlinewidth": 0,
              "ticks": ""
             }
            },
            "type": "scatterpolar"
           }
          ],
          "scatterpolargl": [
           {
            "marker": {
             "colorbar": {
              "outlinewidth": 0,
              "ticks": ""
             }
            },
            "type": "scatterpolargl"
           }
          ],
          "scatterternary": [
           {
            "marker": {
             "colorbar": {
              "outlinewidth": 0,
              "ticks": ""
             }
            },
            "type": "scatterternary"
           }
          ],
          "surface": [
           {
            "colorbar": {
             "outlinewidth": 0,
             "ticks": ""
            },
            "colorscale": [
             [
              0,
              "#0d0887"
             ],
             [
              0.1111111111111111,
              "#46039f"
             ],
             [
              0.2222222222222222,
              "#7201a8"
             ],
             [
              0.3333333333333333,
              "#9c179e"
             ],
             [
              0.4444444444444444,
              "#bd3786"
             ],
             [
              0.5555555555555556,
              "#d8576b"
             ],
             [
              0.6666666666666666,
              "#ed7953"
             ],
             [
              0.7777777777777778,
              "#fb9f3a"
             ],
             [
              0.8888888888888888,
              "#fdca26"
             ],
             [
              1,
              "#f0f921"
             ]
            ],
            "type": "surface"
           }
          ],
          "table": [
           {
            "cells": {
             "fill": {
              "color": "#EBF0F8"
             },
             "line": {
              "color": "white"
             }
            },
            "header": {
             "fill": {
              "color": "#C8D4E3"
             },
             "line": {
              "color": "white"
             }
            },
            "type": "table"
           }
          ]
         },
         "layout": {
          "annotationdefaults": {
           "arrowcolor": "#2a3f5f",
           "arrowhead": 0,
           "arrowwidth": 1
          },
          "autotypenumbers": "strict",
          "coloraxis": {
           "colorbar": {
            "outlinewidth": 0,
            "ticks": ""
           }
          },
          "colorscale": {
           "diverging": [
            [
             0,
             "#8e0152"
            ],
            [
             0.1,
             "#c51b7d"
            ],
            [
             0.2,
             "#de77ae"
            ],
            [
             0.3,
             "#f1b6da"
            ],
            [
             0.4,
             "#fde0ef"
            ],
            [
             0.5,
             "#f7f7f7"
            ],
            [
             0.6,
             "#e6f5d0"
            ],
            [
             0.7,
             "#b8e186"
            ],
            [
             0.8,
             "#7fbc41"
            ],
            [
             0.9,
             "#4d9221"
            ],
            [
             1,
             "#276419"
            ]
           ],
           "sequential": [
            [
             0,
             "#0d0887"
            ],
            [
             0.1111111111111111,
             "#46039f"
            ],
            [
             0.2222222222222222,
             "#7201a8"
            ],
            [
             0.3333333333333333,
             "#9c179e"
            ],
            [
             0.4444444444444444,
             "#bd3786"
            ],
            [
             0.5555555555555556,
             "#d8576b"
            ],
            [
             0.6666666666666666,
             "#ed7953"
            ],
            [
             0.7777777777777778,
             "#fb9f3a"
            ],
            [
             0.8888888888888888,
             "#fdca26"
            ],
            [
             1,
             "#f0f921"
            ]
           ],
           "sequentialminus": [
            [
             0,
             "#0d0887"
            ],
            [
             0.1111111111111111,
             "#46039f"
            ],
            [
             0.2222222222222222,
             "#7201a8"
            ],
            [
             0.3333333333333333,
             "#9c179e"
            ],
            [
             0.4444444444444444,
             "#bd3786"
            ],
            [
             0.5555555555555556,
             "#d8576b"
            ],
            [
             0.6666666666666666,
             "#ed7953"
            ],
            [
             0.7777777777777778,
             "#fb9f3a"
            ],
            [
             0.8888888888888888,
             "#fdca26"
            ],
            [
             1,
             "#f0f921"
            ]
           ]
          },
          "colorway": [
           "#636efa",
           "#EF553B",
           "#00cc96",
           "#ab63fa",
           "#FFA15A",
           "#19d3f3",
           "#FF6692",
           "#B6E880",
           "#FF97FF",
           "#FECB52"
          ],
          "font": {
           "color": "#2a3f5f"
          },
          "geo": {
           "bgcolor": "white",
           "lakecolor": "white",
           "landcolor": "#E5ECF6",
           "showlakes": true,
           "showland": true,
           "subunitcolor": "white"
          },
          "hoverlabel": {
           "align": "left"
          },
          "hovermode": "closest",
          "mapbox": {
           "style": "light"
          },
          "paper_bgcolor": "white",
          "plot_bgcolor": "#E5ECF6",
          "polar": {
           "angularaxis": {
            "gridcolor": "white",
            "linecolor": "white",
            "ticks": ""
           },
           "bgcolor": "#E5ECF6",
           "radialaxis": {
            "gridcolor": "white",
            "linecolor": "white",
            "ticks": ""
           }
          },
          "scene": {
           "xaxis": {
            "backgroundcolor": "#E5ECF6",
            "gridcolor": "white",
            "gridwidth": 2,
            "linecolor": "white",
            "showbackground": true,
            "ticks": "",
            "zerolinecolor": "white"
           },
           "yaxis": {
            "backgroundcolor": "#E5ECF6",
            "gridcolor": "white",
            "gridwidth": 2,
            "linecolor": "white",
            "showbackground": true,
            "ticks": "",
            "zerolinecolor": "white"
           },
           "zaxis": {
            "backgroundcolor": "#E5ECF6",
            "gridcolor": "white",
            "gridwidth": 2,
            "linecolor": "white",
            "showbackground": true,
            "ticks": "",
            "zerolinecolor": "white"
           }
          },
          "shapedefaults": {
           "line": {
            "color": "#2a3f5f"
           }
          },
          "ternary": {
           "aaxis": {
            "gridcolor": "white",
            "linecolor": "white",
            "ticks": ""
           },
           "baxis": {
            "gridcolor": "white",
            "linecolor": "white",
            "ticks": ""
           },
           "bgcolor": "#E5ECF6",
           "caxis": {
            "gridcolor": "white",
            "linecolor": "white",
            "ticks": ""
           }
          },
          "title": {
           "x": 0.05
          },
          "xaxis": {
           "automargin": true,
           "gridcolor": "white",
           "linecolor": "white",
           "ticks": "",
           "title": {
            "standoff": 15
           },
           "zerolinecolor": "white",
           "zerolinewidth": 2
          },
          "yaxis": {
           "automargin": true,
           "gridcolor": "white",
           "linecolor": "white",
           "ticks": "",
           "title": {
            "standoff": 15
           },
           "zerolinecolor": "white",
           "zerolinewidth": 2
          }
         }
        },
        "title": {
         "text": "Средняя температура в январе за последние 10 лет"
        }
       }
      },
      "text/html": [
       "<div>                            <div id=\"0b4ebc84-6502-43b2-9599-4e06f6e80192\" class=\"plotly-graph-div\" style=\"height:525px; width:100%;\"></div>            <script type=\"text/javascript\">                require([\"plotly\"], function(Plotly) {                    window.PLOTLYENV=window.PLOTLYENV || {};                                    if (document.getElementById(\"0b4ebc84-6502-43b2-9599-4e06f6e80192\")) {                    Plotly.newPlot(                        \"0b4ebc84-6502-43b2-9599-4e06f6e80192\",                        [{\"geo\":\"geo\",\"hovertemplate\":\"<b>%{hovertext}</b><br><br>Latitude=%{lat}<br>Longitude=%{lon}<br>AverageTemperature=%{marker.color}<extra></extra>\",\"hovertext\":[\"Abidjan\",\"Addis Abeba\",\"Ahmadabad\",\"Aleppo\",\"Alexandria\",\"Ankara\",\"Baghdad\",\"Bangalore\",\"Bangkok\",\"Belo Horizonte\",\"Berlin\",\"Bogot\\u00e1\",\"Bombay\",\"Bras\\u00edlia\",\"Cairo\",\"Calcutta\",\"Cali\",\"Cape Town\",\"Casablanca\",\"Changchun\",\"Chengdu\",\"Chicago\",\"Chongqing\",\"Dakar\",\"Dalian\",\"Dar Es Salaam\",\"Delhi\",\"Dhaka\",\"Durban\",\"Faisalabad\",\"Fortaleza\",\"Gizeh\",\"Guangzhou\",\"Harare\",\"Harbin\",\"Ho Chi Minh City\",\"Hyderabad\",\"Ibadan\",\"Istanbul\",\"Izmir\",\"Jaipur\",\"Jakarta\",\"Jiddah\",\"Jinan\",\"Kabul\",\"Kano\",\"Kanpur\",\"Karachi\",\"Kiev\",\"Kinshasa\",\"Lagos\",\"Lahore\",\"Lakhnau\",\"Lima\",\"London\",\"Los Angeles\",\"Luanda\",\"Madras\",\"Madrid\",\"Manila\",\"Mashhad\",\"Melbourne\",\"Mexico\",\"Mogadishu\",\"Montreal\",\"Moscow\",\"Nagoya\",\"Nagpur\",\"Nairobi\",\"Nanjing\",\"New Delhi\",\"New York\",\"Paris\",\"Peking\",\"Pune\",\"Rangoon\",\"Rio De Janeiro\",\"Riyadh\",\"Rome\",\"Saint Petersburg\",\"Salvador\",\"Santiago\",\"Santo Domingo\",\"Seoul\",\"Shanghai\",\"Shenyang\",\"Singapore\",\"Surabaya\",\"Surat\",\"Sydney\",\"S\\u00e3o Paulo\",\"Taipei\",\"Taiyuan\",\"Tangshan\",\"Tianjin\",\"Tokyo\",\"Toronto\",\"Umm Durman\",\"Wuhan\",\"Xian\"],\"lat\":[5.63,8.84,23.31,36.17,31.35,39.38,32.95,12.05,13.66,-20.09,52.24,4.02,18.48,-15.27,29.74,23.31,4.02,-32.95,32.95,44.2,31.35,42.59,29.74,15.27,39.38,-7.23,28.13,23.31,-29.74,31.35,-4.02,29.74,23.31,-18.48,45.81,10.45,16.87,7.23,40.99,37.78,26.52,-5.63,21.7,36.17,34.56,12.05,26.52,24.92,50.63,-4.02,5.63,31.35,26.52,-12.05,52.24,34.56,-8.84,13.66,40.99,15.27,36.17,-37.78,20.09,2.41,45.81,55.45,34.56,21.7,-0.8,31.35,28.13,40.99,49.03,39.38,18.48,16.87,-23.31,24.92,42.59,60.27,-13.66,-32.95,18.48,37.78,31.35,40.99,0.8,-7.23,21.7,-34.56,-23.31,24.92,37.78,37.78,39.38,36.17,44.2,15.27,29.74,34.56],\"legendgroup\":\"\",\"lon\":[-3.23,38.11,72.52,37.79,30.16,33.29,45.0,77.26,99.91,-44.36,13.14,-74.73,72.68,-47.5,31.38,88.25,-76.34,18.19,-6.7,125.22,103.66,-87.27,107.08,-17.5,120.69,39.73,77.27,90.0,31.38,73.51,-40.98,31.38,112.72,30.42,125.77,107.18,78.7,4.05,29.82,26.44,75.22,106.55,38.94,117.35,70.05,8.22,80.6,67.39,31.69,15.27,3.23,73.51,80.6,-77.26,-0.0,-118.7,13.78,80.09,-4.26,120.83,59.67,144.41,-98.96,45.8,-72.69,36.85,136.22,78.75,36.16,118.74,77.27,-74.56,2.45,116.53,74.37,95.44,-42.82,46.11,13.09,29.19,-38.81,-69.89,-69.3,126.1,120.63,123.55,103.66,112.7,73.56,151.78,-46.31,122.36,111.86,113.9,116.53,139.23,-80.5,32.5,114.46,108.97],\"marker\":{\"color\":[27.283000000000005,18.223900000000004,19.9577,5.9257,14.8218,-0.6110000000000001,10.115300000000001,23.564100000000003,25.754399999999997,23.297800000000002,0.5474,20.7012,24.8241,22.876800000000003,13.7684,18.7665,22.541400000000003,20.599200000000003,9.8965,-15.696800000000001,0.7176,0.3448999999999999,6.0341000000000005,22.244300000000003,-4.062900000000001,28.469600000000003,14.4773,18.470100000000002,23.3927,12.4543,27.981099999999998,13.7684,12.472,22.3477,-18.3022,26.240500000000004,23.573900000000002,27.794900000000002,5.551,10.496500000000001,15.791599999999999,26.8014,23.7791,-1.2490999999999999,2.2249,22.177799999999998,14.6328,18.513300000000005,-4.394,24.9156,27.0699,12.4543,14.6328,20.175900000000002,4.523300000000001,9.8689,25.1031,25.225,3.9714,25.430500000000002,0.9080000000000001,20.1007,12.8827,27.3545,-10.5252,-7.909700000000001,4.4636,19.542099999999998,17.6974,2.8227,14.4773,-2.168,4.0207,-3.8920000000000003,21.0933,24.9906,26.133100000000002,14.435300000000002,3.6942999999999997,-5.447,26.9133,13.317699999999999,24.838,-3.3711999999999995,3.5253,-10.7052,26.544100000000004,27.1278,20.5946,20.6309,22.7624,16.999999999999996,-7.8199999999999985,-3.1287,-3.8920000000000003,1.8161999999999998,-6.7642,23.3256,3.7445,-2.1035],\"coloraxis\":\"coloraxis\",\"symbol\":\"circle\"},\"mode\":\"markers\",\"name\":\"\",\"showlegend\":false,\"type\":\"scattergeo\"}],                        {\"template\":{\"data\":{\"histogram2dcontour\":[{\"type\":\"histogram2dcontour\",\"colorbar\":{\"outlinewidth\":0,\"ticks\":\"\"},\"colorscale\":[[0.0,\"#0d0887\"],[0.1111111111111111,\"#46039f\"],[0.2222222222222222,\"#7201a8\"],[0.3333333333333333,\"#9c179e\"],[0.4444444444444444,\"#bd3786\"],[0.5555555555555556,\"#d8576b\"],[0.6666666666666666,\"#ed7953\"],[0.7777777777777778,\"#fb9f3a\"],[0.8888888888888888,\"#fdca26\"],[1.0,\"#f0f921\"]]}],\"choropleth\":[{\"type\":\"choropleth\",\"colorbar\":{\"outlinewidth\":0,\"ticks\":\"\"}}],\"histogram2d\":[{\"type\":\"histogram2d\",\"colorbar\":{\"outlinewidth\":0,\"ticks\":\"\"},\"colorscale\":[[0.0,\"#0d0887\"],[0.1111111111111111,\"#46039f\"],[0.2222222222222222,\"#7201a8\"],[0.3333333333333333,\"#9c179e\"],[0.4444444444444444,\"#bd3786\"],[0.5555555555555556,\"#d8576b\"],[0.6666666666666666,\"#ed7953\"],[0.7777777777777778,\"#fb9f3a\"],[0.8888888888888888,\"#fdca26\"],[1.0,\"#f0f921\"]]}],\"heatmap\":[{\"type\":\"heatmap\",\"colorbar\":{\"outlinewidth\":0,\"ticks\":\"\"},\"colorscale\":[[0.0,\"#0d0887\"],[0.1111111111111111,\"#46039f\"],[0.2222222222222222,\"#7201a8\"],[0.3333333333333333,\"#9c179e\"],[0.4444444444444444,\"#bd3786\"],[0.5555555555555556,\"#d8576b\"],[0.6666666666666666,\"#ed7953\"],[0.7777777777777778,\"#fb9f3a\"],[0.8888888888888888,\"#fdca26\"],[1.0,\"#f0f921\"]]}],\"heatmapgl\":[{\"type\":\"heatmapgl\",\"colorbar\":{\"outlinewidth\":0,\"ticks\":\"\"},\"colorscale\":[[0.0,\"#0d0887\"],[0.1111111111111111,\"#46039f\"],[0.2222222222222222,\"#7201a8\"],[0.3333333333333333,\"#9c179e\"],[0.4444444444444444,\"#bd3786\"],[0.5555555555555556,\"#d8576b\"],[0.6666666666666666,\"#ed7953\"],[0.7777777777777778,\"#fb9f3a\"],[0.8888888888888888,\"#fdca26\"],[1.0,\"#f0f921\"]]}],\"contourcarpet\":[{\"type\":\"contourcarpet\",\"colorbar\":{\"outlinewidth\":0,\"ticks\":\"\"}}],\"contour\":[{\"type\":\"contour\",\"colorbar\":{\"outlinewidth\":0,\"ticks\":\"\"},\"colorscale\":[[0.0,\"#0d0887\"],[0.1111111111111111,\"#46039f\"],[0.2222222222222222,\"#7201a8\"],[0.3333333333333333,\"#9c179e\"],[0.4444444444444444,\"#bd3786\"],[0.5555555555555556,\"#d8576b\"],[0.6666666666666666,\"#ed7953\"],[0.7777777777777778,\"#fb9f3a\"],[0.8888888888888888,\"#fdca26\"],[1.0,\"#f0f921\"]]}],\"surface\":[{\"type\":\"surface\",\"colorbar\":{\"outlinewidth\":0,\"ticks\":\"\"},\"colorscale\":[[0.0,\"#0d0887\"],[0.1111111111111111,\"#46039f\"],[0.2222222222222222,\"#7201a8\"],[0.3333333333333333,\"#9c179e\"],[0.4444444444444444,\"#bd3786\"],[0.5555555555555556,\"#d8576b\"],[0.6666666666666666,\"#ed7953\"],[0.7777777777777778,\"#fb9f3a\"],[0.8888888888888888,\"#fdca26\"],[1.0,\"#f0f921\"]]}],\"mesh3d\":[{\"type\":\"mesh3d\",\"colorbar\":{\"outlinewidth\":0,\"ticks\":\"\"}}],\"scatter\":[{\"fillpattern\":{\"fillmode\":\"overlay\",\"size\":10,\"solidity\":0.2},\"type\":\"scatter\"}],\"parcoords\":[{\"type\":\"parcoords\",\"line\":{\"colorbar\":{\"outlinewidth\":0,\"ticks\":\"\"}}}],\"scatterpolargl\":[{\"type\":\"scatterpolargl\",\"marker\":{\"colorbar\":{\"outlinewidth\":0,\"ticks\":\"\"}}}],\"bar\":[{\"error_x\":{\"color\":\"#2a3f5f\"},\"error_y\":{\"color\":\"#2a3f5f\"},\"marker\":{\"line\":{\"color\":\"#E5ECF6\",\"width\":0.5},\"pattern\":{\"fillmode\":\"overlay\",\"size\":10,\"solidity\":0.2}},\"type\":\"bar\"}],\"scattergeo\":[{\"type\":\"scattergeo\",\"marker\":{\"colorbar\":{\"outlinewidth\":0,\"ticks\":\"\"}}}],\"scatterpolar\":[{\"type\":\"scatterpolar\",\"marker\":{\"colorbar\":{\"outlinewidth\":0,\"ticks\":\"\"}}}],\"histogram\":[{\"marker\":{\"pattern\":{\"fillmode\":\"overlay\",\"size\":10,\"solidity\":0.2}},\"type\":\"histogram\"}],\"scattergl\":[{\"type\":\"scattergl\",\"marker\":{\"colorbar\":{\"outlinewidth\":0,\"ticks\":\"\"}}}],\"scatter3d\":[{\"type\":\"scatter3d\",\"line\":{\"colorbar\":{\"outlinewidth\":0,\"ticks\":\"\"}},\"marker\":{\"colorbar\":{\"outlinewidth\":0,\"ticks\":\"\"}}}],\"scattermapbox\":[{\"type\":\"scattermapbox\",\"marker\":{\"colorbar\":{\"outlinewidth\":0,\"ticks\":\"\"}}}],\"scatterternary\":[{\"type\":\"scatterternary\",\"marker\":{\"colorbar\":{\"outlinewidth\":0,\"ticks\":\"\"}}}],\"scattercarpet\":[{\"type\":\"scattercarpet\",\"marker\":{\"colorbar\":{\"outlinewidth\":0,\"ticks\":\"\"}}}],\"carpet\":[{\"aaxis\":{\"endlinecolor\":\"#2a3f5f\",\"gridcolor\":\"white\",\"linecolor\":\"white\",\"minorgridcolor\":\"white\",\"startlinecolor\":\"#2a3f5f\"},\"baxis\":{\"endlinecolor\":\"#2a3f5f\",\"gridcolor\":\"white\",\"linecolor\":\"white\",\"minorgridcolor\":\"white\",\"startlinecolor\":\"#2a3f5f\"},\"type\":\"carpet\"}],\"table\":[{\"cells\":{\"fill\":{\"color\":\"#EBF0F8\"},\"line\":{\"color\":\"white\"}},\"header\":{\"fill\":{\"color\":\"#C8D4E3\"},\"line\":{\"color\":\"white\"}},\"type\":\"table\"}],\"barpolar\":[{\"marker\":{\"line\":{\"color\":\"#E5ECF6\",\"width\":0.5},\"pattern\":{\"fillmode\":\"overlay\",\"size\":10,\"solidity\":0.2}},\"type\":\"barpolar\"}],\"pie\":[{\"automargin\":true,\"type\":\"pie\"}]},\"layout\":{\"autotypenumbers\":\"strict\",\"colorway\":[\"#636efa\",\"#EF553B\",\"#00cc96\",\"#ab63fa\",\"#FFA15A\",\"#19d3f3\",\"#FF6692\",\"#B6E880\",\"#FF97FF\",\"#FECB52\"],\"font\":{\"color\":\"#2a3f5f\"},\"hovermode\":\"closest\",\"hoverlabel\":{\"align\":\"left\"},\"paper_bgcolor\":\"white\",\"plot_bgcolor\":\"#E5ECF6\",\"polar\":{\"bgcolor\":\"#E5ECF6\",\"angularaxis\":{\"gridcolor\":\"white\",\"linecolor\":\"white\",\"ticks\":\"\"},\"radialaxis\":{\"gridcolor\":\"white\",\"linecolor\":\"white\",\"ticks\":\"\"}},\"ternary\":{\"bgcolor\":\"#E5ECF6\",\"aaxis\":{\"gridcolor\":\"white\",\"linecolor\":\"white\",\"ticks\":\"\"},\"baxis\":{\"gridcolor\":\"white\",\"linecolor\":\"white\",\"ticks\":\"\"},\"caxis\":{\"gridcolor\":\"white\",\"linecolor\":\"white\",\"ticks\":\"\"}},\"coloraxis\":{\"colorbar\":{\"outlinewidth\":0,\"ticks\":\"\"}},\"colorscale\":{\"sequential\":[[0.0,\"#0d0887\"],[0.1111111111111111,\"#46039f\"],[0.2222222222222222,\"#7201a8\"],[0.3333333333333333,\"#9c179e\"],[0.4444444444444444,\"#bd3786\"],[0.5555555555555556,\"#d8576b\"],[0.6666666666666666,\"#ed7953\"],[0.7777777777777778,\"#fb9f3a\"],[0.8888888888888888,\"#fdca26\"],[1.0,\"#f0f921\"]],\"sequentialminus\":[[0.0,\"#0d0887\"],[0.1111111111111111,\"#46039f\"],[0.2222222222222222,\"#7201a8\"],[0.3333333333333333,\"#9c179e\"],[0.4444444444444444,\"#bd3786\"],[0.5555555555555556,\"#d8576b\"],[0.6666666666666666,\"#ed7953\"],[0.7777777777777778,\"#fb9f3a\"],[0.8888888888888888,\"#fdca26\"],[1.0,\"#f0f921\"]],\"diverging\":[[0,\"#8e0152\"],[0.1,\"#c51b7d\"],[0.2,\"#de77ae\"],[0.3,\"#f1b6da\"],[0.4,\"#fde0ef\"],[0.5,\"#f7f7f7\"],[0.6,\"#e6f5d0\"],[0.7,\"#b8e186\"],[0.8,\"#7fbc41\"],[0.9,\"#4d9221\"],[1,\"#276419\"]]},\"xaxis\":{\"gridcolor\":\"white\",\"linecolor\":\"white\",\"ticks\":\"\",\"title\":{\"standoff\":15},\"zerolinecolor\":\"white\",\"automargin\":true,\"zerolinewidth\":2},\"yaxis\":{\"gridcolor\":\"white\",\"linecolor\":\"white\",\"ticks\":\"\",\"title\":{\"standoff\":15},\"zerolinecolor\":\"white\",\"automargin\":true,\"zerolinewidth\":2},\"scene\":{\"xaxis\":{\"backgroundcolor\":\"#E5ECF6\",\"gridcolor\":\"white\",\"linecolor\":\"white\",\"showbackground\":true,\"ticks\":\"\",\"zerolinecolor\":\"white\",\"gridwidth\":2},\"yaxis\":{\"backgroundcolor\":\"#E5ECF6\",\"gridcolor\":\"white\",\"linecolor\":\"white\",\"showbackground\":true,\"ticks\":\"\",\"zerolinecolor\":\"white\",\"gridwidth\":2},\"zaxis\":{\"backgroundcolor\":\"#E5ECF6\",\"gridcolor\":\"white\",\"linecolor\":\"white\",\"showbackground\":true,\"ticks\":\"\",\"zerolinecolor\":\"white\",\"gridwidth\":2}},\"shapedefaults\":{\"line\":{\"color\":\"#2a3f5f\"}},\"annotationdefaults\":{\"arrowcolor\":\"#2a3f5f\",\"arrowhead\":0,\"arrowwidth\":1},\"geo\":{\"bgcolor\":\"white\",\"landcolor\":\"#E5ECF6\",\"subunitcolor\":\"white\",\"showland\":true,\"showlakes\":true,\"lakecolor\":\"white\"},\"title\":{\"x\":0.05},\"mapbox\":{\"style\":\"light\"}}},\"geo\":{\"domain\":{\"x\":[0.0,1.0],\"y\":[0.0,1.0]},\"center\":{}},\"coloraxis\":{\"colorbar\":{\"title\":{\"text\":\"AverageTemperature\"}},\"colorscale\":[[0.0,\"#0d0887\"],[0.1111111111111111,\"#46039f\"],[0.2222222222222222,\"#7201a8\"],[0.3333333333333333,\"#9c179e\"],[0.4444444444444444,\"#bd3786\"],[0.5555555555555556,\"#d8576b\"],[0.6666666666666666,\"#ed7953\"],[0.7777777777777778,\"#fb9f3a\"],[0.8888888888888888,\"#fdca26\"],[1.0,\"#f0f921\"]]},\"legend\":{\"tracegroupgap\":0},\"title\":{\"text\":\"\\u0421\\u0440\\u0435\\u0434\\u043d\\u044f\\u044f \\u0442\\u0435\\u043c\\u043f\\u0435\\u0440\\u0430\\u0442\\u0443\\u0440\\u0430 \\u0432 \\u044f\\u043d\\u0432\\u0430\\u0440\\u0435 \\u0437\\u0430 \\u043f\\u043e\\u0441\\u043b\\u0435\\u0434\\u043d\\u0438\\u0435 10 \\u043b\\u0435\\u0442\"}},                        {\"responsive\": true}                    ).then(function(){\n",
       "                            \n",
       "var gd = document.getElementById('0b4ebc84-6502-43b2-9599-4e06f6e80192');\n",
       "var x = new MutationObserver(function (mutations, observer) {{\n",
       "        var display = window.getComputedStyle(gd).display;\n",
       "        if (!display || display === 'none') {{\n",
       "            console.log([gd, 'removed!']);\n",
       "            Plotly.purge(gd);\n",
       "            observer.disconnect();\n",
       "        }}\n",
       "}});\n",
       "\n",
       "// Listen for the removal of the full notebook cells\n",
       "var notebookContainer = gd.closest('#notebook-container');\n",
       "if (notebookContainer) {{\n",
       "    x.observe(notebookContainer, {childList: true});\n",
       "}}\n",
       "\n",
       "// Listen for the clearing of the current output cell\n",
       "var outputEl = gd.closest('.output');\n",
       "if (outputEl) {{\n",
       "    x.observe(outputEl, {childList: true});\n",
       "}}\n",
       "\n",
       "                        })                };                });            </script>        </div>"
      ]
     },
     "metadata": {},
     "output_type": "display_data"
    }
   ],
   "source": [
    "fig = px.scatter_geo(last_decade_avg_jan_df,\n",
    "                     lat=last_decade_avg_jan_df.Latitude,\n",
    "                     lon=last_decade_avg_jan_df.Longitude,\n",
    "                     hover_name=last_decade_avg_jan_df.index,\n",
    "                     color=last_decade_avg_jan_df.AverageTemperature,\n",
    "                     title=\"Средняя температура в январе за последние 10 лет\"\n",
    "                    )\n",
    "fig.show()"
   ]
  },
  {
   "cell_type": "markdown",
   "metadata": {},
   "source": [
    "## 3.7.2\n",
    "Вычислите прямую с \"трендом\" по изменению температуры в каждом городе в период 1950-2013 (можно с помощью линейной регрессии, как в задании 3.5). Отобразите города цветом, который зависит от угла наклона этой прямой."
   ]
  },
  {
   "cell_type": "code",
   "execution_count": 417,
   "metadata": {},
   "outputs": [],
   "source": [
    "mean_annualy_temp_by_city = df.groupby([df.dt.dt.year, 'City'])['AverageTemperature'].mean()\n",
    "linreg_slope_by_city = dict()\n",
    "\n",
    "for city in pd.unique(df.City):\n",
    "    linreg = LinearRegression()\n",
    "    linreg.fit(YEARS, \n",
    "               mean_annualy_temp_by_city.xs(city, level=1)\n",
    "              )\n",
    "    \n",
    "    linreg_slope_by_city[city] = linreg.coef_[0]"
   ]
  },
  {
   "cell_type": "code",
   "execution_count": 418,
   "metadata": {},
   "outputs": [
    {
     "data": {
      "text/html": [
       "<div>\n",
       "<style scoped>\n",
       "    .dataframe tbody tr th:only-of-type {\n",
       "        vertical-align: middle;\n",
       "    }\n",
       "\n",
       "    .dataframe tbody tr th {\n",
       "        vertical-align: top;\n",
       "    }\n",
       "\n",
       "    .dataframe thead th {\n",
       "        text-align: right;\n",
       "    }\n",
       "</style>\n",
       "<table border=\"1\" class=\"dataframe\">\n",
       "  <thead>\n",
       "    <tr style=\"text-align: right;\">\n",
       "      <th></th>\n",
       "      <th>Latitude</th>\n",
       "      <th>Longitude</th>\n",
       "      <th>Trend line slope</th>\n",
       "    </tr>\n",
       "    <tr>\n",
       "      <th>City</th>\n",
       "      <th></th>\n",
       "      <th></th>\n",
       "      <th></th>\n",
       "    </tr>\n",
       "  </thead>\n",
       "  <tbody>\n",
       "    <tr>\n",
       "      <th>Abidjan</th>\n",
       "      <td>5.63</td>\n",
       "      <td>-3.23</td>\n",
       "      <td>0.015600</td>\n",
       "    </tr>\n",
       "    <tr>\n",
       "      <th>Addis Abeba</th>\n",
       "      <td>8.84</td>\n",
       "      <td>38.11</td>\n",
       "      <td>0.018589</td>\n",
       "    </tr>\n",
       "    <tr>\n",
       "      <th>Ahmadabad</th>\n",
       "      <td>23.31</td>\n",
       "      <td>72.52</td>\n",
       "      <td>0.013634</td>\n",
       "    </tr>\n",
       "    <tr>\n",
       "      <th>Aleppo</th>\n",
       "      <td>36.17</td>\n",
       "      <td>37.79</td>\n",
       "      <td>0.014909</td>\n",
       "    </tr>\n",
       "    <tr>\n",
       "      <th>Alexandria</th>\n",
       "      <td>31.35</td>\n",
       "      <td>30.16</td>\n",
       "      <td>0.013608</td>\n",
       "    </tr>\n",
       "  </tbody>\n",
       "</table>\n",
       "</div>"
      ],
      "text/plain": [
       "             Latitude  Longitude  Trend line slope\n",
       "City                                              \n",
       "Abidjan          5.63      -3.23          0.015600\n",
       "Addis Abeba      8.84      38.11          0.018589\n",
       "Ahmadabad       23.31      72.52          0.013634\n",
       "Aleppo          36.17      37.79          0.014909\n",
       "Alexandria      31.35      30.16          0.013608"
      ]
     },
     "execution_count": 418,
     "metadata": {},
     "output_type": "execute_result"
    }
   ],
   "source": [
    "last_decade_avg_jan_df['Trend line slope'] = pd.Series(linreg_slope_by_city)\n",
    "last_decade_avg_jan_df.drop(['AverageTemperature'], axis=1, inplace=True)\n",
    "last_decade_avg_jan_df.head()"
   ]
  },
  {
   "cell_type": "code",
   "execution_count": 419,
   "metadata": {},
   "outputs": [
    {
     "data": {
      "application/vnd.plotly.v1+json": {
       "config": {
        "plotlyServerURL": "https://plot.ly"
       },
       "data": [
        {
         "geo": "geo",
         "hovertemplate": "<b>%{hovertext}</b><br><br>Latitude=%{lat}<br>Longitude=%{lon}<br>Trend line slope=%{marker.color}<extra></extra>",
         "hovertext": [
          "Abidjan",
          "Addis Abeba",
          "Ahmadabad",
          "Aleppo",
          "Alexandria",
          "Ankara",
          "Baghdad",
          "Bangalore",
          "Bangkok",
          "Belo Horizonte",
          "Berlin",
          "Bogotá",
          "Bombay",
          "Brasília",
          "Cairo",
          "Calcutta",
          "Cali",
          "Cape Town",
          "Casablanca",
          "Changchun",
          "Chengdu",
          "Chicago",
          "Chongqing",
          "Dakar",
          "Dalian",
          "Dar Es Salaam",
          "Delhi",
          "Dhaka",
          "Durban",
          "Faisalabad",
          "Fortaleza",
          "Gizeh",
          "Guangzhou",
          "Harare",
          "Harbin",
          "Ho Chi Minh City",
          "Hyderabad",
          "Ibadan",
          "Istanbul",
          "Izmir",
          "Jaipur",
          "Jakarta",
          "Jiddah",
          "Jinan",
          "Kabul",
          "Kano",
          "Kanpur",
          "Karachi",
          "Kiev",
          "Kinshasa",
          "Lagos",
          "Lahore",
          "Lakhnau",
          "Lima",
          "London",
          "Los Angeles",
          "Luanda",
          "Madras",
          "Madrid",
          "Manila",
          "Mashhad",
          "Melbourne",
          "Mexico",
          "Mogadishu",
          "Montreal",
          "Moscow",
          "Nagoya",
          "Nagpur",
          "Nairobi",
          "Nanjing",
          "New Delhi",
          "New York",
          "Paris",
          "Peking",
          "Pune",
          "Rangoon",
          "Rio De Janeiro",
          "Riyadh",
          "Rome",
          "Saint Petersburg",
          "Salvador",
          "Santiago",
          "Santo Domingo",
          "Seoul",
          "Shanghai",
          "Shenyang",
          "Singapore",
          "Surabaya",
          "Surat",
          "Sydney",
          "São Paulo",
          "Taipei",
          "Taiyuan",
          "Tangshan",
          "Tianjin",
          "Tokyo",
          "Toronto",
          "Umm Durman",
          "Wuhan",
          "Xian"
         ],
         "lat": [
          5.63,
          8.84,
          23.31,
          36.17,
          31.35,
          39.38,
          32.95,
          12.05,
          13.66,
          -20.09,
          52.24,
          4.02,
          18.48,
          -15.27,
          29.74,
          23.31,
          4.02,
          -32.95,
          32.95,
          44.2,
          31.35,
          42.59,
          29.74,
          15.27,
          39.38,
          -7.23,
          28.13,
          23.31,
          -29.74,
          31.35,
          -4.02,
          29.74,
          23.31,
          -18.48,
          45.81,
          10.45,
          16.87,
          7.23,
          40.99,
          37.78,
          26.52,
          -5.63,
          21.7,
          36.17,
          34.56,
          12.05,
          26.52,
          24.92,
          50.63,
          -4.02,
          5.63,
          31.35,
          26.52,
          -12.05,
          52.24,
          34.56,
          -8.84,
          13.66,
          40.99,
          15.27,
          36.17,
          -37.78,
          20.09,
          2.41,
          45.81,
          55.45,
          34.56,
          21.7,
          -0.8,
          31.35,
          28.13,
          40.99,
          49.03,
          39.38,
          18.48,
          16.87,
          -23.31,
          24.92,
          42.59,
          60.27,
          -13.66,
          -32.95,
          18.48,
          37.78,
          31.35,
          40.99,
          0.8,
          -7.23,
          21.7,
          -34.56,
          -23.31,
          24.92,
          37.78,
          37.78,
          39.38,
          36.17,
          44.2,
          15.27,
          29.74,
          34.56
         ],
         "legendgroup": "",
         "lon": [
          -3.23,
          38.11,
          72.52,
          37.79,
          30.16,
          33.29,
          45,
          77.26,
          99.91,
          -44.36,
          13.14,
          -74.73,
          72.68,
          -47.5,
          31.38,
          88.25,
          -76.34,
          18.19,
          -6.7,
          125.22,
          103.66,
          -87.27,
          107.08,
          -17.5,
          120.69,
          39.73,
          77.27,
          90,
          31.38,
          73.51,
          -40.98,
          31.38,
          112.72,
          30.42,
          125.77,
          107.18,
          78.7,
          4.05,
          29.82,
          26.44,
          75.22,
          106.55,
          38.94,
          117.35,
          70.05,
          8.22,
          80.6,
          67.39,
          31.69,
          15.27,
          3.23,
          73.51,
          80.6,
          -77.26,
          0,
          -118.7,
          13.78,
          80.09,
          -4.26,
          120.83,
          59.67,
          144.41,
          -98.96,
          45.8,
          -72.69,
          36.85,
          136.22,
          78.75,
          36.16,
          118.74,
          77.27,
          -74.56,
          2.45,
          116.53,
          74.37,
          95.44,
          -42.82,
          46.11,
          13.09,
          29.19,
          -38.81,
          -69.89,
          -69.3,
          126.1,
          120.63,
          123.55,
          103.66,
          112.7,
          73.56,
          151.78,
          -46.31,
          122.36,
          111.86,
          113.9,
          116.53,
          139.23,
          -80.5,
          32.5,
          114.46,
          108.97
         ],
         "marker": {
          "color": [
           0.015599860729548238,
           0.018589230387667906,
           0.013633883737790002,
           0.014909145108363872,
           0.013607677045177033,
           0.01363626850579976,
           0.024977006066849824,
           0.013120638736263755,
           0.010369602793040292,
           0.01589078811813188,
           0.02253101724664226,
           0.012550391101953601,
           0.010854977487789982,
           0.017491990041208792,
           0.01408588408119658,
           0.006803821352258848,
           0.013036908577533582,
           0.014870539529914536,
           0.020985387095543356,
           0.025050639117826633,
           0.011438875534188039,
           0.019112654532967042,
           0.0102708981990232,
           0.017897829861111124,
           0.020598106494200262,
           0.015719971955128236,
           0.014586876144688645,
           0.006267599587912102,
           0.01464100751678877,
           0.020378614354395624,
           0.01593785771520147,
           0.01408588408119658,
           0.00522352144383395,
           0.01189318337912087,
           0.026638502556471315,
           0.009498359279609285,
           0.01110678991147742,
           0.014665006868131878,
           0.013769678151709413,
           0.012226216231685,
           0.014741921359890095,
           0.011793508661477423,
           0.013835165789072032,
           0.020509458943833953,
           0.024317411668192936,
           0.020090728975885253,
           0.011941224053724058,
           0.01831756238553113,
           0.028220990728021995,
           0.01184497958638583,
           0.014227613705738728,
           0.020378614354395624,
           0.011941224053724058,
           0.010371730960012197,
           0.018783852258852277,
           0.016922037164224687,
           0.014029064598595849,
           0.012739871413308913,
           0.020012684104090354,
           0.007565943605006102,
           0.035175011446886464,
           0.01690321466727717,
           0.00890031478937729,
           0.01514559771825397,
           0.02000709134615385,
           0.032812401747558013,
           0.011032155257936509,
           0.009661291399572652,
           0.015143314064407819,
           0.016567068261599528,
           0.014586876144688645,
           0.018461109203296706,
           0.020267325816544578,
           0.02511045768467644,
           0.011275462644993888,
           0.00906626316391943,
           0.015651490003052517,
           0.02332663308913308,
           0.018934401709401725,
           0.02623084935897437,
           0.0165923344017094,
           0.012631567651098905,
           0.014329525335775348,
           0.01762956635378512,
           0.015624108096764351,
           0.02304201675061051,
           0.011815370306776565,
           0.010059509500915758,
           0.012419095314407816,
           0.016833484050671546,
           0.01581518429487181,
           0.010901837225274734,
           0.02413630666208793,
           0.023536070093101356,
           0.02511045768467644,
           0.01154952686202688,
           0.02120965735653236,
           0.017541344246031737,
           0.015184859584859592,
           0.018790445665445667
          ],
          "coloraxis": "coloraxis",
          "symbol": "circle"
         },
         "mode": "markers",
         "name": "",
         "showlegend": false,
         "type": "scattergeo"
        }
       ],
       "layout": {
        "coloraxis": {
         "colorbar": {
          "title": {
           "text": "Trend line slope"
          }
         },
         "colorscale": [
          [
           0,
           "#0d0887"
          ],
          [
           0.1111111111111111,
           "#46039f"
          ],
          [
           0.2222222222222222,
           "#7201a8"
          ],
          [
           0.3333333333333333,
           "#9c179e"
          ],
          [
           0.4444444444444444,
           "#bd3786"
          ],
          [
           0.5555555555555556,
           "#d8576b"
          ],
          [
           0.6666666666666666,
           "#ed7953"
          ],
          [
           0.7777777777777778,
           "#fb9f3a"
          ],
          [
           0.8888888888888888,
           "#fdca26"
          ],
          [
           1,
           "#f0f921"
          ]
         ]
        },
        "geo": {
         "center": {},
         "domain": {
          "x": [
           0,
           1
          ],
          "y": [
           0,
           1
          ]
         }
        },
        "legend": {
         "tracegroupgap": 0
        },
        "template": {
         "data": {
          "bar": [
           {
            "error_x": {
             "color": "#2a3f5f"
            },
            "error_y": {
             "color": "#2a3f5f"
            },
            "marker": {
             "line": {
              "color": "#E5ECF6",
              "width": 0.5
             },
             "pattern": {
              "fillmode": "overlay",
              "size": 10,
              "solidity": 0.2
             }
            },
            "type": "bar"
           }
          ],
          "barpolar": [
           {
            "marker": {
             "line": {
              "color": "#E5ECF6",
              "width": 0.5
             },
             "pattern": {
              "fillmode": "overlay",
              "size": 10,
              "solidity": 0.2
             }
            },
            "type": "barpolar"
           }
          ],
          "carpet": [
           {
            "aaxis": {
             "endlinecolor": "#2a3f5f",
             "gridcolor": "white",
             "linecolor": "white",
             "minorgridcolor": "white",
             "startlinecolor": "#2a3f5f"
            },
            "baxis": {
             "endlinecolor": "#2a3f5f",
             "gridcolor": "white",
             "linecolor": "white",
             "minorgridcolor": "white",
             "startlinecolor": "#2a3f5f"
            },
            "type": "carpet"
           }
          ],
          "choropleth": [
           {
            "colorbar": {
             "outlinewidth": 0,
             "ticks": ""
            },
            "type": "choropleth"
           }
          ],
          "contour": [
           {
            "colorbar": {
             "outlinewidth": 0,
             "ticks": ""
            },
            "colorscale": [
             [
              0,
              "#0d0887"
             ],
             [
              0.1111111111111111,
              "#46039f"
             ],
             [
              0.2222222222222222,
              "#7201a8"
             ],
             [
              0.3333333333333333,
              "#9c179e"
             ],
             [
              0.4444444444444444,
              "#bd3786"
             ],
             [
              0.5555555555555556,
              "#d8576b"
             ],
             [
              0.6666666666666666,
              "#ed7953"
             ],
             [
              0.7777777777777778,
              "#fb9f3a"
             ],
             [
              0.8888888888888888,
              "#fdca26"
             ],
             [
              1,
              "#f0f921"
             ]
            ],
            "type": "contour"
           }
          ],
          "contourcarpet": [
           {
            "colorbar": {
             "outlinewidth": 0,
             "ticks": ""
            },
            "type": "contourcarpet"
           }
          ],
          "heatmap": [
           {
            "colorbar": {
             "outlinewidth": 0,
             "ticks": ""
            },
            "colorscale": [
             [
              0,
              "#0d0887"
             ],
             [
              0.1111111111111111,
              "#46039f"
             ],
             [
              0.2222222222222222,
              "#7201a8"
             ],
             [
              0.3333333333333333,
              "#9c179e"
             ],
             [
              0.4444444444444444,
              "#bd3786"
             ],
             [
              0.5555555555555556,
              "#d8576b"
             ],
             [
              0.6666666666666666,
              "#ed7953"
             ],
             [
              0.7777777777777778,
              "#fb9f3a"
             ],
             [
              0.8888888888888888,
              "#fdca26"
             ],
             [
              1,
              "#f0f921"
             ]
            ],
            "type": "heatmap"
           }
          ],
          "heatmapgl": [
           {
            "colorbar": {
             "outlinewidth": 0,
             "ticks": ""
            },
            "colorscale": [
             [
              0,
              "#0d0887"
             ],
             [
              0.1111111111111111,
              "#46039f"
             ],
             [
              0.2222222222222222,
              "#7201a8"
             ],
             [
              0.3333333333333333,
              "#9c179e"
             ],
             [
              0.4444444444444444,
              "#bd3786"
             ],
             [
              0.5555555555555556,
              "#d8576b"
             ],
             [
              0.6666666666666666,
              "#ed7953"
             ],
             [
              0.7777777777777778,
              "#fb9f3a"
             ],
             [
              0.8888888888888888,
              "#fdca26"
             ],
             [
              1,
              "#f0f921"
             ]
            ],
            "type": "heatmapgl"
           }
          ],
          "histogram": [
           {
            "marker": {
             "pattern": {
              "fillmode": "overlay",
              "size": 10,
              "solidity": 0.2
             }
            },
            "type": "histogram"
           }
          ],
          "histogram2d": [
           {
            "colorbar": {
             "outlinewidth": 0,
             "ticks": ""
            },
            "colorscale": [
             [
              0,
              "#0d0887"
             ],
             [
              0.1111111111111111,
              "#46039f"
             ],
             [
              0.2222222222222222,
              "#7201a8"
             ],
             [
              0.3333333333333333,
              "#9c179e"
             ],
             [
              0.4444444444444444,
              "#bd3786"
             ],
             [
              0.5555555555555556,
              "#d8576b"
             ],
             [
              0.6666666666666666,
              "#ed7953"
             ],
             [
              0.7777777777777778,
              "#fb9f3a"
             ],
             [
              0.8888888888888888,
              "#fdca26"
             ],
             [
              1,
              "#f0f921"
             ]
            ],
            "type": "histogram2d"
           }
          ],
          "histogram2dcontour": [
           {
            "colorbar": {
             "outlinewidth": 0,
             "ticks": ""
            },
            "colorscale": [
             [
              0,
              "#0d0887"
             ],
             [
              0.1111111111111111,
              "#46039f"
             ],
             [
              0.2222222222222222,
              "#7201a8"
             ],
             [
              0.3333333333333333,
              "#9c179e"
             ],
             [
              0.4444444444444444,
              "#bd3786"
             ],
             [
              0.5555555555555556,
              "#d8576b"
             ],
             [
              0.6666666666666666,
              "#ed7953"
             ],
             [
              0.7777777777777778,
              "#fb9f3a"
             ],
             [
              0.8888888888888888,
              "#fdca26"
             ],
             [
              1,
              "#f0f921"
             ]
            ],
            "type": "histogram2dcontour"
           }
          ],
          "mesh3d": [
           {
            "colorbar": {
             "outlinewidth": 0,
             "ticks": ""
            },
            "type": "mesh3d"
           }
          ],
          "parcoords": [
           {
            "line": {
             "colorbar": {
              "outlinewidth": 0,
              "ticks": ""
             }
            },
            "type": "parcoords"
           }
          ],
          "pie": [
           {
            "automargin": true,
            "type": "pie"
           }
          ],
          "scatter": [
           {
            "fillpattern": {
             "fillmode": "overlay",
             "size": 10,
             "solidity": 0.2
            },
            "type": "scatter"
           }
          ],
          "scatter3d": [
           {
            "line": {
             "colorbar": {
              "outlinewidth": 0,
              "ticks": ""
             }
            },
            "marker": {
             "colorbar": {
              "outlinewidth": 0,
              "ticks": ""
             }
            },
            "type": "scatter3d"
           }
          ],
          "scattercarpet": [
           {
            "marker": {
             "colorbar": {
              "outlinewidth": 0,
              "ticks": ""
             }
            },
            "type": "scattercarpet"
           }
          ],
          "scattergeo": [
           {
            "marker": {
             "colorbar": {
              "outlinewidth": 0,
              "ticks": ""
             }
            },
            "type": "scattergeo"
           }
          ],
          "scattergl": [
           {
            "marker": {
             "colorbar": {
              "outlinewidth": 0,
              "ticks": ""
             }
            },
            "type": "scattergl"
           }
          ],
          "scattermapbox": [
           {
            "marker": {
             "colorbar": {
              "outlinewidth": 0,
              "ticks": ""
             }
            },
            "type": "scattermapbox"
           }
          ],
          "scatterpolar": [
           {
            "marker": {
             "colorbar": {
              "outlinewidth": 0,
              "ticks": ""
             }
            },
            "type": "scatterpolar"
           }
          ],
          "scatterpolargl": [
           {
            "marker": {
             "colorbar": {
              "outlinewidth": 0,
              "ticks": ""
             }
            },
            "type": "scatterpolargl"
           }
          ],
          "scatterternary": [
           {
            "marker": {
             "colorbar": {
              "outlinewidth": 0,
              "ticks": ""
             }
            },
            "type": "scatterternary"
           }
          ],
          "surface": [
           {
            "colorbar": {
             "outlinewidth": 0,
             "ticks": ""
            },
            "colorscale": [
             [
              0,
              "#0d0887"
             ],
             [
              0.1111111111111111,
              "#46039f"
             ],
             [
              0.2222222222222222,
              "#7201a8"
             ],
             [
              0.3333333333333333,
              "#9c179e"
             ],
             [
              0.4444444444444444,
              "#bd3786"
             ],
             [
              0.5555555555555556,
              "#d8576b"
             ],
             [
              0.6666666666666666,
              "#ed7953"
             ],
             [
              0.7777777777777778,
              "#fb9f3a"
             ],
             [
              0.8888888888888888,
              "#fdca26"
             ],
             [
              1,
              "#f0f921"
             ]
            ],
            "type": "surface"
           }
          ],
          "table": [
           {
            "cells": {
             "fill": {
              "color": "#EBF0F8"
             },
             "line": {
              "color": "white"
             }
            },
            "header": {
             "fill": {
              "color": "#C8D4E3"
             },
             "line": {
              "color": "white"
             }
            },
            "type": "table"
           }
          ]
         },
         "layout": {
          "annotationdefaults": {
           "arrowcolor": "#2a3f5f",
           "arrowhead": 0,
           "arrowwidth": 1
          },
          "autotypenumbers": "strict",
          "coloraxis": {
           "colorbar": {
            "outlinewidth": 0,
            "ticks": ""
           }
          },
          "colorscale": {
           "diverging": [
            [
             0,
             "#8e0152"
            ],
            [
             0.1,
             "#c51b7d"
            ],
            [
             0.2,
             "#de77ae"
            ],
            [
             0.3,
             "#f1b6da"
            ],
            [
             0.4,
             "#fde0ef"
            ],
            [
             0.5,
             "#f7f7f7"
            ],
            [
             0.6,
             "#e6f5d0"
            ],
            [
             0.7,
             "#b8e186"
            ],
            [
             0.8,
             "#7fbc41"
            ],
            [
             0.9,
             "#4d9221"
            ],
            [
             1,
             "#276419"
            ]
           ],
           "sequential": [
            [
             0,
             "#0d0887"
            ],
            [
             0.1111111111111111,
             "#46039f"
            ],
            [
             0.2222222222222222,
             "#7201a8"
            ],
            [
             0.3333333333333333,
             "#9c179e"
            ],
            [
             0.4444444444444444,
             "#bd3786"
            ],
            [
             0.5555555555555556,
             "#d8576b"
            ],
            [
             0.6666666666666666,
             "#ed7953"
            ],
            [
             0.7777777777777778,
             "#fb9f3a"
            ],
            [
             0.8888888888888888,
             "#fdca26"
            ],
            [
             1,
             "#f0f921"
            ]
           ],
           "sequentialminus": [
            [
             0,
             "#0d0887"
            ],
            [
             0.1111111111111111,
             "#46039f"
            ],
            [
             0.2222222222222222,
             "#7201a8"
            ],
            [
             0.3333333333333333,
             "#9c179e"
            ],
            [
             0.4444444444444444,
             "#bd3786"
            ],
            [
             0.5555555555555556,
             "#d8576b"
            ],
            [
             0.6666666666666666,
             "#ed7953"
            ],
            [
             0.7777777777777778,
             "#fb9f3a"
            ],
            [
             0.8888888888888888,
             "#fdca26"
            ],
            [
             1,
             "#f0f921"
            ]
           ]
          },
          "colorway": [
           "#636efa",
           "#EF553B",
           "#00cc96",
           "#ab63fa",
           "#FFA15A",
           "#19d3f3",
           "#FF6692",
           "#B6E880",
           "#FF97FF",
           "#FECB52"
          ],
          "font": {
           "color": "#2a3f5f"
          },
          "geo": {
           "bgcolor": "white",
           "lakecolor": "white",
           "landcolor": "#E5ECF6",
           "showlakes": true,
           "showland": true,
           "subunitcolor": "white"
          },
          "hoverlabel": {
           "align": "left"
          },
          "hovermode": "closest",
          "mapbox": {
           "style": "light"
          },
          "paper_bgcolor": "white",
          "plot_bgcolor": "#E5ECF6",
          "polar": {
           "angularaxis": {
            "gridcolor": "white",
            "linecolor": "white",
            "ticks": ""
           },
           "bgcolor": "#E5ECF6",
           "radialaxis": {
            "gridcolor": "white",
            "linecolor": "white",
            "ticks": ""
           }
          },
          "scene": {
           "xaxis": {
            "backgroundcolor": "#E5ECF6",
            "gridcolor": "white",
            "gridwidth": 2,
            "linecolor": "white",
            "showbackground": true,
            "ticks": "",
            "zerolinecolor": "white"
           },
           "yaxis": {
            "backgroundcolor": "#E5ECF6",
            "gridcolor": "white",
            "gridwidth": 2,
            "linecolor": "white",
            "showbackground": true,
            "ticks": "",
            "zerolinecolor": "white"
           },
           "zaxis": {
            "backgroundcolor": "#E5ECF6",
            "gridcolor": "white",
            "gridwidth": 2,
            "linecolor": "white",
            "showbackground": true,
            "ticks": "",
            "zerolinecolor": "white"
           }
          },
          "shapedefaults": {
           "line": {
            "color": "#2a3f5f"
           }
          },
          "ternary": {
           "aaxis": {
            "gridcolor": "white",
            "linecolor": "white",
            "ticks": ""
           },
           "baxis": {
            "gridcolor": "white",
            "linecolor": "white",
            "ticks": ""
           },
           "bgcolor": "#E5ECF6",
           "caxis": {
            "gridcolor": "white",
            "linecolor": "white",
            "ticks": ""
           }
          },
          "title": {
           "x": 0.05
          },
          "xaxis": {
           "automargin": true,
           "gridcolor": "white",
           "linecolor": "white",
           "ticks": "",
           "title": {
            "standoff": 15
           },
           "zerolinecolor": "white",
           "zerolinewidth": 2
          },
          "yaxis": {
           "automargin": true,
           "gridcolor": "white",
           "linecolor": "white",
           "ticks": "",
           "title": {
            "standoff": 15
           },
           "zerolinecolor": "white",
           "zerolinewidth": 2
          }
         }
        },
        "title": {
         "text": "Динамика изменения среднегодовой температуры за последние 64 года"
        }
       }
      },
      "text/html": [
       "<div>                            <div id=\"ce2ce9b7-18e1-47ec-a242-79610638ddd1\" class=\"plotly-graph-div\" style=\"height:525px; width:100%;\"></div>            <script type=\"text/javascript\">                require([\"plotly\"], function(Plotly) {                    window.PLOTLYENV=window.PLOTLYENV || {};                                    if (document.getElementById(\"ce2ce9b7-18e1-47ec-a242-79610638ddd1\")) {                    Plotly.newPlot(                        \"ce2ce9b7-18e1-47ec-a242-79610638ddd1\",                        [{\"geo\":\"geo\",\"hovertemplate\":\"<b>%{hovertext}</b><br><br>Latitude=%{lat}<br>Longitude=%{lon}<br>Trend line slope=%{marker.color}<extra></extra>\",\"hovertext\":[\"Abidjan\",\"Addis Abeba\",\"Ahmadabad\",\"Aleppo\",\"Alexandria\",\"Ankara\",\"Baghdad\",\"Bangalore\",\"Bangkok\",\"Belo Horizonte\",\"Berlin\",\"Bogot\\u00e1\",\"Bombay\",\"Bras\\u00edlia\",\"Cairo\",\"Calcutta\",\"Cali\",\"Cape Town\",\"Casablanca\",\"Changchun\",\"Chengdu\",\"Chicago\",\"Chongqing\",\"Dakar\",\"Dalian\",\"Dar Es Salaam\",\"Delhi\",\"Dhaka\",\"Durban\",\"Faisalabad\",\"Fortaleza\",\"Gizeh\",\"Guangzhou\",\"Harare\",\"Harbin\",\"Ho Chi Minh City\",\"Hyderabad\",\"Ibadan\",\"Istanbul\",\"Izmir\",\"Jaipur\",\"Jakarta\",\"Jiddah\",\"Jinan\",\"Kabul\",\"Kano\",\"Kanpur\",\"Karachi\",\"Kiev\",\"Kinshasa\",\"Lagos\",\"Lahore\",\"Lakhnau\",\"Lima\",\"London\",\"Los Angeles\",\"Luanda\",\"Madras\",\"Madrid\",\"Manila\",\"Mashhad\",\"Melbourne\",\"Mexico\",\"Mogadishu\",\"Montreal\",\"Moscow\",\"Nagoya\",\"Nagpur\",\"Nairobi\",\"Nanjing\",\"New Delhi\",\"New York\",\"Paris\",\"Peking\",\"Pune\",\"Rangoon\",\"Rio De Janeiro\",\"Riyadh\",\"Rome\",\"Saint Petersburg\",\"Salvador\",\"Santiago\",\"Santo Domingo\",\"Seoul\",\"Shanghai\",\"Shenyang\",\"Singapore\",\"Surabaya\",\"Surat\",\"Sydney\",\"S\\u00e3o Paulo\",\"Taipei\",\"Taiyuan\",\"Tangshan\",\"Tianjin\",\"Tokyo\",\"Toronto\",\"Umm Durman\",\"Wuhan\",\"Xian\"],\"lat\":[5.63,8.84,23.31,36.17,31.35,39.38,32.95,12.05,13.66,-20.09,52.24,4.02,18.48,-15.27,29.74,23.31,4.02,-32.95,32.95,44.2,31.35,42.59,29.74,15.27,39.38,-7.23,28.13,23.31,-29.74,31.35,-4.02,29.74,23.31,-18.48,45.81,10.45,16.87,7.23,40.99,37.78,26.52,-5.63,21.7,36.17,34.56,12.05,26.52,24.92,50.63,-4.02,5.63,31.35,26.52,-12.05,52.24,34.56,-8.84,13.66,40.99,15.27,36.17,-37.78,20.09,2.41,45.81,55.45,34.56,21.7,-0.8,31.35,28.13,40.99,49.03,39.38,18.48,16.87,-23.31,24.92,42.59,60.27,-13.66,-32.95,18.48,37.78,31.35,40.99,0.8,-7.23,21.7,-34.56,-23.31,24.92,37.78,37.78,39.38,36.17,44.2,15.27,29.74,34.56],\"legendgroup\":\"\",\"lon\":[-3.23,38.11,72.52,37.79,30.16,33.29,45.0,77.26,99.91,-44.36,13.14,-74.73,72.68,-47.5,31.38,88.25,-76.34,18.19,-6.7,125.22,103.66,-87.27,107.08,-17.5,120.69,39.73,77.27,90.0,31.38,73.51,-40.98,31.38,112.72,30.42,125.77,107.18,78.7,4.05,29.82,26.44,75.22,106.55,38.94,117.35,70.05,8.22,80.6,67.39,31.69,15.27,3.23,73.51,80.6,-77.26,-0.0,-118.7,13.78,80.09,-4.26,120.83,59.67,144.41,-98.96,45.8,-72.69,36.85,136.22,78.75,36.16,118.74,77.27,-74.56,2.45,116.53,74.37,95.44,-42.82,46.11,13.09,29.19,-38.81,-69.89,-69.3,126.1,120.63,123.55,103.66,112.7,73.56,151.78,-46.31,122.36,111.86,113.9,116.53,139.23,-80.5,32.5,114.46,108.97],\"marker\":{\"color\":[0.015599860729548238,0.018589230387667906,0.013633883737790002,0.014909145108363872,0.013607677045177033,0.01363626850579976,0.024977006066849824,0.013120638736263755,0.010369602793040292,0.01589078811813188,0.02253101724664226,0.012550391101953601,0.010854977487789982,0.017491990041208792,0.01408588408119658,0.006803821352258848,0.013036908577533582,0.014870539529914536,0.020985387095543356,0.025050639117826633,0.011438875534188039,0.019112654532967042,0.0102708981990232,0.017897829861111124,0.020598106494200262,0.015719971955128236,0.014586876144688645,0.006267599587912102,0.01464100751678877,0.020378614354395624,0.01593785771520147,0.01408588408119658,0.00522352144383395,0.01189318337912087,0.026638502556471315,0.009498359279609285,0.01110678991147742,0.014665006868131878,0.013769678151709413,0.012226216231685,0.014741921359890095,0.011793508661477423,0.013835165789072032,0.020509458943833953,0.024317411668192936,0.020090728975885253,0.011941224053724058,0.01831756238553113,0.028220990728021995,0.01184497958638583,0.014227613705738728,0.020378614354395624,0.011941224053724058,0.010371730960012197,0.018783852258852277,0.016922037164224687,0.014029064598595849,0.012739871413308913,0.020012684104090354,0.007565943605006102,0.035175011446886464,0.01690321466727717,0.00890031478937729,0.01514559771825397,0.02000709134615385,0.032812401747558013,0.011032155257936509,0.009661291399572652,0.015143314064407819,0.016567068261599528,0.014586876144688645,0.018461109203296706,0.020267325816544578,0.02511045768467644,0.011275462644993888,0.00906626316391943,0.015651490003052517,0.02332663308913308,0.018934401709401725,0.02623084935897437,0.0165923344017094,0.012631567651098905,0.014329525335775348,0.01762956635378512,0.015624108096764351,0.02304201675061051,0.011815370306776565,0.010059509500915758,0.012419095314407816,0.016833484050671546,0.01581518429487181,0.010901837225274734,0.02413630666208793,0.023536070093101356,0.02511045768467644,0.01154952686202688,0.02120965735653236,0.017541344246031737,0.015184859584859592,0.018790445665445667],\"coloraxis\":\"coloraxis\",\"symbol\":\"circle\"},\"mode\":\"markers\",\"name\":\"\",\"showlegend\":false,\"type\":\"scattergeo\"}],                        {\"template\":{\"data\":{\"histogram2dcontour\":[{\"type\":\"histogram2dcontour\",\"colorbar\":{\"outlinewidth\":0,\"ticks\":\"\"},\"colorscale\":[[0.0,\"#0d0887\"],[0.1111111111111111,\"#46039f\"],[0.2222222222222222,\"#7201a8\"],[0.3333333333333333,\"#9c179e\"],[0.4444444444444444,\"#bd3786\"],[0.5555555555555556,\"#d8576b\"],[0.6666666666666666,\"#ed7953\"],[0.7777777777777778,\"#fb9f3a\"],[0.8888888888888888,\"#fdca26\"],[1.0,\"#f0f921\"]]}],\"choropleth\":[{\"type\":\"choropleth\",\"colorbar\":{\"outlinewidth\":0,\"ticks\":\"\"}}],\"histogram2d\":[{\"type\":\"histogram2d\",\"colorbar\":{\"outlinewidth\":0,\"ticks\":\"\"},\"colorscale\":[[0.0,\"#0d0887\"],[0.1111111111111111,\"#46039f\"],[0.2222222222222222,\"#7201a8\"],[0.3333333333333333,\"#9c179e\"],[0.4444444444444444,\"#bd3786\"],[0.5555555555555556,\"#d8576b\"],[0.6666666666666666,\"#ed7953\"],[0.7777777777777778,\"#fb9f3a\"],[0.8888888888888888,\"#fdca26\"],[1.0,\"#f0f921\"]]}],\"heatmap\":[{\"type\":\"heatmap\",\"colorbar\":{\"outlinewidth\":0,\"ticks\":\"\"},\"colorscale\":[[0.0,\"#0d0887\"],[0.1111111111111111,\"#46039f\"],[0.2222222222222222,\"#7201a8\"],[0.3333333333333333,\"#9c179e\"],[0.4444444444444444,\"#bd3786\"],[0.5555555555555556,\"#d8576b\"],[0.6666666666666666,\"#ed7953\"],[0.7777777777777778,\"#fb9f3a\"],[0.8888888888888888,\"#fdca26\"],[1.0,\"#f0f921\"]]}],\"heatmapgl\":[{\"type\":\"heatmapgl\",\"colorbar\":{\"outlinewidth\":0,\"ticks\":\"\"},\"colorscale\":[[0.0,\"#0d0887\"],[0.1111111111111111,\"#46039f\"],[0.2222222222222222,\"#7201a8\"],[0.3333333333333333,\"#9c179e\"],[0.4444444444444444,\"#bd3786\"],[0.5555555555555556,\"#d8576b\"],[0.6666666666666666,\"#ed7953\"],[0.7777777777777778,\"#fb9f3a\"],[0.8888888888888888,\"#fdca26\"],[1.0,\"#f0f921\"]]}],\"contourcarpet\":[{\"type\":\"contourcarpet\",\"colorbar\":{\"outlinewidth\":0,\"ticks\":\"\"}}],\"contour\":[{\"type\":\"contour\",\"colorbar\":{\"outlinewidth\":0,\"ticks\":\"\"},\"colorscale\":[[0.0,\"#0d0887\"],[0.1111111111111111,\"#46039f\"],[0.2222222222222222,\"#7201a8\"],[0.3333333333333333,\"#9c179e\"],[0.4444444444444444,\"#bd3786\"],[0.5555555555555556,\"#d8576b\"],[0.6666666666666666,\"#ed7953\"],[0.7777777777777778,\"#fb9f3a\"],[0.8888888888888888,\"#fdca26\"],[1.0,\"#f0f921\"]]}],\"surface\":[{\"type\":\"surface\",\"colorbar\":{\"outlinewidth\":0,\"ticks\":\"\"},\"colorscale\":[[0.0,\"#0d0887\"],[0.1111111111111111,\"#46039f\"],[0.2222222222222222,\"#7201a8\"],[0.3333333333333333,\"#9c179e\"],[0.4444444444444444,\"#bd3786\"],[0.5555555555555556,\"#d8576b\"],[0.6666666666666666,\"#ed7953\"],[0.7777777777777778,\"#fb9f3a\"],[0.8888888888888888,\"#fdca26\"],[1.0,\"#f0f921\"]]}],\"mesh3d\":[{\"type\":\"mesh3d\",\"colorbar\":{\"outlinewidth\":0,\"ticks\":\"\"}}],\"scatter\":[{\"fillpattern\":{\"fillmode\":\"overlay\",\"size\":10,\"solidity\":0.2},\"type\":\"scatter\"}],\"parcoords\":[{\"type\":\"parcoords\",\"line\":{\"colorbar\":{\"outlinewidth\":0,\"ticks\":\"\"}}}],\"scatterpolargl\":[{\"type\":\"scatterpolargl\",\"marker\":{\"colorbar\":{\"outlinewidth\":0,\"ticks\":\"\"}}}],\"bar\":[{\"error_x\":{\"color\":\"#2a3f5f\"},\"error_y\":{\"color\":\"#2a3f5f\"},\"marker\":{\"line\":{\"color\":\"#E5ECF6\",\"width\":0.5},\"pattern\":{\"fillmode\":\"overlay\",\"size\":10,\"solidity\":0.2}},\"type\":\"bar\"}],\"scattergeo\":[{\"type\":\"scattergeo\",\"marker\":{\"colorbar\":{\"outlinewidth\":0,\"ticks\":\"\"}}}],\"scatterpolar\":[{\"type\":\"scatterpolar\",\"marker\":{\"colorbar\":{\"outlinewidth\":0,\"ticks\":\"\"}}}],\"histogram\":[{\"marker\":{\"pattern\":{\"fillmode\":\"overlay\",\"size\":10,\"solidity\":0.2}},\"type\":\"histogram\"}],\"scattergl\":[{\"type\":\"scattergl\",\"marker\":{\"colorbar\":{\"outlinewidth\":0,\"ticks\":\"\"}}}],\"scatter3d\":[{\"type\":\"scatter3d\",\"line\":{\"colorbar\":{\"outlinewidth\":0,\"ticks\":\"\"}},\"marker\":{\"colorbar\":{\"outlinewidth\":0,\"ticks\":\"\"}}}],\"scattermapbox\":[{\"type\":\"scattermapbox\",\"marker\":{\"colorbar\":{\"outlinewidth\":0,\"ticks\":\"\"}}}],\"scatterternary\":[{\"type\":\"scatterternary\",\"marker\":{\"colorbar\":{\"outlinewidth\":0,\"ticks\":\"\"}}}],\"scattercarpet\":[{\"type\":\"scattercarpet\",\"marker\":{\"colorbar\":{\"outlinewidth\":0,\"ticks\":\"\"}}}],\"carpet\":[{\"aaxis\":{\"endlinecolor\":\"#2a3f5f\",\"gridcolor\":\"white\",\"linecolor\":\"white\",\"minorgridcolor\":\"white\",\"startlinecolor\":\"#2a3f5f\"},\"baxis\":{\"endlinecolor\":\"#2a3f5f\",\"gridcolor\":\"white\",\"linecolor\":\"white\",\"minorgridcolor\":\"white\",\"startlinecolor\":\"#2a3f5f\"},\"type\":\"carpet\"}],\"table\":[{\"cells\":{\"fill\":{\"color\":\"#EBF0F8\"},\"line\":{\"color\":\"white\"}},\"header\":{\"fill\":{\"color\":\"#C8D4E3\"},\"line\":{\"color\":\"white\"}},\"type\":\"table\"}],\"barpolar\":[{\"marker\":{\"line\":{\"color\":\"#E5ECF6\",\"width\":0.5},\"pattern\":{\"fillmode\":\"overlay\",\"size\":10,\"solidity\":0.2}},\"type\":\"barpolar\"}],\"pie\":[{\"automargin\":true,\"type\":\"pie\"}]},\"layout\":{\"autotypenumbers\":\"strict\",\"colorway\":[\"#636efa\",\"#EF553B\",\"#00cc96\",\"#ab63fa\",\"#FFA15A\",\"#19d3f3\",\"#FF6692\",\"#B6E880\",\"#FF97FF\",\"#FECB52\"],\"font\":{\"color\":\"#2a3f5f\"},\"hovermode\":\"closest\",\"hoverlabel\":{\"align\":\"left\"},\"paper_bgcolor\":\"white\",\"plot_bgcolor\":\"#E5ECF6\",\"polar\":{\"bgcolor\":\"#E5ECF6\",\"angularaxis\":{\"gridcolor\":\"white\",\"linecolor\":\"white\",\"ticks\":\"\"},\"radialaxis\":{\"gridcolor\":\"white\",\"linecolor\":\"white\",\"ticks\":\"\"}},\"ternary\":{\"bgcolor\":\"#E5ECF6\",\"aaxis\":{\"gridcolor\":\"white\",\"linecolor\":\"white\",\"ticks\":\"\"},\"baxis\":{\"gridcolor\":\"white\",\"linecolor\":\"white\",\"ticks\":\"\"},\"caxis\":{\"gridcolor\":\"white\",\"linecolor\":\"white\",\"ticks\":\"\"}},\"coloraxis\":{\"colorbar\":{\"outlinewidth\":0,\"ticks\":\"\"}},\"colorscale\":{\"sequential\":[[0.0,\"#0d0887\"],[0.1111111111111111,\"#46039f\"],[0.2222222222222222,\"#7201a8\"],[0.3333333333333333,\"#9c179e\"],[0.4444444444444444,\"#bd3786\"],[0.5555555555555556,\"#d8576b\"],[0.6666666666666666,\"#ed7953\"],[0.7777777777777778,\"#fb9f3a\"],[0.8888888888888888,\"#fdca26\"],[1.0,\"#f0f921\"]],\"sequentialminus\":[[0.0,\"#0d0887\"],[0.1111111111111111,\"#46039f\"],[0.2222222222222222,\"#7201a8\"],[0.3333333333333333,\"#9c179e\"],[0.4444444444444444,\"#bd3786\"],[0.5555555555555556,\"#d8576b\"],[0.6666666666666666,\"#ed7953\"],[0.7777777777777778,\"#fb9f3a\"],[0.8888888888888888,\"#fdca26\"],[1.0,\"#f0f921\"]],\"diverging\":[[0,\"#8e0152\"],[0.1,\"#c51b7d\"],[0.2,\"#de77ae\"],[0.3,\"#f1b6da\"],[0.4,\"#fde0ef\"],[0.5,\"#f7f7f7\"],[0.6,\"#e6f5d0\"],[0.7,\"#b8e186\"],[0.8,\"#7fbc41\"],[0.9,\"#4d9221\"],[1,\"#276419\"]]},\"xaxis\":{\"gridcolor\":\"white\",\"linecolor\":\"white\",\"ticks\":\"\",\"title\":{\"standoff\":15},\"zerolinecolor\":\"white\",\"automargin\":true,\"zerolinewidth\":2},\"yaxis\":{\"gridcolor\":\"white\",\"linecolor\":\"white\",\"ticks\":\"\",\"title\":{\"standoff\":15},\"zerolinecolor\":\"white\",\"automargin\":true,\"zerolinewidth\":2},\"scene\":{\"xaxis\":{\"backgroundcolor\":\"#E5ECF6\",\"gridcolor\":\"white\",\"linecolor\":\"white\",\"showbackground\":true,\"ticks\":\"\",\"zerolinecolor\":\"white\",\"gridwidth\":2},\"yaxis\":{\"backgroundcolor\":\"#E5ECF6\",\"gridcolor\":\"white\",\"linecolor\":\"white\",\"showbackground\":true,\"ticks\":\"\",\"zerolinecolor\":\"white\",\"gridwidth\":2},\"zaxis\":{\"backgroundcolor\":\"#E5ECF6\",\"gridcolor\":\"white\",\"linecolor\":\"white\",\"showbackground\":true,\"ticks\":\"\",\"zerolinecolor\":\"white\",\"gridwidth\":2}},\"shapedefaults\":{\"line\":{\"color\":\"#2a3f5f\"}},\"annotationdefaults\":{\"arrowcolor\":\"#2a3f5f\",\"arrowhead\":0,\"arrowwidth\":1},\"geo\":{\"bgcolor\":\"white\",\"landcolor\":\"#E5ECF6\",\"subunitcolor\":\"white\",\"showland\":true,\"showlakes\":true,\"lakecolor\":\"white\"},\"title\":{\"x\":0.05},\"mapbox\":{\"style\":\"light\"}}},\"geo\":{\"domain\":{\"x\":[0.0,1.0],\"y\":[0.0,1.0]},\"center\":{}},\"coloraxis\":{\"colorbar\":{\"title\":{\"text\":\"Trend line slope\"}},\"colorscale\":[[0.0,\"#0d0887\"],[0.1111111111111111,\"#46039f\"],[0.2222222222222222,\"#7201a8\"],[0.3333333333333333,\"#9c179e\"],[0.4444444444444444,\"#bd3786\"],[0.5555555555555556,\"#d8576b\"],[0.6666666666666666,\"#ed7953\"],[0.7777777777777778,\"#fb9f3a\"],[0.8888888888888888,\"#fdca26\"],[1.0,\"#f0f921\"]]},\"legend\":{\"tracegroupgap\":0},\"title\":{\"text\":\"\\u0414\\u0438\\u043d\\u0430\\u043c\\u0438\\u043a\\u0430 \\u0438\\u0437\\u043c\\u0435\\u043d\\u0435\\u043d\\u0438\\u044f \\u0441\\u0440\\u0435\\u0434\\u043d\\u0435\\u0433\\u043e\\u0434\\u043e\\u0432\\u043e\\u0439 \\u0442\\u0435\\u043c\\u043f\\u0435\\u0440\\u0430\\u0442\\u0443\\u0440\\u044b \\u0437\\u0430 \\u043f\\u043e\\u0441\\u043b\\u0435\\u0434\\u043d\\u0438\\u0435 64 \\u0433\\u043e\\u0434\\u0430\"}},                        {\"responsive\": true}                    ).then(function(){\n",
       "                            \n",
       "var gd = document.getElementById('ce2ce9b7-18e1-47ec-a242-79610638ddd1');\n",
       "var x = new MutationObserver(function (mutations, observer) {{\n",
       "        var display = window.getComputedStyle(gd).display;\n",
       "        if (!display || display === 'none') {{\n",
       "            console.log([gd, 'removed!']);\n",
       "            Plotly.purge(gd);\n",
       "            observer.disconnect();\n",
       "        }}\n",
       "}});\n",
       "\n",
       "// Listen for the removal of the full notebook cells\n",
       "var notebookContainer = gd.closest('#notebook-container');\n",
       "if (notebookContainer) {{\n",
       "    x.observe(notebookContainer, {childList: true});\n",
       "}}\n",
       "\n",
       "// Listen for the clearing of the current output cell\n",
       "var outputEl = gd.closest('.output');\n",
       "if (outputEl) {{\n",
       "    x.observe(outputEl, {childList: true});\n",
       "}}\n",
       "\n",
       "                        })                };                });            </script>        </div>"
      ]
     },
     "metadata": {},
     "output_type": "display_data"
    }
   ],
   "source": [
    "fig = px.scatter_geo(last_decade_avg_jan_df,\n",
    "                     lat=last_decade_avg_jan_df.Latitude,\n",
    "                     lon=last_decade_avg_jan_df.Longitude,\n",
    "                     hover_name=last_decade_avg_jan_df.index,\n",
    "                     color=last_decade_avg_jan_df['Trend line slope'],\n",
    "                     title=\"Динамика изменения среднегодовой температуры за последние 64 года\"\n",
    "                    )\n",
    "fig.show()"
   ]
  },
  {
   "cell_type": "markdown",
   "metadata": {},
   "source": [
    "## 3.7.3\n",
    " В дополнение к предыдущему пункту, используйте библиотеку [pwlf](https://pypi.org/project/pwlf/) с фиксированным числом сегментов и визуализируйте угол наклона последнего сегмента."
   ]
  },
  {
   "cell_type": "code",
   "execution_count": 420,
   "metadata": {},
   "outputs": [],
   "source": [
    "import pwlf\n",
    "\n",
    "mean_annualy_temp_by_city = df.groupby([df.dt.dt.year, 'City'])['AverageTemperature'].mean()\n",
    "segment_linreg_slope_by_city = dict()\n",
    "\n",
    "for city in pd.unique(df.City):\n",
    "    my_pwlf = pwlf.PiecewiseLinFit(YEARS.reshape(-1),\n",
    "                                   mean_annualy_temp_by_city.xs(city, level=1).values\n",
    "                                  )\n",
    "    \n",
    "    segment_linreg = my_pwlf.fit(4)\n",
    "\n",
    "    slopes = my_pwlf.calc_slopes()\n",
    "    segment_linreg_slope_by_city[city] = slopes[-1]"
   ]
  },
  {
   "cell_type": "markdown",
   "metadata": {},
   "source": [
    "Из-за того, что могут быть выбросы, я применю логарифмирование (после сдвига в $R_{+}$)"
   ]
  },
  {
   "cell_type": "code",
   "execution_count": 421,
   "metadata": {},
   "outputs": [
    {
     "data": {
      "text/html": [
       "<div>\n",
       "<style scoped>\n",
       "    .dataframe tbody tr th:only-of-type {\n",
       "        vertical-align: middle;\n",
       "    }\n",
       "\n",
       "    .dataframe tbody tr th {\n",
       "        vertical-align: top;\n",
       "    }\n",
       "\n",
       "    .dataframe thead th {\n",
       "        text-align: right;\n",
       "    }\n",
       "</style>\n",
       "<table border=\"1\" class=\"dataframe\">\n",
       "  <thead>\n",
       "    <tr style=\"text-align: right;\">\n",
       "      <th></th>\n",
       "      <th>Latitude</th>\n",
       "      <th>Longitude</th>\n",
       "      <th>Segment trend line slope</th>\n",
       "      <th>Segment trend line logslope</th>\n",
       "    </tr>\n",
       "    <tr>\n",
       "      <th>City</th>\n",
       "      <th></th>\n",
       "      <th></th>\n",
       "      <th></th>\n",
       "      <th></th>\n",
       "    </tr>\n",
       "  </thead>\n",
       "  <tbody>\n",
       "    <tr>\n",
       "      <th>Abidjan</th>\n",
       "      <td>5.63</td>\n",
       "      <td>-3.23</td>\n",
       "      <td>0.027886</td>\n",
       "      <td>1.485184</td>\n",
       "    </tr>\n",
       "    <tr>\n",
       "      <th>Addis Abeba</th>\n",
       "      <td>8.84</td>\n",
       "      <td>38.11</td>\n",
       "      <td>2.955632</td>\n",
       "      <td>1.993819</td>\n",
       "    </tr>\n",
       "    <tr>\n",
       "      <th>Ahmadabad</th>\n",
       "      <td>23.31</td>\n",
       "      <td>72.52</td>\n",
       "      <td>0.030223</td>\n",
       "      <td>1.485713</td>\n",
       "    </tr>\n",
       "    <tr>\n",
       "      <th>Aleppo</th>\n",
       "      <td>36.17</td>\n",
       "      <td>37.79</td>\n",
       "      <td>0.043398</td>\n",
       "      <td>1.488690</td>\n",
       "    </tr>\n",
       "    <tr>\n",
       "      <th>Alexandria</th>\n",
       "      <td>31.35</td>\n",
       "      <td>30.16</td>\n",
       "      <td>-0.245159</td>\n",
       "      <td>1.421355</td>\n",
       "    </tr>\n",
       "  </tbody>\n",
       "</table>\n",
       "</div>"
      ],
      "text/plain": [
       "             Latitude  Longitude  Segment trend line slope  \\\n",
       "City                                                         \n",
       "Abidjan          5.63      -3.23                  0.027886   \n",
       "Addis Abeba      8.84      38.11                  2.955632   \n",
       "Ahmadabad       23.31      72.52                  0.030223   \n",
       "Aleppo          36.17      37.79                  0.043398   \n",
       "Alexandria      31.35      30.16                 -0.245159   \n",
       "\n",
       "             Segment trend line logslope  \n",
       "City                                      \n",
       "Abidjan                         1.485184  \n",
       "Addis Abeba                     1.993819  \n",
       "Ahmadabad                       1.485713  \n",
       "Aleppo                          1.488690  \n",
       "Alexandria                      1.421355  "
      ]
     },
     "execution_count": 421,
     "metadata": {},
     "output_type": "execute_result"
    }
   ],
   "source": [
    "last_decade_avg_jan_df['Segment trend line slope'] = pd.Series(segment_linreg_slope_by_city)\n",
    "last_decade_avg_jan_df['Segment trend line logslope'] = last_decade_avg_jan_df['Segment trend line slope'] - \\\n",
    "                                                        last_decade_avg_jan_df['Segment trend line slope'].min() + 1\n",
    "last_decade_avg_jan_df['Segment trend line logslope'] = np.log(last_decade_avg_jan_df['Segment trend line logslope'])\n",
    "last_decade_avg_jan_df.drop(['Trend line slope'], axis=1, inplace=True)\n",
    "last_decade_avg_jan_df.head()"
   ]
  },
  {
   "cell_type": "code",
   "execution_count": 422,
   "metadata": {},
   "outputs": [
    {
     "data": {
      "application/vnd.plotly.v1+json": {
       "config": {
        "plotlyServerURL": "https://plot.ly"
       },
       "data": [
        {
         "customdata": [
          [
           0.02788621391192302
          ],
          [
           2.9556320504213986
          ],
          [
           0.0302230447429857
          ],
          [
           0.04339793444799
          ],
          [
           -0.24515932669261947
          ],
          [
           1.814757902145342
          ],
          [
           0.049219457095367916
          ],
          [
           0.5681449929973637
          ],
          [
           0.5347384205359609
          ],
          [
           0.013470384175780416
          ],
          [
           0.004568205128183167
          ],
          [
           0.00932379576227736
          ],
          [
           -0.3349710116267296
          ],
          [
           0.005464434523383357
          ],
          [
           0.05281217603696447
          ],
          [
           0.4378478699204301
          ],
          [
           0.014340914374131262
          ],
          [
           -0.012561735336638076
          ],
          [
           0.030861863759218542
          ],
          [
           1.7164980683871196
          ],
          [
           3.0705302616343975
          ],
          [
           0.03997562273195647
          ],
          [
           56.0334273582058
          ],
          [
           -0.7776249987632865
          ],
          [
           0.2522519538988633
          ],
          [
           0.02175033178151558
          ],
          [
           0.02266614881926038
          ],
          [
           0.02425999897437291
          ],
          [
           0.018831798245614085
          ],
          [
           0.03160305438329062
          ],
          [
           -0.005720843829047483
          ],
          [
           0.0528119207774961
          ],
          [
           1.6569992111941665
          ],
          [
           -0.7668286843097482
          ],
          [
           0.4776298083102933
          ],
          [
           0.29209904392895564
          ],
          [
           0.832646335649707
          ],
          [
           0.032555498099606305
          ],
          [
           1.1810208333333396
          ],
          [
           0.8081875000000024
          ],
          [
           0.022741325533992534
          ],
          [
           0.05480992384006588
          ],
          [
           0.047750455926441324
          ],
          [
           1.705334608705853
          ],
          [
           0.028354769242927715
          ],
          [
           0.04881574275362443
          ],
          [
           0.018026794155023663
          ],
          [
           -0.010823958354405553
          ],
          [
           0.09208820807315377
          ],
          [
           0.20170094246851608
          ],
          [
           -0.14099130768917736
          ],
          [
           0.031604814431834743
          ],
          [
           0.018026794155011832
          ],
          [
           0.01721294396695326
          ],
          [
           -0.11053265511925568
          ],
          [
           1.1238084826141532
          ],
          [
           0.015359343434350161
          ],
          [
           0.6332966672541769
          ],
          [
           0.013461027786827718
          ],
          [
           0.5325838448642596
          ],
          [
           1.7587452078793984
          ],
          [
           0.036376225490196056
          ],
          [
           0.9143344775639004
          ],
          [
           0.019629154862106018
          ],
          [
           0.5151396503440909
          ],
          [
           0.0808928669277631
          ],
          [
           0.022335775512699198
          ],
          [
           1.8553939521391647
          ],
          [
           0.03612015716566694
          ],
          [
           1.7532491328005242
          ],
          [
           0.022663293815881416
          ],
          [
           0.36067045072739257
          ],
          [
           0.0027910907251955893
          ],
          [
           1.8457464671038348
          ],
          [
           0.02748535459771528
          ],
          [
           0.04819722927714404
          ],
          [
           0.019262286034979852
          ],
          [
           0.0657671173923188
          ],
          [
           0.041992606317263946
          ],
          [
           0.05351106220442564
          ],
          [
           0.025108755472173505
          ],
          [
           0.011334491495143173
          ],
          [
           0.016779299035894497
          ],
          [
           0.027760077587205566
          ],
          [
           1.385231662560641
          ],
          [
           2.9904652836682657
          ],
          [
           0.015390912498895385
          ],
          [
           -0.04167764755909681
          ],
          [
           0.020557266991281867
          ],
          [
           0.02510383529399416
          ],
          [
           -3.387890097434078
          ],
          [
           -0.028898054446949144
          ],
          [
           2.471190542153816
          ],
          [
           11.736621290236483
          ],
          [
           3.517474649007774
          ],
          [
           0.02462436842818401
          ],
          [
           0.5243889057785516
          ],
          [
           0.05824468411055949
          ],
          [
           3.2355668483825215
          ],
          [
           2.2670793446776516
          ]
         ],
         "geo": "geo",
         "hovertemplate": "<b>%{hovertext}</b><br><br>Latitude=%{lat}<br>Longitude=%{lon}<br>Original segment trend line slope=%{customdata[0]}<br>Segment trend line logslope=%{marker.color}<extra></extra>",
         "hovertext": [
          "Abidjan",
          "Addis Abeba",
          "Ahmadabad",
          "Aleppo",
          "Alexandria",
          "Ankara",
          "Baghdad",
          "Bangalore",
          "Bangkok",
          "Belo Horizonte",
          "Berlin",
          "Bogotá",
          "Bombay",
          "Brasília",
          "Cairo",
          "Calcutta",
          "Cali",
          "Cape Town",
          "Casablanca",
          "Changchun",
          "Chengdu",
          "Chicago",
          "Chongqing",
          "Dakar",
          "Dalian",
          "Dar Es Salaam",
          "Delhi",
          "Dhaka",
          "Durban",
          "Faisalabad",
          "Fortaleza",
          "Gizeh",
          "Guangzhou",
          "Harare",
          "Harbin",
          "Ho Chi Minh City",
          "Hyderabad",
          "Ibadan",
          "Istanbul",
          "Izmir",
          "Jaipur",
          "Jakarta",
          "Jiddah",
          "Jinan",
          "Kabul",
          "Kano",
          "Kanpur",
          "Karachi",
          "Kiev",
          "Kinshasa",
          "Lagos",
          "Lahore",
          "Lakhnau",
          "Lima",
          "London",
          "Los Angeles",
          "Luanda",
          "Madras",
          "Madrid",
          "Manila",
          "Mashhad",
          "Melbourne",
          "Mexico",
          "Mogadishu",
          "Montreal",
          "Moscow",
          "Nagoya",
          "Nagpur",
          "Nairobi",
          "Nanjing",
          "New Delhi",
          "New York",
          "Paris",
          "Peking",
          "Pune",
          "Rangoon",
          "Rio De Janeiro",
          "Riyadh",
          "Rome",
          "Saint Petersburg",
          "Salvador",
          "Santiago",
          "Santo Domingo",
          "Seoul",
          "Shanghai",
          "Shenyang",
          "Singapore",
          "Surabaya",
          "Surat",
          "Sydney",
          "São Paulo",
          "Taipei",
          "Taiyuan",
          "Tangshan",
          "Tianjin",
          "Tokyo",
          "Toronto",
          "Umm Durman",
          "Wuhan",
          "Xian"
         ],
         "lat": [
          5.63,
          8.84,
          23.31,
          36.17,
          31.35,
          39.38,
          32.95,
          12.05,
          13.66,
          -20.09,
          52.24,
          4.02,
          18.48,
          -15.27,
          29.74,
          23.31,
          4.02,
          -32.95,
          32.95,
          44.2,
          31.35,
          42.59,
          29.74,
          15.27,
          39.38,
          -7.23,
          28.13,
          23.31,
          -29.74,
          31.35,
          -4.02,
          29.74,
          23.31,
          -18.48,
          45.81,
          10.45,
          16.87,
          7.23,
          40.99,
          37.78,
          26.52,
          -5.63,
          21.7,
          36.17,
          34.56,
          12.05,
          26.52,
          24.92,
          50.63,
          -4.02,
          5.63,
          31.35,
          26.52,
          -12.05,
          52.24,
          34.56,
          -8.84,
          13.66,
          40.99,
          15.27,
          36.17,
          -37.78,
          20.09,
          2.41,
          45.81,
          55.45,
          34.56,
          21.7,
          -0.8,
          31.35,
          28.13,
          40.99,
          49.03,
          39.38,
          18.48,
          16.87,
          -23.31,
          24.92,
          42.59,
          60.27,
          -13.66,
          -32.95,
          18.48,
          37.78,
          31.35,
          40.99,
          0.8,
          -7.23,
          21.7,
          -34.56,
          -23.31,
          24.92,
          37.78,
          37.78,
          39.38,
          36.17,
          44.2,
          15.27,
          29.74,
          34.56
         ],
         "legendgroup": "",
         "lon": [
          -3.23,
          38.11,
          72.52,
          37.79,
          30.16,
          33.29,
          45,
          77.26,
          99.91,
          -44.36,
          13.14,
          -74.73,
          72.68,
          -47.5,
          31.38,
          88.25,
          -76.34,
          18.19,
          -6.7,
          125.22,
          103.66,
          -87.27,
          107.08,
          -17.5,
          120.69,
          39.73,
          77.27,
          90,
          31.38,
          73.51,
          -40.98,
          31.38,
          112.72,
          30.42,
          125.77,
          107.18,
          78.7,
          4.05,
          29.82,
          26.44,
          75.22,
          106.55,
          38.94,
          117.35,
          70.05,
          8.22,
          80.6,
          67.39,
          31.69,
          15.27,
          3.23,
          73.51,
          80.6,
          -77.26,
          0,
          -118.7,
          13.78,
          80.09,
          -4.26,
          120.83,
          59.67,
          144.41,
          -98.96,
          45.8,
          -72.69,
          36.85,
          136.22,
          78.75,
          36.16,
          118.74,
          77.27,
          -74.56,
          2.45,
          116.53,
          74.37,
          95.44,
          -42.82,
          46.11,
          13.09,
          29.19,
          -38.81,
          -69.89,
          -69.3,
          126.1,
          120.63,
          123.55,
          103.66,
          112.7,
          73.56,
          151.78,
          -46.31,
          122.36,
          111.86,
          113.9,
          116.53,
          139.23,
          -80.5,
          32.5,
          114.46,
          108.97
         ],
         "marker": {
          "color": [
           1.4851836535582252,
           1.9938185841880964,
           1.4857127140355757,
           1.4886902939146869,
           1.4213551768517854,
           1.8249762975775665,
           1.4900031632187143,
           1.6006060441355836,
           1.5938426394625558,
           1.4819136934975106,
           1.4798890481626314,
           1.4809711342728324,
           1.3994373834220537,
           1.4800930655746092,
           1.4908125336373106,
           1.5739636696977808,
           1.482111460556975,
           1.4759815711868531,
           1.4858572944970567,
           1.8090078840017483,
           2.009343643679727,
           1.4879176892208177,
           4.101341980680084,
           1.2837812041834513,
           1.5347449802809592,
           1.4837931508093072,
           1.4840008144419297,
           1.484362120850768,
           1.483131078735824,
           1.4860250179797916,
           1.4775438651660695,
           1.4908124761555295,
           1.7992131726713523,
           1.2867671909059963,
           1.5821735764737515,
           1.5432957897052897,
           1.6526001615731702,
           1.4862405044774298,
           1.7171995107226572,
           1.6479040327680652,
           1.4840178590208577,
           1.491262304517992,
           1.4896720367552196,
           1.8071774499790638,
           1.4852897573190749,
           1.489912173193778,
           1.4829483856487111,
           1.4763786686908185,
           1.4996182038944617,
           1.5237909220425487,
           1.4461890200476188,
           1.486025416226408,
           1.4829483856487082,
           1.482763651033065,
           1.4533353988915723,
           1.7068728478997572,
           1.482342777648696,
           1.6136663130722508,
           1.481911567700513,
           1.5934048556002403,
           1.815904827274894,
           1.4871044619841234,
           1.6681264636272997,
           1.4833120033566238,
           1.5898533299111777,
           1.4971161040733854,
           1.4839259065024177,
           1.8315063339350401,
           1.4870465821648484,
           1.8150102673316775,
           1.484000167130311,
           1.5578415296275732,
           1.479484383195369,
           1.8299598807265303,
           1.4850928705380206,
           1.4897727552076157,
           1.4832287628588496,
           1.4937256046760248,
           1.488373105998003,
           1.4909699031555033,
           1.484554470352242,
           1.4814282956051084,
           1.482665204691921,
           1.4851550882239795,
           1.7532129671424896,
           1.9985507656889427,
           1.482349947115655,
           1.4693047646419808,
           1.4835225559081373,
           1.4845533554231232,
           0,
           1.4722408478329627,
           1.9255734152038542,
           2.7803405606829252,
           2.0675416108293274,
           1.4844447006364236,
           1.5917379895600678,
           1.4920351303197177,
           2.0312299342525995,
           1.8953638601177847
          ],
          "coloraxis": "coloraxis",
          "symbol": "circle"
         },
         "mode": "markers",
         "name": "",
         "showlegend": false,
         "type": "scattergeo"
        }
       ],
       "layout": {
        "coloraxis": {
         "colorbar": {
          "title": {
           "text": "Segment trend line logslope"
          }
         },
         "colorscale": [
          [
           0,
           "#0d0887"
          ],
          [
           0.1111111111111111,
           "#46039f"
          ],
          [
           0.2222222222222222,
           "#7201a8"
          ],
          [
           0.3333333333333333,
           "#9c179e"
          ],
          [
           0.4444444444444444,
           "#bd3786"
          ],
          [
           0.5555555555555556,
           "#d8576b"
          ],
          [
           0.6666666666666666,
           "#ed7953"
          ],
          [
           0.7777777777777778,
           "#fb9f3a"
          ],
          [
           0.8888888888888888,
           "#fdca26"
          ],
          [
           1,
           "#f0f921"
          ]
         ]
        },
        "geo": {
         "center": {},
         "domain": {
          "x": [
           0,
           1
          ],
          "y": [
           0,
           1
          ]
         }
        },
        "legend": {
         "tracegroupgap": 0
        },
        "template": {
         "data": {
          "bar": [
           {
            "error_x": {
             "color": "#2a3f5f"
            },
            "error_y": {
             "color": "#2a3f5f"
            },
            "marker": {
             "line": {
              "color": "#E5ECF6",
              "width": 0.5
             },
             "pattern": {
              "fillmode": "overlay",
              "size": 10,
              "solidity": 0.2
             }
            },
            "type": "bar"
           }
          ],
          "barpolar": [
           {
            "marker": {
             "line": {
              "color": "#E5ECF6",
              "width": 0.5
             },
             "pattern": {
              "fillmode": "overlay",
              "size": 10,
              "solidity": 0.2
             }
            },
            "type": "barpolar"
           }
          ],
          "carpet": [
           {
            "aaxis": {
             "endlinecolor": "#2a3f5f",
             "gridcolor": "white",
             "linecolor": "white",
             "minorgridcolor": "white",
             "startlinecolor": "#2a3f5f"
            },
            "baxis": {
             "endlinecolor": "#2a3f5f",
             "gridcolor": "white",
             "linecolor": "white",
             "minorgridcolor": "white",
             "startlinecolor": "#2a3f5f"
            },
            "type": "carpet"
           }
          ],
          "choropleth": [
           {
            "colorbar": {
             "outlinewidth": 0,
             "ticks": ""
            },
            "type": "choropleth"
           }
          ],
          "contour": [
           {
            "colorbar": {
             "outlinewidth": 0,
             "ticks": ""
            },
            "colorscale": [
             [
              0,
              "#0d0887"
             ],
             [
              0.1111111111111111,
              "#46039f"
             ],
             [
              0.2222222222222222,
              "#7201a8"
             ],
             [
              0.3333333333333333,
              "#9c179e"
             ],
             [
              0.4444444444444444,
              "#bd3786"
             ],
             [
              0.5555555555555556,
              "#d8576b"
             ],
             [
              0.6666666666666666,
              "#ed7953"
             ],
             [
              0.7777777777777778,
              "#fb9f3a"
             ],
             [
              0.8888888888888888,
              "#fdca26"
             ],
             [
              1,
              "#f0f921"
             ]
            ],
            "type": "contour"
           }
          ],
          "contourcarpet": [
           {
            "colorbar": {
             "outlinewidth": 0,
             "ticks": ""
            },
            "type": "contourcarpet"
           }
          ],
          "heatmap": [
           {
            "colorbar": {
             "outlinewidth": 0,
             "ticks": ""
            },
            "colorscale": [
             [
              0,
              "#0d0887"
             ],
             [
              0.1111111111111111,
              "#46039f"
             ],
             [
              0.2222222222222222,
              "#7201a8"
             ],
             [
              0.3333333333333333,
              "#9c179e"
             ],
             [
              0.4444444444444444,
              "#bd3786"
             ],
             [
              0.5555555555555556,
              "#d8576b"
             ],
             [
              0.6666666666666666,
              "#ed7953"
             ],
             [
              0.7777777777777778,
              "#fb9f3a"
             ],
             [
              0.8888888888888888,
              "#fdca26"
             ],
             [
              1,
              "#f0f921"
             ]
            ],
            "type": "heatmap"
           }
          ],
          "heatmapgl": [
           {
            "colorbar": {
             "outlinewidth": 0,
             "ticks": ""
            },
            "colorscale": [
             [
              0,
              "#0d0887"
             ],
             [
              0.1111111111111111,
              "#46039f"
             ],
             [
              0.2222222222222222,
              "#7201a8"
             ],
             [
              0.3333333333333333,
              "#9c179e"
             ],
             [
              0.4444444444444444,
              "#bd3786"
             ],
             [
              0.5555555555555556,
              "#d8576b"
             ],
             [
              0.6666666666666666,
              "#ed7953"
             ],
             [
              0.7777777777777778,
              "#fb9f3a"
             ],
             [
              0.8888888888888888,
              "#fdca26"
             ],
             [
              1,
              "#f0f921"
             ]
            ],
            "type": "heatmapgl"
           }
          ],
          "histogram": [
           {
            "marker": {
             "pattern": {
              "fillmode": "overlay",
              "size": 10,
              "solidity": 0.2
             }
            },
            "type": "histogram"
           }
          ],
          "histogram2d": [
           {
            "colorbar": {
             "outlinewidth": 0,
             "ticks": ""
            },
            "colorscale": [
             [
              0,
              "#0d0887"
             ],
             [
              0.1111111111111111,
              "#46039f"
             ],
             [
              0.2222222222222222,
              "#7201a8"
             ],
             [
              0.3333333333333333,
              "#9c179e"
             ],
             [
              0.4444444444444444,
              "#bd3786"
             ],
             [
              0.5555555555555556,
              "#d8576b"
             ],
             [
              0.6666666666666666,
              "#ed7953"
             ],
             [
              0.7777777777777778,
              "#fb9f3a"
             ],
             [
              0.8888888888888888,
              "#fdca26"
             ],
             [
              1,
              "#f0f921"
             ]
            ],
            "type": "histogram2d"
           }
          ],
          "histogram2dcontour": [
           {
            "colorbar": {
             "outlinewidth": 0,
             "ticks": ""
            },
            "colorscale": [
             [
              0,
              "#0d0887"
             ],
             [
              0.1111111111111111,
              "#46039f"
             ],
             [
              0.2222222222222222,
              "#7201a8"
             ],
             [
              0.3333333333333333,
              "#9c179e"
             ],
             [
              0.4444444444444444,
              "#bd3786"
             ],
             [
              0.5555555555555556,
              "#d8576b"
             ],
             [
              0.6666666666666666,
              "#ed7953"
             ],
             [
              0.7777777777777778,
              "#fb9f3a"
             ],
             [
              0.8888888888888888,
              "#fdca26"
             ],
             [
              1,
              "#f0f921"
             ]
            ],
            "type": "histogram2dcontour"
           }
          ],
          "mesh3d": [
           {
            "colorbar": {
             "outlinewidth": 0,
             "ticks": ""
            },
            "type": "mesh3d"
           }
          ],
          "parcoords": [
           {
            "line": {
             "colorbar": {
              "outlinewidth": 0,
              "ticks": ""
             }
            },
            "type": "parcoords"
           }
          ],
          "pie": [
           {
            "automargin": true,
            "type": "pie"
           }
          ],
          "scatter": [
           {
            "fillpattern": {
             "fillmode": "overlay",
             "size": 10,
             "solidity": 0.2
            },
            "type": "scatter"
           }
          ],
          "scatter3d": [
           {
            "line": {
             "colorbar": {
              "outlinewidth": 0,
              "ticks": ""
             }
            },
            "marker": {
             "colorbar": {
              "outlinewidth": 0,
              "ticks": ""
             }
            },
            "type": "scatter3d"
           }
          ],
          "scattercarpet": [
           {
            "marker": {
             "colorbar": {
              "outlinewidth": 0,
              "ticks": ""
             }
            },
            "type": "scattercarpet"
           }
          ],
          "scattergeo": [
           {
            "marker": {
             "colorbar": {
              "outlinewidth": 0,
              "ticks": ""
             }
            },
            "type": "scattergeo"
           }
          ],
          "scattergl": [
           {
            "marker": {
             "colorbar": {
              "outlinewidth": 0,
              "ticks": ""
             }
            },
            "type": "scattergl"
           }
          ],
          "scattermapbox": [
           {
            "marker": {
             "colorbar": {
              "outlinewidth": 0,
              "ticks": ""
             }
            },
            "type": "scattermapbox"
           }
          ],
          "scatterpolar": [
           {
            "marker": {
             "colorbar": {
              "outlinewidth": 0,
              "ticks": ""
             }
            },
            "type": "scatterpolar"
           }
          ],
          "scatterpolargl": [
           {
            "marker": {
             "colorbar": {
              "outlinewidth": 0,
              "ticks": ""
             }
            },
            "type": "scatterpolargl"
           }
          ],
          "scatterternary": [
           {
            "marker": {
             "colorbar": {
              "outlinewidth": 0,
              "ticks": ""
             }
            },
            "type": "scatterternary"
           }
          ],
          "surface": [
           {
            "colorbar": {
             "outlinewidth": 0,
             "ticks": ""
            },
            "colorscale": [
             [
              0,
              "#0d0887"
             ],
             [
              0.1111111111111111,
              "#46039f"
             ],
             [
              0.2222222222222222,
              "#7201a8"
             ],
             [
              0.3333333333333333,
              "#9c179e"
             ],
             [
              0.4444444444444444,
              "#bd3786"
             ],
             [
              0.5555555555555556,
              "#d8576b"
             ],
             [
              0.6666666666666666,
              "#ed7953"
             ],
             [
              0.7777777777777778,
              "#fb9f3a"
             ],
             [
              0.8888888888888888,
              "#fdca26"
             ],
             [
              1,
              "#f0f921"
             ]
            ],
            "type": "surface"
           }
          ],
          "table": [
           {
            "cells": {
             "fill": {
              "color": "#EBF0F8"
             },
             "line": {
              "color": "white"
             }
            },
            "header": {
             "fill": {
              "color": "#C8D4E3"
             },
             "line": {
              "color": "white"
             }
            },
            "type": "table"
           }
          ]
         },
         "layout": {
          "annotationdefaults": {
           "arrowcolor": "#2a3f5f",
           "arrowhead": 0,
           "arrowwidth": 1
          },
          "autotypenumbers": "strict",
          "coloraxis": {
           "colorbar": {
            "outlinewidth": 0,
            "ticks": ""
           }
          },
          "colorscale": {
           "diverging": [
            [
             0,
             "#8e0152"
            ],
            [
             0.1,
             "#c51b7d"
            ],
            [
             0.2,
             "#de77ae"
            ],
            [
             0.3,
             "#f1b6da"
            ],
            [
             0.4,
             "#fde0ef"
            ],
            [
             0.5,
             "#f7f7f7"
            ],
            [
             0.6,
             "#e6f5d0"
            ],
            [
             0.7,
             "#b8e186"
            ],
            [
             0.8,
             "#7fbc41"
            ],
            [
             0.9,
             "#4d9221"
            ],
            [
             1,
             "#276419"
            ]
           ],
           "sequential": [
            [
             0,
             "#0d0887"
            ],
            [
             0.1111111111111111,
             "#46039f"
            ],
            [
             0.2222222222222222,
             "#7201a8"
            ],
            [
             0.3333333333333333,
             "#9c179e"
            ],
            [
             0.4444444444444444,
             "#bd3786"
            ],
            [
             0.5555555555555556,
             "#d8576b"
            ],
            [
             0.6666666666666666,
             "#ed7953"
            ],
            [
             0.7777777777777778,
             "#fb9f3a"
            ],
            [
             0.8888888888888888,
             "#fdca26"
            ],
            [
             1,
             "#f0f921"
            ]
           ],
           "sequentialminus": [
            [
             0,
             "#0d0887"
            ],
            [
             0.1111111111111111,
             "#46039f"
            ],
            [
             0.2222222222222222,
             "#7201a8"
            ],
            [
             0.3333333333333333,
             "#9c179e"
            ],
            [
             0.4444444444444444,
             "#bd3786"
            ],
            [
             0.5555555555555556,
             "#d8576b"
            ],
            [
             0.6666666666666666,
             "#ed7953"
            ],
            [
             0.7777777777777778,
             "#fb9f3a"
            ],
            [
             0.8888888888888888,
             "#fdca26"
            ],
            [
             1,
             "#f0f921"
            ]
           ]
          },
          "colorway": [
           "#636efa",
           "#EF553B",
           "#00cc96",
           "#ab63fa",
           "#FFA15A",
           "#19d3f3",
           "#FF6692",
           "#B6E880",
           "#FF97FF",
           "#FECB52"
          ],
          "font": {
           "color": "#2a3f5f"
          },
          "geo": {
           "bgcolor": "white",
           "lakecolor": "white",
           "landcolor": "#E5ECF6",
           "showlakes": true,
           "showland": true,
           "subunitcolor": "white"
          },
          "hoverlabel": {
           "align": "left"
          },
          "hovermode": "closest",
          "mapbox": {
           "style": "light"
          },
          "paper_bgcolor": "white",
          "plot_bgcolor": "#E5ECF6",
          "polar": {
           "angularaxis": {
            "gridcolor": "white",
            "linecolor": "white",
            "ticks": ""
           },
           "bgcolor": "#E5ECF6",
           "radialaxis": {
            "gridcolor": "white",
            "linecolor": "white",
            "ticks": ""
           }
          },
          "scene": {
           "xaxis": {
            "backgroundcolor": "#E5ECF6",
            "gridcolor": "white",
            "gridwidth": 2,
            "linecolor": "white",
            "showbackground": true,
            "ticks": "",
            "zerolinecolor": "white"
           },
           "yaxis": {
            "backgroundcolor": "#E5ECF6",
            "gridcolor": "white",
            "gridwidth": 2,
            "linecolor": "white",
            "showbackground": true,
            "ticks": "",
            "zerolinecolor": "white"
           },
           "zaxis": {
            "backgroundcolor": "#E5ECF6",
            "gridcolor": "white",
            "gridwidth": 2,
            "linecolor": "white",
            "showbackground": true,
            "ticks": "",
            "zerolinecolor": "white"
           }
          },
          "shapedefaults": {
           "line": {
            "color": "#2a3f5f"
           }
          },
          "ternary": {
           "aaxis": {
            "gridcolor": "white",
            "linecolor": "white",
            "ticks": ""
           },
           "baxis": {
            "gridcolor": "white",
            "linecolor": "white",
            "ticks": ""
           },
           "bgcolor": "#E5ECF6",
           "caxis": {
            "gridcolor": "white",
            "linecolor": "white",
            "ticks": ""
           }
          },
          "title": {
           "x": 0.05
          },
          "xaxis": {
           "automargin": true,
           "gridcolor": "white",
           "linecolor": "white",
           "ticks": "",
           "title": {
            "standoff": 15
           },
           "zerolinecolor": "white",
           "zerolinewidth": 2
          },
          "yaxis": {
           "automargin": true,
           "gridcolor": "white",
           "linecolor": "white",
           "ticks": "",
           "title": {
            "standoff": 15
           },
           "zerolinecolor": "white",
           "zerolinewidth": 2
          }
         }
        },
        "title": {
         "text": "Динамика изменения среднегодовой температуры за последний из 4-х сегментов"
        }
       }
      },
      "text/html": [
       "<div>                            <div id=\"1b3bd97f-14cc-49c2-919e-bbf13474994b\" class=\"plotly-graph-div\" style=\"height:525px; width:100%;\"></div>            <script type=\"text/javascript\">                require([\"plotly\"], function(Plotly) {                    window.PLOTLYENV=window.PLOTLYENV || {};                                    if (document.getElementById(\"1b3bd97f-14cc-49c2-919e-bbf13474994b\")) {                    Plotly.newPlot(                        \"1b3bd97f-14cc-49c2-919e-bbf13474994b\",                        [{\"customdata\":[[0.02788621391192302],[2.9556320504213986],[0.0302230447429857],[0.04339793444799],[-0.24515932669261947],[1.814757902145342],[0.049219457095367916],[0.5681449929973637],[0.5347384205359609],[0.013470384175780416],[0.004568205128183167],[0.00932379576227736],[-0.3349710116267296],[0.005464434523383357],[0.05281217603696447],[0.4378478699204301],[0.014340914374131262],[-0.012561735336638076],[0.030861863759218542],[1.7164980683871196],[3.0705302616343975],[0.03997562273195647],[56.0334273582058],[-0.7776249987632865],[0.2522519538988633],[0.02175033178151558],[0.02266614881926038],[0.02425999897437291],[0.018831798245614085],[0.03160305438329062],[-0.005720843829047483],[0.0528119207774961],[1.6569992111941665],[-0.7668286843097482],[0.4776298083102933],[0.29209904392895564],[0.832646335649707],[0.032555498099606305],[1.1810208333333396],[0.8081875000000024],[0.022741325533992534],[0.05480992384006588],[0.047750455926441324],[1.705334608705853],[0.028354769242927715],[0.04881574275362443],[0.018026794155023663],[-0.010823958354405553],[0.09208820807315377],[0.20170094246851608],[-0.14099130768917736],[0.031604814431834743],[0.018026794155011832],[0.01721294396695326],[-0.11053265511925568],[1.1238084826141532],[0.015359343434350161],[0.6332966672541769],[0.013461027786827718],[0.5325838448642596],[1.7587452078793984],[0.036376225490196056],[0.9143344775639004],[0.019629154862106018],[0.5151396503440909],[0.0808928669277631],[0.022335775512699198],[1.8553939521391647],[0.03612015716566694],[1.7532491328005242],[0.022663293815881416],[0.36067045072739257],[0.0027910907251955893],[1.8457464671038348],[0.02748535459771528],[0.04819722927714404],[0.019262286034979852],[0.0657671173923188],[0.041992606317263946],[0.05351106220442564],[0.025108755472173505],[0.011334491495143173],[0.016779299035894497],[0.027760077587205566],[1.385231662560641],[2.9904652836682657],[0.015390912498895385],[-0.04167764755909681],[0.020557266991281867],[0.02510383529399416],[-3.387890097434078],[-0.028898054446949144],[2.471190542153816],[11.736621290236483],[3.517474649007774],[0.02462436842818401],[0.5243889057785516],[0.05824468411055949],[3.2355668483825215],[2.2670793446776516]],\"geo\":\"geo\",\"hovertemplate\":\"<b>%{hovertext}</b><br><br>Latitude=%{lat}<br>Longitude=%{lon}<br>Original segment trend line slope=%{customdata[0]}<br>Segment trend line logslope=%{marker.color}<extra></extra>\",\"hovertext\":[\"Abidjan\",\"Addis Abeba\",\"Ahmadabad\",\"Aleppo\",\"Alexandria\",\"Ankara\",\"Baghdad\",\"Bangalore\",\"Bangkok\",\"Belo Horizonte\",\"Berlin\",\"Bogot\\u00e1\",\"Bombay\",\"Bras\\u00edlia\",\"Cairo\",\"Calcutta\",\"Cali\",\"Cape Town\",\"Casablanca\",\"Changchun\",\"Chengdu\",\"Chicago\",\"Chongqing\",\"Dakar\",\"Dalian\",\"Dar Es Salaam\",\"Delhi\",\"Dhaka\",\"Durban\",\"Faisalabad\",\"Fortaleza\",\"Gizeh\",\"Guangzhou\",\"Harare\",\"Harbin\",\"Ho Chi Minh City\",\"Hyderabad\",\"Ibadan\",\"Istanbul\",\"Izmir\",\"Jaipur\",\"Jakarta\",\"Jiddah\",\"Jinan\",\"Kabul\",\"Kano\",\"Kanpur\",\"Karachi\",\"Kiev\",\"Kinshasa\",\"Lagos\",\"Lahore\",\"Lakhnau\",\"Lima\",\"London\",\"Los Angeles\",\"Luanda\",\"Madras\",\"Madrid\",\"Manila\",\"Mashhad\",\"Melbourne\",\"Mexico\",\"Mogadishu\",\"Montreal\",\"Moscow\",\"Nagoya\",\"Nagpur\",\"Nairobi\",\"Nanjing\",\"New Delhi\",\"New York\",\"Paris\",\"Peking\",\"Pune\",\"Rangoon\",\"Rio De Janeiro\",\"Riyadh\",\"Rome\",\"Saint Petersburg\",\"Salvador\",\"Santiago\",\"Santo Domingo\",\"Seoul\",\"Shanghai\",\"Shenyang\",\"Singapore\",\"Surabaya\",\"Surat\",\"Sydney\",\"S\\u00e3o Paulo\",\"Taipei\",\"Taiyuan\",\"Tangshan\",\"Tianjin\",\"Tokyo\",\"Toronto\",\"Umm Durman\",\"Wuhan\",\"Xian\"],\"lat\":[5.63,8.84,23.31,36.17,31.35,39.38,32.95,12.05,13.66,-20.09,52.24,4.02,18.48,-15.27,29.74,23.31,4.02,-32.95,32.95,44.2,31.35,42.59,29.74,15.27,39.38,-7.23,28.13,23.31,-29.74,31.35,-4.02,29.74,23.31,-18.48,45.81,10.45,16.87,7.23,40.99,37.78,26.52,-5.63,21.7,36.17,34.56,12.05,26.52,24.92,50.63,-4.02,5.63,31.35,26.52,-12.05,52.24,34.56,-8.84,13.66,40.99,15.27,36.17,-37.78,20.09,2.41,45.81,55.45,34.56,21.7,-0.8,31.35,28.13,40.99,49.03,39.38,18.48,16.87,-23.31,24.92,42.59,60.27,-13.66,-32.95,18.48,37.78,31.35,40.99,0.8,-7.23,21.7,-34.56,-23.31,24.92,37.78,37.78,39.38,36.17,44.2,15.27,29.74,34.56],\"legendgroup\":\"\",\"lon\":[-3.23,38.11,72.52,37.79,30.16,33.29,45.0,77.26,99.91,-44.36,13.14,-74.73,72.68,-47.5,31.38,88.25,-76.34,18.19,-6.7,125.22,103.66,-87.27,107.08,-17.5,120.69,39.73,77.27,90.0,31.38,73.51,-40.98,31.38,112.72,30.42,125.77,107.18,78.7,4.05,29.82,26.44,75.22,106.55,38.94,117.35,70.05,8.22,80.6,67.39,31.69,15.27,3.23,73.51,80.6,-77.26,-0.0,-118.7,13.78,80.09,-4.26,120.83,59.67,144.41,-98.96,45.8,-72.69,36.85,136.22,78.75,36.16,118.74,77.27,-74.56,2.45,116.53,74.37,95.44,-42.82,46.11,13.09,29.19,-38.81,-69.89,-69.3,126.1,120.63,123.55,103.66,112.7,73.56,151.78,-46.31,122.36,111.86,113.9,116.53,139.23,-80.5,32.5,114.46,108.97],\"marker\":{\"color\":[1.4851836535582252,1.9938185841880964,1.4857127140355757,1.4886902939146869,1.4213551768517854,1.8249762975775665,1.4900031632187143,1.6006060441355836,1.5938426394625558,1.4819136934975106,1.4798890481626314,1.4809711342728324,1.3994373834220537,1.4800930655746092,1.4908125336373106,1.5739636696977808,1.482111460556975,1.4759815711868531,1.4858572944970567,1.8090078840017483,2.009343643679727,1.4879176892208177,4.101341980680084,1.2837812041834513,1.5347449802809592,1.4837931508093072,1.4840008144419297,1.484362120850768,1.483131078735824,1.4860250179797916,1.4775438651660695,1.4908124761555295,1.7992131726713523,1.2867671909059963,1.5821735764737515,1.5432957897052897,1.6526001615731702,1.4862405044774298,1.7171995107226572,1.6479040327680652,1.4840178590208577,1.491262304517992,1.4896720367552196,1.8071774499790638,1.4852897573190749,1.489912173193778,1.4829483856487111,1.4763786686908185,1.4996182038944617,1.5237909220425487,1.4461890200476188,1.486025416226408,1.4829483856487082,1.482763651033065,1.4533353988915723,1.7068728478997572,1.482342777648696,1.6136663130722508,1.481911567700513,1.5934048556002403,1.815904827274894,1.4871044619841234,1.6681264636272997,1.4833120033566238,1.5898533299111777,1.4971161040733854,1.4839259065024177,1.8315063339350401,1.4870465821648484,1.8150102673316775,1.484000167130311,1.5578415296275732,1.479484383195369,1.8299598807265303,1.4850928705380206,1.4897727552076157,1.4832287628588496,1.4937256046760248,1.488373105998003,1.4909699031555033,1.484554470352242,1.4814282956051084,1.482665204691921,1.4851550882239795,1.7532129671424896,1.9985507656889427,1.482349947115655,1.4693047646419808,1.4835225559081373,1.4845533554231232,0.0,1.4722408478329627,1.9255734152038542,2.7803405606829252,2.0675416108293274,1.4844447006364236,1.5917379895600678,1.4920351303197177,2.0312299342525995,1.8953638601177847],\"coloraxis\":\"coloraxis\",\"symbol\":\"circle\"},\"mode\":\"markers\",\"name\":\"\",\"showlegend\":false,\"type\":\"scattergeo\"}],                        {\"template\":{\"data\":{\"histogram2dcontour\":[{\"type\":\"histogram2dcontour\",\"colorbar\":{\"outlinewidth\":0,\"ticks\":\"\"},\"colorscale\":[[0.0,\"#0d0887\"],[0.1111111111111111,\"#46039f\"],[0.2222222222222222,\"#7201a8\"],[0.3333333333333333,\"#9c179e\"],[0.4444444444444444,\"#bd3786\"],[0.5555555555555556,\"#d8576b\"],[0.6666666666666666,\"#ed7953\"],[0.7777777777777778,\"#fb9f3a\"],[0.8888888888888888,\"#fdca26\"],[1.0,\"#f0f921\"]]}],\"choropleth\":[{\"type\":\"choropleth\",\"colorbar\":{\"outlinewidth\":0,\"ticks\":\"\"}}],\"histogram2d\":[{\"type\":\"histogram2d\",\"colorbar\":{\"outlinewidth\":0,\"ticks\":\"\"},\"colorscale\":[[0.0,\"#0d0887\"],[0.1111111111111111,\"#46039f\"],[0.2222222222222222,\"#7201a8\"],[0.3333333333333333,\"#9c179e\"],[0.4444444444444444,\"#bd3786\"],[0.5555555555555556,\"#d8576b\"],[0.6666666666666666,\"#ed7953\"],[0.7777777777777778,\"#fb9f3a\"],[0.8888888888888888,\"#fdca26\"],[1.0,\"#f0f921\"]]}],\"heatmap\":[{\"type\":\"heatmap\",\"colorbar\":{\"outlinewidth\":0,\"ticks\":\"\"},\"colorscale\":[[0.0,\"#0d0887\"],[0.1111111111111111,\"#46039f\"],[0.2222222222222222,\"#7201a8\"],[0.3333333333333333,\"#9c179e\"],[0.4444444444444444,\"#bd3786\"],[0.5555555555555556,\"#d8576b\"],[0.6666666666666666,\"#ed7953\"],[0.7777777777777778,\"#fb9f3a\"],[0.8888888888888888,\"#fdca26\"],[1.0,\"#f0f921\"]]}],\"heatmapgl\":[{\"type\":\"heatmapgl\",\"colorbar\":{\"outlinewidth\":0,\"ticks\":\"\"},\"colorscale\":[[0.0,\"#0d0887\"],[0.1111111111111111,\"#46039f\"],[0.2222222222222222,\"#7201a8\"],[0.3333333333333333,\"#9c179e\"],[0.4444444444444444,\"#bd3786\"],[0.5555555555555556,\"#d8576b\"],[0.6666666666666666,\"#ed7953\"],[0.7777777777777778,\"#fb9f3a\"],[0.8888888888888888,\"#fdca26\"],[1.0,\"#f0f921\"]]}],\"contourcarpet\":[{\"type\":\"contourcarpet\",\"colorbar\":{\"outlinewidth\":0,\"ticks\":\"\"}}],\"contour\":[{\"type\":\"contour\",\"colorbar\":{\"outlinewidth\":0,\"ticks\":\"\"},\"colorscale\":[[0.0,\"#0d0887\"],[0.1111111111111111,\"#46039f\"],[0.2222222222222222,\"#7201a8\"],[0.3333333333333333,\"#9c179e\"],[0.4444444444444444,\"#bd3786\"],[0.5555555555555556,\"#d8576b\"],[0.6666666666666666,\"#ed7953\"],[0.7777777777777778,\"#fb9f3a\"],[0.8888888888888888,\"#fdca26\"],[1.0,\"#f0f921\"]]}],\"surface\":[{\"type\":\"surface\",\"colorbar\":{\"outlinewidth\":0,\"ticks\":\"\"},\"colorscale\":[[0.0,\"#0d0887\"],[0.1111111111111111,\"#46039f\"],[0.2222222222222222,\"#7201a8\"],[0.3333333333333333,\"#9c179e\"],[0.4444444444444444,\"#bd3786\"],[0.5555555555555556,\"#d8576b\"],[0.6666666666666666,\"#ed7953\"],[0.7777777777777778,\"#fb9f3a\"],[0.8888888888888888,\"#fdca26\"],[1.0,\"#f0f921\"]]}],\"mesh3d\":[{\"type\":\"mesh3d\",\"colorbar\":{\"outlinewidth\":0,\"ticks\":\"\"}}],\"scatter\":[{\"fillpattern\":{\"fillmode\":\"overlay\",\"size\":10,\"solidity\":0.2},\"type\":\"scatter\"}],\"parcoords\":[{\"type\":\"parcoords\",\"line\":{\"colorbar\":{\"outlinewidth\":0,\"ticks\":\"\"}}}],\"scatterpolargl\":[{\"type\":\"scatterpolargl\",\"marker\":{\"colorbar\":{\"outlinewidth\":0,\"ticks\":\"\"}}}],\"bar\":[{\"error_x\":{\"color\":\"#2a3f5f\"},\"error_y\":{\"color\":\"#2a3f5f\"},\"marker\":{\"line\":{\"color\":\"#E5ECF6\",\"width\":0.5},\"pattern\":{\"fillmode\":\"overlay\",\"size\":10,\"solidity\":0.2}},\"type\":\"bar\"}],\"scattergeo\":[{\"type\":\"scattergeo\",\"marker\":{\"colorbar\":{\"outlinewidth\":0,\"ticks\":\"\"}}}],\"scatterpolar\":[{\"type\":\"scatterpolar\",\"marker\":{\"colorbar\":{\"outlinewidth\":0,\"ticks\":\"\"}}}],\"histogram\":[{\"marker\":{\"pattern\":{\"fillmode\":\"overlay\",\"size\":10,\"solidity\":0.2}},\"type\":\"histogram\"}],\"scattergl\":[{\"type\":\"scattergl\",\"marker\":{\"colorbar\":{\"outlinewidth\":0,\"ticks\":\"\"}}}],\"scatter3d\":[{\"type\":\"scatter3d\",\"line\":{\"colorbar\":{\"outlinewidth\":0,\"ticks\":\"\"}},\"marker\":{\"colorbar\":{\"outlinewidth\":0,\"ticks\":\"\"}}}],\"scattermapbox\":[{\"type\":\"scattermapbox\",\"marker\":{\"colorbar\":{\"outlinewidth\":0,\"ticks\":\"\"}}}],\"scatterternary\":[{\"type\":\"scatterternary\",\"marker\":{\"colorbar\":{\"outlinewidth\":0,\"ticks\":\"\"}}}],\"scattercarpet\":[{\"type\":\"scattercarpet\",\"marker\":{\"colorbar\":{\"outlinewidth\":0,\"ticks\":\"\"}}}],\"carpet\":[{\"aaxis\":{\"endlinecolor\":\"#2a3f5f\",\"gridcolor\":\"white\",\"linecolor\":\"white\",\"minorgridcolor\":\"white\",\"startlinecolor\":\"#2a3f5f\"},\"baxis\":{\"endlinecolor\":\"#2a3f5f\",\"gridcolor\":\"white\",\"linecolor\":\"white\",\"minorgridcolor\":\"white\",\"startlinecolor\":\"#2a3f5f\"},\"type\":\"carpet\"}],\"table\":[{\"cells\":{\"fill\":{\"color\":\"#EBF0F8\"},\"line\":{\"color\":\"white\"}},\"header\":{\"fill\":{\"color\":\"#C8D4E3\"},\"line\":{\"color\":\"white\"}},\"type\":\"table\"}],\"barpolar\":[{\"marker\":{\"line\":{\"color\":\"#E5ECF6\",\"width\":0.5},\"pattern\":{\"fillmode\":\"overlay\",\"size\":10,\"solidity\":0.2}},\"type\":\"barpolar\"}],\"pie\":[{\"automargin\":true,\"type\":\"pie\"}]},\"layout\":{\"autotypenumbers\":\"strict\",\"colorway\":[\"#636efa\",\"#EF553B\",\"#00cc96\",\"#ab63fa\",\"#FFA15A\",\"#19d3f3\",\"#FF6692\",\"#B6E880\",\"#FF97FF\",\"#FECB52\"],\"font\":{\"color\":\"#2a3f5f\"},\"hovermode\":\"closest\",\"hoverlabel\":{\"align\":\"left\"},\"paper_bgcolor\":\"white\",\"plot_bgcolor\":\"#E5ECF6\",\"polar\":{\"bgcolor\":\"#E5ECF6\",\"angularaxis\":{\"gridcolor\":\"white\",\"linecolor\":\"white\",\"ticks\":\"\"},\"radialaxis\":{\"gridcolor\":\"white\",\"linecolor\":\"white\",\"ticks\":\"\"}},\"ternary\":{\"bgcolor\":\"#E5ECF6\",\"aaxis\":{\"gridcolor\":\"white\",\"linecolor\":\"white\",\"ticks\":\"\"},\"baxis\":{\"gridcolor\":\"white\",\"linecolor\":\"white\",\"ticks\":\"\"},\"caxis\":{\"gridcolor\":\"white\",\"linecolor\":\"white\",\"ticks\":\"\"}},\"coloraxis\":{\"colorbar\":{\"outlinewidth\":0,\"ticks\":\"\"}},\"colorscale\":{\"sequential\":[[0.0,\"#0d0887\"],[0.1111111111111111,\"#46039f\"],[0.2222222222222222,\"#7201a8\"],[0.3333333333333333,\"#9c179e\"],[0.4444444444444444,\"#bd3786\"],[0.5555555555555556,\"#d8576b\"],[0.6666666666666666,\"#ed7953\"],[0.7777777777777778,\"#fb9f3a\"],[0.8888888888888888,\"#fdca26\"],[1.0,\"#f0f921\"]],\"sequentialminus\":[[0.0,\"#0d0887\"],[0.1111111111111111,\"#46039f\"],[0.2222222222222222,\"#7201a8\"],[0.3333333333333333,\"#9c179e\"],[0.4444444444444444,\"#bd3786\"],[0.5555555555555556,\"#d8576b\"],[0.6666666666666666,\"#ed7953\"],[0.7777777777777778,\"#fb9f3a\"],[0.8888888888888888,\"#fdca26\"],[1.0,\"#f0f921\"]],\"diverging\":[[0,\"#8e0152\"],[0.1,\"#c51b7d\"],[0.2,\"#de77ae\"],[0.3,\"#f1b6da\"],[0.4,\"#fde0ef\"],[0.5,\"#f7f7f7\"],[0.6,\"#e6f5d0\"],[0.7,\"#b8e186\"],[0.8,\"#7fbc41\"],[0.9,\"#4d9221\"],[1,\"#276419\"]]},\"xaxis\":{\"gridcolor\":\"white\",\"linecolor\":\"white\",\"ticks\":\"\",\"title\":{\"standoff\":15},\"zerolinecolor\":\"white\",\"automargin\":true,\"zerolinewidth\":2},\"yaxis\":{\"gridcolor\":\"white\",\"linecolor\":\"white\",\"ticks\":\"\",\"title\":{\"standoff\":15},\"zerolinecolor\":\"white\",\"automargin\":true,\"zerolinewidth\":2},\"scene\":{\"xaxis\":{\"backgroundcolor\":\"#E5ECF6\",\"gridcolor\":\"white\",\"linecolor\":\"white\",\"showbackground\":true,\"ticks\":\"\",\"zerolinecolor\":\"white\",\"gridwidth\":2},\"yaxis\":{\"backgroundcolor\":\"#E5ECF6\",\"gridcolor\":\"white\",\"linecolor\":\"white\",\"showbackground\":true,\"ticks\":\"\",\"zerolinecolor\":\"white\",\"gridwidth\":2},\"zaxis\":{\"backgroundcolor\":\"#E5ECF6\",\"gridcolor\":\"white\",\"linecolor\":\"white\",\"showbackground\":true,\"ticks\":\"\",\"zerolinecolor\":\"white\",\"gridwidth\":2}},\"shapedefaults\":{\"line\":{\"color\":\"#2a3f5f\"}},\"annotationdefaults\":{\"arrowcolor\":\"#2a3f5f\",\"arrowhead\":0,\"arrowwidth\":1},\"geo\":{\"bgcolor\":\"white\",\"landcolor\":\"#E5ECF6\",\"subunitcolor\":\"white\",\"showland\":true,\"showlakes\":true,\"lakecolor\":\"white\"},\"title\":{\"x\":0.05},\"mapbox\":{\"style\":\"light\"}}},\"geo\":{\"domain\":{\"x\":[0.0,1.0],\"y\":[0.0,1.0]},\"center\":{}},\"coloraxis\":{\"colorbar\":{\"title\":{\"text\":\"Segment trend line logslope\"}},\"colorscale\":[[0.0,\"#0d0887\"],[0.1111111111111111,\"#46039f\"],[0.2222222222222222,\"#7201a8\"],[0.3333333333333333,\"#9c179e\"],[0.4444444444444444,\"#bd3786\"],[0.5555555555555556,\"#d8576b\"],[0.6666666666666666,\"#ed7953\"],[0.7777777777777778,\"#fb9f3a\"],[0.8888888888888888,\"#fdca26\"],[1.0,\"#f0f921\"]]},\"legend\":{\"tracegroupgap\":0},\"title\":{\"text\":\"\\u0414\\u0438\\u043d\\u0430\\u043c\\u0438\\u043a\\u0430 \\u0438\\u0437\\u043c\\u0435\\u043d\\u0435\\u043d\\u0438\\u044f \\u0441\\u0440\\u0435\\u0434\\u043d\\u0435\\u0433\\u043e\\u0434\\u043e\\u0432\\u043e\\u0439 \\u0442\\u0435\\u043c\\u043f\\u0435\\u0440\\u0430\\u0442\\u0443\\u0440\\u044b \\u0437\\u0430 \\u043f\\u043e\\u0441\\u043b\\u0435\\u0434\\u043d\\u0438\\u0439 \\u0438\\u0437 4-\\u0445 \\u0441\\u0435\\u0433\\u043c\\u0435\\u043d\\u0442\\u043e\\u0432\"}},                        {\"responsive\": true}                    ).then(function(){\n",
       "                            \n",
       "var gd = document.getElementById('1b3bd97f-14cc-49c2-919e-bbf13474994b');\n",
       "var x = new MutationObserver(function (mutations, observer) {{\n",
       "        var display = window.getComputedStyle(gd).display;\n",
       "        if (!display || display === 'none') {{\n",
       "            console.log([gd, 'removed!']);\n",
       "            Plotly.purge(gd);\n",
       "            observer.disconnect();\n",
       "        }}\n",
       "}});\n",
       "\n",
       "// Listen for the removal of the full notebook cells\n",
       "var notebookContainer = gd.closest('#notebook-container');\n",
       "if (notebookContainer) {{\n",
       "    x.observe(notebookContainer, {childList: true});\n",
       "}}\n",
       "\n",
       "// Listen for the clearing of the current output cell\n",
       "var outputEl = gd.closest('.output');\n",
       "if (outputEl) {{\n",
       "    x.observe(outputEl, {childList: true});\n",
       "}}\n",
       "\n",
       "                        })                };                });            </script>        </div>"
      ]
     },
     "metadata": {},
     "output_type": "display_data"
    }
   ],
   "source": [
    "hover_data = {'Original segment trend line slope': last_decade_avg_jan_df['Segment trend line slope']}\n",
    "\n",
    "fig = px.scatter_geo(last_decade_avg_jan_df,\n",
    "                     lat=last_decade_avg_jan_df.Latitude,\n",
    "                     lon=last_decade_avg_jan_df.Longitude,\n",
    "                     hover_name=last_decade_avg_jan_df.index,\n",
    "                     hover_data=hover_data,\n",
    "                     color=last_decade_avg_jan_df['Segment trend line logslope'],\n",
    "                     title=\"Динамика изменения среднегодовой температуры за последний из 4-х сегментов\"\n",
    "                    )\n",
    "fig.show()"
   ]
  },
  {
   "cell_type": "markdown",
   "metadata": {},
   "source": [
    "# *Задание 3.8 (8 баллов)\n",
    "\n",
    "Цель - создать проект, который как минимум включает:\n",
    "1. Использование юнит-тестов ([pytest](https://pytest.org)).\n",
    "2. Применение средств форматирования и проверки исходного кода (например: [isort](https://pycqa.github.io/isort/), [black](https://black.readthedocs.io/en/stable/), [flake8](https://flake8.pycqa.org/en/latest/), [mypy](https://mypy.readthedocs.io/en/stable/)).\n",
    "3. Спецификацию проекта в [pyproject.toml](https://pip.pypa.io/en/stable/reference/build-system/pyproject-toml/).\n",
    "4. Использование утилит для работы с командной строкой ([argparse](https://docs.python.org/3/library/argparse.html), [click](https://click.palletsprojects.com/en/8.1.x/) и т.п.)\n",
    "5. Сборку проекта в Wheel-файл.\n",
    "\n",
    "Проект должен быть загружен в репозиторий. Функционал - произвольный, но должны использоваться данные из этого домашнего задания. Сам файл передается в качестве первого аргумента командной строки.  Например:\n",
    "\n",
    "> python3 -m homeproject.app GlobalLandTemperaturesByMajorCity.csv 1980\n",
    "\n",
    "Выдает самый жаркий месяц и город по наблюдениям за 1980 год."
   ]
  },
  {
   "cell_type": "markdown",
   "metadata": {},
   "source": [
    "*Ссылка на проект*"
   ]
  },
  {
   "cell_type": "markdown",
   "metadata": {},
   "source": []
  }
 ],
 "metadata": {
  "kernelspec": {
   "display_name": "Python 3 (ipykernel)",
   "language": "python",
   "name": "python3"
  },
  "language_info": {
   "codemirror_mode": {
    "name": "ipython",
    "version": 3
   },
   "file_extension": ".py",
   "mimetype": "text/x-python",
   "name": "python",
   "nbconvert_exporter": "python",
   "pygments_lexer": "ipython3",
   "version": "3.9.13"
  },
  "vscode": {
   "interpreter": {
    "hash": "916dbcbb3f70747c44a77c7bcd40155683ae19c65e1c03b4aa3499c5328201f1"
   }
  }
 },
 "nbformat": 4,
 "nbformat_minor": 2
}
